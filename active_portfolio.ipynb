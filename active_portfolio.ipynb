{
 "cells": [
  {
   "cell_type": "code",
   "execution_count": 1,
   "id": "initial_id",
   "metadata": {
    "collapsed": true,
    "ExecuteTime": {
     "end_time": "2023-11-07T22:58:10.591822348Z",
     "start_time": "2023-11-07T22:58:10.079093911Z"
    }
   },
   "outputs": [],
   "source": [
    "import pandas as pd\n",
    "import yfinance as yf"
   ]
  },
  {
   "cell_type": "code",
   "execution_count": 3,
   "outputs": [],
   "source": [
    "initial_companies = ['ASML', 'GOOG', 'ACN', 'AAPL', 'SONY', 'INTU', 'V', 'MA', 'BX', 'TTE', 'GOOGL']"
   ],
   "metadata": {
    "collapsed": false,
    "ExecuteTime": {
     "end_time": "2023-11-07T22:58:32.182274519Z",
     "start_time": "2023-11-07T22:58:32.152952703Z"
    }
   },
   "id": "bf9f0d57691c9fe1"
  },
  {
   "cell_type": "code",
   "execution_count": 4,
   "outputs": [],
   "source": [
    "yf_objs = []\n",
    "for company in initial_companies:\n",
    "    yf_objs.append(yf.Ticker(company))"
   ],
   "metadata": {
    "collapsed": false,
    "ExecuteTime": {
     "end_time": "2023-11-07T23:00:20.115540036Z",
     "start_time": "2023-11-07T23:00:20.093726362Z"
    }
   },
   "id": "8b6ef1bcfd69c2f0"
  },
  {
   "cell_type": "code",
   "execution_count": 6,
   "outputs": [
    {
     "data": {
      "text/plain": "                                 Open        High         Low       Close  \\\nDatetime                                                                    \n2023-10-09 09:30:00-04:00  324.750000  325.199799  323.589996  324.149994   \n2023-10-09 09:35:00-04:00  324.174988  324.540009  323.179993  324.174988   \n2023-10-09 09:40:00-04:00  324.183807  325.714996  323.850006  325.570007   \n2023-10-09 09:45:00-04:00  325.579987  326.859985  325.470001  326.839996   \n2023-10-09 09:50:00-04:00  326.829987  327.179993  326.190002  326.850006   \n...                               ...         ...         ...         ...   \n2023-11-07 15:35:00-05:00  361.239990  361.730011  361.230011  361.720001   \n2023-11-07 15:40:00-05:00  361.709991  361.829987  361.579987  361.769989   \n2023-11-07 15:45:00-05:00  361.789886  361.890015  361.320007  361.369995   \n2023-11-07 15:50:00-05:00  361.329987  361.339996  360.179993  360.269989   \n2023-11-07 15:55:00-05:00  360.269989  360.750000  359.940002  360.500000   \n\n                            Volume  Dividends  Stock Splits  \nDatetime                                                     \n2023-10-09 09:30:00-04:00  1512636        0.0           0.0  \n2023-10-09 09:35:00-04:00   590075        0.0           0.0  \n2023-10-09 09:40:00-04:00   435328        0.0           0.0  \n2023-10-09 09:45:00-04:00   453587        0.0           0.0  \n2023-10-09 09:50:00-04:00   327676        0.0           0.0  \n...                            ...        ...           ...  \n2023-11-07 15:35:00-05:00   236374        0.0           0.0  \n2023-11-07 15:40:00-05:00   297390        0.0           0.0  \n2023-11-07 15:45:00-05:00   333845        0.0           0.0  \n2023-11-07 15:50:00-05:00   661988        0.0           0.0  \n2023-11-07 15:55:00-05:00  1254484        0.0           0.0  \n\n[1716 rows x 7 columns]",
      "text/html": "<div>\n<style scoped>\n    .dataframe tbody tr th:only-of-type {\n        vertical-align: middle;\n    }\n\n    .dataframe tbody tr th {\n        vertical-align: top;\n    }\n\n    .dataframe thead th {\n        text-align: right;\n    }\n</style>\n<table border=\"1\" class=\"dataframe\">\n  <thead>\n    <tr style=\"text-align: right;\">\n      <th></th>\n      <th>Open</th>\n      <th>High</th>\n      <th>Low</th>\n      <th>Close</th>\n      <th>Volume</th>\n      <th>Dividends</th>\n      <th>Stock Splits</th>\n    </tr>\n    <tr>\n      <th>Datetime</th>\n      <th></th>\n      <th></th>\n      <th></th>\n      <th></th>\n      <th></th>\n      <th></th>\n      <th></th>\n    </tr>\n  </thead>\n  <tbody>\n    <tr>\n      <th>2023-10-09 09:30:00-04:00</th>\n      <td>324.750000</td>\n      <td>325.199799</td>\n      <td>323.589996</td>\n      <td>324.149994</td>\n      <td>1512636</td>\n      <td>0.0</td>\n      <td>0.0</td>\n    </tr>\n    <tr>\n      <th>2023-10-09 09:35:00-04:00</th>\n      <td>324.174988</td>\n      <td>324.540009</td>\n      <td>323.179993</td>\n      <td>324.174988</td>\n      <td>590075</td>\n      <td>0.0</td>\n      <td>0.0</td>\n    </tr>\n    <tr>\n      <th>2023-10-09 09:40:00-04:00</th>\n      <td>324.183807</td>\n      <td>325.714996</td>\n      <td>323.850006</td>\n      <td>325.570007</td>\n      <td>435328</td>\n      <td>0.0</td>\n      <td>0.0</td>\n    </tr>\n    <tr>\n      <th>2023-10-09 09:45:00-04:00</th>\n      <td>325.579987</td>\n      <td>326.859985</td>\n      <td>325.470001</td>\n      <td>326.839996</td>\n      <td>453587</td>\n      <td>0.0</td>\n      <td>0.0</td>\n    </tr>\n    <tr>\n      <th>2023-10-09 09:50:00-04:00</th>\n      <td>326.829987</td>\n      <td>327.179993</td>\n      <td>326.190002</td>\n      <td>326.850006</td>\n      <td>327676</td>\n      <td>0.0</td>\n      <td>0.0</td>\n    </tr>\n    <tr>\n      <th>...</th>\n      <td>...</td>\n      <td>...</td>\n      <td>...</td>\n      <td>...</td>\n      <td>...</td>\n      <td>...</td>\n      <td>...</td>\n    </tr>\n    <tr>\n      <th>2023-11-07 15:35:00-05:00</th>\n      <td>361.239990</td>\n      <td>361.730011</td>\n      <td>361.230011</td>\n      <td>361.720001</td>\n      <td>236374</td>\n      <td>0.0</td>\n      <td>0.0</td>\n    </tr>\n    <tr>\n      <th>2023-11-07 15:40:00-05:00</th>\n      <td>361.709991</td>\n      <td>361.829987</td>\n      <td>361.579987</td>\n      <td>361.769989</td>\n      <td>297390</td>\n      <td>0.0</td>\n      <td>0.0</td>\n    </tr>\n    <tr>\n      <th>2023-11-07 15:45:00-05:00</th>\n      <td>361.789886</td>\n      <td>361.890015</td>\n      <td>361.320007</td>\n      <td>361.369995</td>\n      <td>333845</td>\n      <td>0.0</td>\n      <td>0.0</td>\n    </tr>\n    <tr>\n      <th>2023-11-07 15:50:00-05:00</th>\n      <td>361.329987</td>\n      <td>361.339996</td>\n      <td>360.179993</td>\n      <td>360.269989</td>\n      <td>661988</td>\n      <td>0.0</td>\n      <td>0.0</td>\n    </tr>\n    <tr>\n      <th>2023-11-07 15:55:00-05:00</th>\n      <td>360.269989</td>\n      <td>360.750000</td>\n      <td>359.940002</td>\n      <td>360.500000</td>\n      <td>1254484</td>\n      <td>0.0</td>\n      <td>0.0</td>\n    </tr>\n  </tbody>\n</table>\n<p>1716 rows × 7 columns</p>\n</div>"
     },
     "execution_count": 6,
     "metadata": {},
     "output_type": "execute_result"
    }
   ],
   "source": [
    "msft.history(interval='5m')"
   ],
   "metadata": {
    "collapsed": false,
    "ExecuteTime": {
     "end_time": "2023-11-07T22:52:49.883155865Z",
     "start_time": "2023-11-07T22:52:49.527767165Z"
    }
   },
   "id": "ec3acabb7805eb01"
  },
  {
   "cell_type": "code",
   "execution_count": 25,
   "outputs": [
    {
     "name": "stdout",
     "output_type": "stream",
     "text": [
      "(1716, 7)\n",
      "(1716, 7)\n",
      "(1716, 7)\n",
      "(1716, 7)\n",
      "(1709, 7)\n",
      "(1716, 7)\n",
      "(1716, 7)\n",
      "(1716, 7)\n",
      "(1716, 7)\n",
      "(1716, 7)\n",
      "(1716, 7)\n"
     ]
    }
   ],
   "source": [
    "for comp_obj in yf_objs:\n",
    "    print(comp_obj.history(interval='5m').shape)"
   ],
   "metadata": {
    "collapsed": false,
    "ExecuteTime": {
     "end_time": "2023-11-07T23:11:14.982087785Z",
     "start_time": "2023-11-07T23:11:11.221445973Z"
    }
   },
   "id": "771ea820f69862d8"
  },
  {
   "cell_type": "code",
   "execution_count": 26,
   "outputs": [
    {
     "data": {
      "text/plain": "                                 Open        High         Low       Close  \\\nDatetime                                                                    \n2023-10-09 09:30:00-04:00  587.650024  589.309998  583.869995  583.955017   \n2023-10-09 09:35:00-04:00  583.210022  584.614990  582.409973  584.380005   \n2023-10-09 09:40:00-04:00  584.429993  586.650024  583.090027  586.289978   \n2023-10-09 09:45:00-04:00  586.750000  587.619995  585.140015  587.549988   \n2023-10-09 09:50:00-04:00  587.609985  587.830017  585.669983  587.390015   \n...                               ...         ...         ...         ...   \n2023-11-07 15:35:00-05:00  637.919983  638.049988  637.630005  637.820984   \n2023-11-07 15:40:00-05:00  637.909973  638.080017  637.775024  637.940002   \n2023-11-07 15:45:00-05:00  637.674988  637.820007  636.859985  637.289978   \n2023-11-07 15:50:00-05:00  636.880005  637.030029  636.349976  636.447510   \n2023-11-07 15:55:00-05:00  636.090027  636.700012  635.570007  636.179993   \n\n                           Volume  Dividends  Stock Splits  \nDatetime                                                    \n2023-10-09 09:30:00-04:00   56251        0.0           0.0  \n2023-10-09 09:35:00-04:00   26848        0.0           0.0  \n2023-10-09 09:40:00-04:00   20933        0.0           0.0  \n2023-10-09 09:45:00-04:00   21245        0.0           0.0  \n2023-10-09 09:50:00-04:00   15559        0.0           0.0  \n...                           ...        ...           ...  \n2023-11-07 15:35:00-05:00    6104        0.0           0.0  \n2023-11-07 15:40:00-05:00    5276        0.0           0.0  \n2023-11-07 15:45:00-05:00    8986        0.0           0.0  \n2023-11-07 15:50:00-05:00   15505        0.0           0.0  \n2023-11-07 15:55:00-05:00   33878        0.0           0.0  \n\n[1716 rows x 7 columns]",
      "text/html": "<div>\n<style scoped>\n    .dataframe tbody tr th:only-of-type {\n        vertical-align: middle;\n    }\n\n    .dataframe tbody tr th {\n        vertical-align: top;\n    }\n\n    .dataframe thead th {\n        text-align: right;\n    }\n</style>\n<table border=\"1\" class=\"dataframe\">\n  <thead>\n    <tr style=\"text-align: right;\">\n      <th></th>\n      <th>Open</th>\n      <th>High</th>\n      <th>Low</th>\n      <th>Close</th>\n      <th>Volume</th>\n      <th>Dividends</th>\n      <th>Stock Splits</th>\n    </tr>\n    <tr>\n      <th>Datetime</th>\n      <th></th>\n      <th></th>\n      <th></th>\n      <th></th>\n      <th></th>\n      <th></th>\n      <th></th>\n    </tr>\n  </thead>\n  <tbody>\n    <tr>\n      <th>2023-10-09 09:30:00-04:00</th>\n      <td>587.650024</td>\n      <td>589.309998</td>\n      <td>583.869995</td>\n      <td>583.955017</td>\n      <td>56251</td>\n      <td>0.0</td>\n      <td>0.0</td>\n    </tr>\n    <tr>\n      <th>2023-10-09 09:35:00-04:00</th>\n      <td>583.210022</td>\n      <td>584.614990</td>\n      <td>582.409973</td>\n      <td>584.380005</td>\n      <td>26848</td>\n      <td>0.0</td>\n      <td>0.0</td>\n    </tr>\n    <tr>\n      <th>2023-10-09 09:40:00-04:00</th>\n      <td>584.429993</td>\n      <td>586.650024</td>\n      <td>583.090027</td>\n      <td>586.289978</td>\n      <td>20933</td>\n      <td>0.0</td>\n      <td>0.0</td>\n    </tr>\n    <tr>\n      <th>2023-10-09 09:45:00-04:00</th>\n      <td>586.750000</td>\n      <td>587.619995</td>\n      <td>585.140015</td>\n      <td>587.549988</td>\n      <td>21245</td>\n      <td>0.0</td>\n      <td>0.0</td>\n    </tr>\n    <tr>\n      <th>2023-10-09 09:50:00-04:00</th>\n      <td>587.609985</td>\n      <td>587.830017</td>\n      <td>585.669983</td>\n      <td>587.390015</td>\n      <td>15559</td>\n      <td>0.0</td>\n      <td>0.0</td>\n    </tr>\n    <tr>\n      <th>...</th>\n      <td>...</td>\n      <td>...</td>\n      <td>...</td>\n      <td>...</td>\n      <td>...</td>\n      <td>...</td>\n      <td>...</td>\n    </tr>\n    <tr>\n      <th>2023-11-07 15:35:00-05:00</th>\n      <td>637.919983</td>\n      <td>638.049988</td>\n      <td>637.630005</td>\n      <td>637.820984</td>\n      <td>6104</td>\n      <td>0.0</td>\n      <td>0.0</td>\n    </tr>\n    <tr>\n      <th>2023-11-07 15:40:00-05:00</th>\n      <td>637.909973</td>\n      <td>638.080017</td>\n      <td>637.775024</td>\n      <td>637.940002</td>\n      <td>5276</td>\n      <td>0.0</td>\n      <td>0.0</td>\n    </tr>\n    <tr>\n      <th>2023-11-07 15:45:00-05:00</th>\n      <td>637.674988</td>\n      <td>637.820007</td>\n      <td>636.859985</td>\n      <td>637.289978</td>\n      <td>8986</td>\n      <td>0.0</td>\n      <td>0.0</td>\n    </tr>\n    <tr>\n      <th>2023-11-07 15:50:00-05:00</th>\n      <td>636.880005</td>\n      <td>637.030029</td>\n      <td>636.349976</td>\n      <td>636.447510</td>\n      <td>15505</td>\n      <td>0.0</td>\n      <td>0.0</td>\n    </tr>\n    <tr>\n      <th>2023-11-07 15:55:00-05:00</th>\n      <td>636.090027</td>\n      <td>636.700012</td>\n      <td>635.570007</td>\n      <td>636.179993</td>\n      <td>33878</td>\n      <td>0.0</td>\n      <td>0.0</td>\n    </tr>\n  </tbody>\n</table>\n<p>1716 rows × 7 columns</p>\n</div>"
     },
     "execution_count": 26,
     "metadata": {},
     "output_type": "execute_result"
    }
   ],
   "source": [
    "yf_objs[0].history(interval='5m')"
   ],
   "metadata": {
    "collapsed": false,
    "ExecuteTime": {
     "end_time": "2023-11-07T23:11:28.306896821Z",
     "start_time": "2023-11-07T23:11:27.950124256Z"
    }
   },
   "id": "a7675cf40984aca3"
  },
  {
   "cell_type": "code",
   "execution_count": null,
   "outputs": [],
   "source": [],
   "metadata": {
    "collapsed": false
   },
   "id": "95f2f53caff9deff"
  }
 ],
 "metadata": {
  "kernelspec": {
   "display_name": "Python 3",
   "language": "python",
   "name": "python3"
  },
  "language_info": {
   "codemirror_mode": {
    "name": "ipython",
    "version": 2
   },
   "file_extension": ".py",
   "mimetype": "text/x-python",
   "name": "python",
   "nbconvert_exporter": "python",
   "pygments_lexer": "ipython2",
   "version": "2.7.6"
  }
 },
 "nbformat": 4,
 "nbformat_minor": 5
}
