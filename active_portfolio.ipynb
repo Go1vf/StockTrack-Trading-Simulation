{
 "cells": [
  {
   "cell_type": "code",
   "execution_count": 21,
   "id": "initial_id",
   "metadata": {
    "collapsed": true,
    "ExecuteTime": {
     "end_time": "2023-11-14T05:03:13.033987900Z",
     "start_time": "2023-11-14T05:03:12.879711100Z"
    }
   },
   "outputs": [],
   "source": [
    "import numpy as np\n",
    "import pandas as pd\n",
    "import yfinance as yf\n",
    "\n",
    "from scipy.optimize import minimize"
   ]
  },
  {
   "cell_type": "code",
   "execution_count": 78,
   "outputs": [],
   "source": [
    "pd.set_option('display.max_rows', 20)"
   ],
   "metadata": {
    "collapsed": false,
    "ExecuteTime": {
     "end_time": "2023-11-14T05:26:04.499367600Z",
     "start_time": "2023-11-14T05:26:04.474554700Z"
    }
   },
   "id": "b452c80153b5056e"
  },
  {
   "cell_type": "code",
   "execution_count": 22,
   "outputs": [
    {
     "name": "stdout",
     "output_type": "stream",
     "text": [
      "C:\\Users\\mitch\\Documents\\QCF\\Finance and Investments\\StockTrack-Trading-Simulation\n"
     ]
    }
   ],
   "source": [
    "import yfinance as yf\n",
    "import pandas as pd\n",
    "import openpyxl\n",
    "import seaborn as sns\n",
    "import matplotlib.pyplot as plt\n",
    "import numpy as np\n",
    "from scipy import optimize\n",
    "\n",
    "import os\n",
    "cwd = os.getcwd()\n",
    "print(cwd)\n",
    "os.chdir(r'C:\\Users\\mitch\\Documents\\QCF\\Finance and Investments\\StockTrack-Trading-Simulation')"
   ],
   "metadata": {
    "collapsed": false,
    "ExecuteTime": {
     "end_time": "2023-11-14T05:03:13.161779300Z",
     "start_time": "2023-11-14T05:03:12.893852400Z"
    }
   },
   "id": "88bb78b6a3732fb8"
  },
  {
   "cell_type": "markdown",
   "source": [
    "# Reusable functions"
   ],
   "metadata": {
    "collapsed": false
   },
   "id": "82da38b746da26b2"
  },
  {
   "cell_type": "code",
   "execution_count": 23,
   "outputs": [],
   "source": [
    "def calculate_return(df):\n",
    "    if df.empty:\n",
    "        return None\n",
    "    # Get the closing price at the start of the year\n",
    "    start_price = df['Close'].iloc[0]\n",
    "    \n",
    "    # Get the closing price at the end of the year\n",
    "    end_price = df['Close'].iloc[-1]\n",
    "    \n",
    "    # Calculate the one-year return\n",
    "    return (end_price - start_price) / start_price\n",
    "\n",
    "def MaximizeSharpeRatioOptmzn(MeanReturns, CovarReturns, RiskFreeRate, PortfolioSize):\n",
    "     # define maximization of Sharpe Ratio using principle of duality\n",
    "    def  f(x, MeanReturns, CovarReturns, RiskFreeRate, PortfolioSize):\n",
    "        funcDenomr = np.sqrt(np.matmul(np.matmul(x, CovarReturns), x.T) )\n",
    "        funcNumer = np.matmul(np.array(MeanReturns),x.T)-RiskFreeRate\n",
    "        func = -(funcNumer / funcDenomr)\n",
    "        return func\n",
    "\n",
    "    #define equality constraint representing fully invested portfolio\n",
    "    def constraintEq(x):\n",
    "        A=np.ones(x.shape)\n",
    "        b=1\n",
    "        constraintVal = np.matmul(A,x.T)-b \n",
    "        return constraintVal\n",
    "    \n",
    "    #define bounds and other parameters\n",
    "    xinit=np.repeat(0.33, PortfolioSize)\n",
    "    cons = ({'type': 'eq', 'fun':constraintEq})\n",
    "    lb = 0\n",
    "    ub = 1\n",
    "    bnds = tuple([(lb,ub) for x in xinit])\n",
    "    \n",
    "    #invoke minimize solver\n",
    "    opt = optimize.minimize (f, x0 = xinit, args = (MeanReturns, CovarReturns,\\\n",
    "                             RiskFreeRate, PortfolioSize), method = 'SLSQP',  \\\n",
    "                             bounds = bnds, constraints = cons, tol = 10**-3)\n",
    "    \n",
    "    return opt\n",
    "    "
   ],
   "metadata": {
    "collapsed": false,
    "ExecuteTime": {
     "end_time": "2023-11-14T05:03:13.201267400Z",
     "start_time": "2023-11-14T05:03:12.903436800Z"
    }
   },
   "id": "38faa609bbae38c4"
  },
  {
   "cell_type": "code",
   "execution_count": 24,
   "outputs": [
    {
     "data": {
      "text/plain": "    Symbol                     Company Name                        Industry  \\\n0     AAPL                       Apple Inc.            Consumer Electronics   \n1     MSFT            Microsoft Corporation       Software - Infrastructure   \n2    GOOGL                    Alphabet Inc.  Internet Content & Information   \n3     GOOG                    Alphabet Inc.  Internet Content & Information   \n4     AMZN                 Amazon.com, Inc.                 Internet Retail   \n..     ...                              ...                             ...   \n495   RBLX               Roblox Corporation  Electronic Gaming & Multimedia   \n496    WBA   Walgreens Boots Alliance, Inc.        Pharmaceutical Retailers   \n497     TW            Tradeweb Markets Inc.                 Capital Markets   \n498     ZM  Zoom Video Communications, Inc.          Software - Application   \n499   ULTA                Ulta Beauty, Inc.                Specialty Retail   \n\n    Market Cap  \n0    2,811.03B  \n1    2,469.80B  \n2    1,779.01B  \n3    1,778.79B  \n4    1,360.20B  \n..         ...  \n495     19.59B  \n496     19.51B  \n497     19.51B  \n498     19.51B  \n499     19.49B  \n\n[500 rows x 4 columns]",
      "text/html": "<div>\n<style scoped>\n    .dataframe tbody tr th:only-of-type {\n        vertical-align: middle;\n    }\n\n    .dataframe tbody tr th {\n        vertical-align: top;\n    }\n\n    .dataframe thead th {\n        text-align: right;\n    }\n</style>\n<table border=\"1\" class=\"dataframe\">\n  <thead>\n    <tr style=\"text-align: right;\">\n      <th></th>\n      <th>Symbol</th>\n      <th>Company Name</th>\n      <th>Industry</th>\n      <th>Market Cap</th>\n    </tr>\n  </thead>\n  <tbody>\n    <tr>\n      <th>0</th>\n      <td>AAPL</td>\n      <td>Apple Inc.</td>\n      <td>Consumer Electronics</td>\n      <td>2,811.03B</td>\n    </tr>\n    <tr>\n      <th>1</th>\n      <td>MSFT</td>\n      <td>Microsoft Corporation</td>\n      <td>Software - Infrastructure</td>\n      <td>2,469.80B</td>\n    </tr>\n    <tr>\n      <th>2</th>\n      <td>GOOGL</td>\n      <td>Alphabet Inc.</td>\n      <td>Internet Content &amp; Information</td>\n      <td>1,779.01B</td>\n    </tr>\n    <tr>\n      <th>3</th>\n      <td>GOOG</td>\n      <td>Alphabet Inc.</td>\n      <td>Internet Content &amp; Information</td>\n      <td>1,778.79B</td>\n    </tr>\n    <tr>\n      <th>4</th>\n      <td>AMZN</td>\n      <td>Amazon.com, Inc.</td>\n      <td>Internet Retail</td>\n      <td>1,360.20B</td>\n    </tr>\n    <tr>\n      <th>...</th>\n      <td>...</td>\n      <td>...</td>\n      <td>...</td>\n      <td>...</td>\n    </tr>\n    <tr>\n      <th>495</th>\n      <td>RBLX</td>\n      <td>Roblox Corporation</td>\n      <td>Electronic Gaming &amp; Multimedia</td>\n      <td>19.59B</td>\n    </tr>\n    <tr>\n      <th>496</th>\n      <td>WBA</td>\n      <td>Walgreens Boots Alliance, Inc.</td>\n      <td>Pharmaceutical Retailers</td>\n      <td>19.51B</td>\n    </tr>\n    <tr>\n      <th>497</th>\n      <td>TW</td>\n      <td>Tradeweb Markets Inc.</td>\n      <td>Capital Markets</td>\n      <td>19.51B</td>\n    </tr>\n    <tr>\n      <th>498</th>\n      <td>ZM</td>\n      <td>Zoom Video Communications, Inc.</td>\n      <td>Software - Application</td>\n      <td>19.51B</td>\n    </tr>\n    <tr>\n      <th>499</th>\n      <td>ULTA</td>\n      <td>Ulta Beauty, Inc.</td>\n      <td>Specialty Retail</td>\n      <td>19.49B</td>\n    </tr>\n  </tbody>\n</table>\n<p>500 rows × 4 columns</p>\n</div>"
     },
     "execution_count": 24,
     "metadata": {},
     "output_type": "execute_result"
    }
   ],
   "source": [
    "largest_market_cap = pd.read_excel('./Top Companies by Market Cap.xlsx', sheet_name='Sheet1')\n",
    "largest_market_cap"
   ],
   "metadata": {
    "collapsed": false,
    "ExecuteTime": {
     "end_time": "2023-11-14T05:03:13.281042900Z",
     "start_time": "2023-11-14T05:03:12.915094600Z"
    }
   },
   "id": "70806985cf5d7ad7"
  },
  {
   "cell_type": "code",
   "execution_count": 25,
   "outputs": [],
   "source": [
    "largest_market_cap = largest_market_cap[~largest_market_cap['Symbol'].str.contains('\\.')].reset_index(drop=True)\n",
    "top_300 = largest_market_cap.head(100)\n",
    "top_300_symbols = top_300['Symbol']"
   ],
   "metadata": {
    "collapsed": false,
    "ExecuteTime": {
     "end_time": "2023-11-14T05:03:13.282354800Z",
     "start_time": "2023-11-14T05:03:13.052251500Z"
    }
   },
   "id": "9fe2e4bb8c7289e5"
  },
  {
   "cell_type": "code",
   "execution_count": 26,
   "outputs": [],
   "source": [
    "# ticker = yf.Ticker('AAPL')\n",
    "# stock_info = ticker.info\n",
    "# print(stock_info.get('beta'))"
   ],
   "metadata": {
    "collapsed": false,
    "ExecuteTime": {
     "end_time": "2023-11-14T05:03:13.282354800Z",
     "start_time": "2023-11-14T05:03:13.062223Z"
    }
   },
   "id": "3e12a442c05f1a3c"
  },
  {
   "cell_type": "code",
   "execution_count": 27,
   "outputs": [],
   "source": [
    "one_year_data = {}\n",
    "three_year_data = {}\n",
    "five_year_data = {} \n",
    "for symbol in top_300_symbols:\n",
    "    ticker = yf.Ticker(symbol)\n",
    "    one_year_data[symbol] = ticker.history(period=\"1y\")\n",
    "    three_year_data[symbol] = ticker.history(period=\"3y\")\n",
    "    five_year_data[symbol] = ticker.history(period=\"5y\")"
   ],
   "metadata": {
    "collapsed": false,
    "ExecuteTime": {
     "end_time": "2023-11-14T05:04:28.902706400Z",
     "start_time": "2023-11-14T05:03:13.073602500Z"
    }
   },
   "id": "fbbf51507eca1825"
  },
  {
   "cell_type": "code",
   "execution_count": 28,
   "outputs": [
    {
     "data": {
      "text/plain": "{'AAPL': 0.2532569689154102,\n 'MSFT': 0.53269479182366,\n 'GOOGL': 0.38025078944704027,\n 'GOOG': 0.3916484545291894,\n 'AMZN': 0.4477611882489815,\n 'NVDA': 1.985562512022651,\n 'META': 1.8820696806448503,\n 'TSLA': 0.17156329033356696,\n 'LLY': 0.7345739174097993,\n 'V': 0.19217314239362615,\n 'UNH': 0.07164587129098937,\n 'TSM': 0.35147720281661615,\n 'NVO': 0.8071784164159003,\n 'WMT': 0.2301974728119171,\n 'JPM': 0.12109221626815235,\n 'XOM': -0.052332967298438345,\n 'JNJ': -0.11654101868415831,\n 'MA': 0.16909596882739106,\n 'AVGO': 0.8941050721895167,\n 'PG': 0.10888360395586448,\n 'CVX': -0.19994079151670618,\n 'ORCL': 0.4756670123596331,\n 'HD': -0.03593613990157222,\n 'ABBV': -0.04942156536880995,\n 'MRK': 0.04905661084746388,\n 'COST': 0.14308722185820147,\n 'ADBE': 0.7344067788707931,\n 'TM': 0.3209964251572046,\n 'ASML': 0.14417260642599244,\n 'KO': -0.03383187323422096,\n 'PEP': -0.024791635770954744,\n 'BABA': 0.15323145975887562,\n 'SHEL': 0.2442411052018249,\n 'CSCO': 0.20319611329451912,\n 'BAC': -0.24518060485226925,\n 'AZN': 0.017820326438606263,\n 'NVS': 0.17650239506311344,\n 'CRM': 0.35686369475805885,\n 'ACN': 0.10984279872882606,\n 'FMX': 0.5998827690185606,\n 'TMO': -0.16548373672522046,\n 'PFE': -0.384750339414778,\n 'LIN': 0.22091206055138513,\n 'MCD': 0.01074713154688845,\n 'CMCSA': 0.2513574818115558,\n 'AMD': 0.5883313321692965,\n 'TMUS': 0.012030798289748509,\n 'NFLX': 0.4856818640003206,\n 'ABT': -0.04218928868783749,\n 'DHR': -0.16713847311092342,\n 'HSBC': 0.4227830141711505,\n 'TTE': 0.23752816531518395,\n 'DIS': -0.05133640645478507,\n 'SAP': 0.3547812529710315,\n 'INTC': 0.2890377323774268,\n 'INTU': 0.34804057833527774,\n 'AMGN': -0.03376606317711245,\n 'NKE': 0.01078270687564822,\n 'HDB': -0.15439899539216262,\n 'PDD': 0.6704389719603705,\n 'BHP': 0.028119527032137274,\n 'WFC': -0.10292346965369555,\n 'PM': 0.010575833451269029,\n 'COP': -0.09531566855996343,\n 'TXN': -0.15212285121287475,\n 'CAT': 0.042779746979457654,\n 'SNY': 0.0930736158750762,\n 'UPS': -0.1919426001483845,\n 'VZ': 0.0036786594356182224,\n 'MS': -0.13208732104386967,\n 'BX': -0.001983852130831554,\n 'IBM': 0.07805413417016646,\n 'UNP': -0.009916178012295643,\n 'HON': -0.10503157290176501,\n 'QCOM': 0.052698451113262344,\n 'GE': 0.7299056651090234,\n 'UL': 0.05464014242057165,\n 'RY': -0.1066842198795045,\n 'AMAT': 0.4048050208658766,\n 'BMY': -0.3201021057896908,\n 'SPGI': 0.14681357642302648,\n 'BA': 0.17856519555999578,\n 'LOW': -0.03306943397541917,\n 'NOW': 0.5944305266637434,\n 'DE': -0.07991232498561733,\n 'AXP': 0.01617254112907301,\n 'BP': 0.11296262490820493,\n 'LMT': -0.011576947206718603,\n 'BKNG': 0.5759555189781483,\n 'TD': -0.049634956733189864,\n 'NEE': -0.3158361364381017,\n 'BUD': 0.1044892979480751,\n 'ELV': -0.04841956168015808,\n 'RTX': -0.09567009286092477,\n 'T': -0.12767060142235576,\n 'SONY': 0.011041054141302463,\n 'SBUX': 0.08480513864799455,\n 'PLD': -0.06308506356767148,\n 'GS': -0.11936932752460454,\n 'ADP': -0.07543742299505424}"
     },
     "execution_count": 28,
     "metadata": {},
     "output_type": "execute_result"
    }
   ],
   "source": [
    "one_year_return_data = {}\n",
    "three_year_return_data = {}\n",
    "five_year_return_data = {}\n",
    "for key, df in one_year_data.items():\n",
    "    one_year_return_data[key] = calculate_return(one_year_data[key])\n",
    "    three_year_return_data[key] = calculate_return(three_year_data[key])\n",
    "    five_year_return_data[key] = calculate_return(five_year_data[key])\n",
    "    \n",
    "one_year_return_data"
   ],
   "metadata": {
    "collapsed": false,
    "ExecuteTime": {
     "end_time": "2023-11-14T05:04:28.943016400Z",
     "start_time": "2023-11-14T05:04:28.905543800Z"
    }
   },
   "id": "36d2a48dd56ccc64"
  },
  {
   "cell_type": "code",
   "execution_count": 29,
   "outputs": [
    {
     "name": "stdout",
     "output_type": "stream",
     "text": [
      "Top Decile Overlaps: {'NVDA', 'LLY', 'NVO'}\n",
      "Bottom Decile Overlaps: set()\n"
     ]
    }
   ],
   "source": [
    "def get_deciles(data):\n",
    "    # Remove None values and sort the data\n",
    "    filtered_data = {k: v for k, v in data.items() if v is not None}\n",
    "    sorted_data = sorted(filtered_data.items(), key=lambda x: x[1])\n",
    "\n",
    "    # Calculate the index for decile\n",
    "    n = len(sorted_data)\n",
    "    decile_index = n // 10\n",
    "\n",
    "    # Get the top and bottom decile\n",
    "    bottom_decile = dict(sorted_data[:decile_index])\n",
    "    top_decile = dict(sorted_data[-decile_index:])\n",
    "\n",
    "    return top_decile, bottom_decile\n",
    "\n",
    "# Apply the function to each dataset\n",
    "top_decile_one_year, bottom_decile_one_year = get_deciles(one_year_return_data)\n",
    "top_decile_three_year, bottom_decile_three_year = get_deciles(three_year_return_data)\n",
    "top_decile_five_year, bottom_decile_five_year = get_deciles(five_year_return_data)\n",
    "\n",
    "# Find overlapping keys in the top deciles\n",
    "overlapping_top_keys = set(top_decile_one_year.keys()) & set(top_decile_three_year.keys()) & set(top_decile_five_year.keys())\n",
    "\n",
    "# Find overlapping keys in the bottom deciles\n",
    "overlapping_bottom_keys = set(bottom_decile_one_year.keys()) & set(bottom_decile_three_year.keys()) & set(bottom_decile_five_year.keys())\n",
    "\n",
    "# Print results\n",
    "print(\"Top Decile Overlaps:\", overlapping_top_keys)\n",
    "print(\"Bottom Decile Overlaps:\", overlapping_bottom_keys)\n"
   ],
   "metadata": {
    "collapsed": false,
    "ExecuteTime": {
     "end_time": "2023-11-14T05:04:28.958171900Z",
     "start_time": "2023-11-14T05:04:28.942019900Z"
    }
   },
   "id": "99a304a504eb9513"
  },
  {
   "cell_type": "markdown",
   "source": [
    "# Choosing top-50 and bottom-50 companies"
   ],
   "metadata": {
    "collapsed": false
   },
   "id": "f74257276808ba58"
  },
  {
   "cell_type": "code",
   "execution_count": 30,
   "outputs": [
    {
     "data": {
      "text/plain": "\"''\\n\\ntarget_long = pd.DataFrame(['ASML', 'GOOG', 'ACN', 'AAPL', 'SONY',\\n                            'INTU', 'V', 'MA', 'BX', 'TTE'],\\n                           columns=['Ticker'])\\n# TODO\\ntarget_short = pd.DataFrame([],\\n                            columns=['Ticker']\\n                            )\\n                            \\n                            \""
     },
     "execution_count": 30,
     "metadata": {},
     "output_type": "execute_result"
    }
   ],
   "source": [
    "'''''\n",
    "\n",
    "target_long = pd.DataFrame(['ASML', 'GOOG', 'ACN', 'AAPL', 'SONY',\n",
    "                            'INTU', 'V', 'MA', 'BX', 'TTE'],\n",
    "                           columns=['Ticker'])\n",
    "# TODO\n",
    "target_short = pd.DataFrame([],\n",
    "                            columns=['Ticker']\n",
    "                            )\n",
    "                            \n",
    "                            '''''"
   ],
   "metadata": {
    "collapsed": false,
    "ExecuteTime": {
     "end_time": "2023-11-14T05:04:28.958832900Z",
     "start_time": "2023-11-14T05:04:28.950905200Z"
    }
   },
   "id": "6e7e57b29e2ea518"
  },
  {
   "cell_type": "code",
   "execution_count": 39,
   "outputs": [
    {
     "data": {
      "text/plain": "{'AAPL',\n 'ADBE',\n 'AMAT',\n 'AMD',\n 'AMGN',\n 'ASML',\n 'AVGO',\n 'BP',\n 'BX',\n 'COP',\n 'FMX',\n 'GE',\n 'LLY',\n 'META',\n 'NOW',\n 'NVDA',\n 'NVO',\n 'PDD',\n 'TSLA',\n 'WFC'}"
     },
     "execution_count": 39,
     "metadata": {},
     "output_type": "execute_result"
    }
   ],
   "source": [
    "# Get all unique keys in the top deciles\n",
    "all_top_keys = set(top_decile_one_year.keys()) | set(top_decile_three_year.keys()) | set(top_decile_five_year.keys())\n",
    "\n",
    "# Get all unique keys in the bottom deciles\n",
    "all_bottom_keys = set(bottom_decile_one_year.keys()) | set(bottom_decile_three_year.keys()) | set(bottom_decile_five_year.keys())\n",
    "\n",
    "\n",
    "all_top_keys"
   ],
   "metadata": {
    "collapsed": false,
    "ExecuteTime": {
     "end_time": "2023-11-14T05:06:41.678849600Z",
     "start_time": "2023-11-14T05:06:41.669562900Z"
    }
   },
   "id": "5414d18fd5680e6f"
  },
  {
   "cell_type": "code",
   "execution_count": 40,
   "outputs": [],
   "source": [
    "target_long = pd.DataFrame(list(all_top_keys),\n",
    "                           columns=['Ticker'])\n",
    "# TODO\n",
    "target_short = pd.DataFrame(list(all_bottom_keys),\n",
    "                            columns=['Ticker'])\n"
   ],
   "metadata": {
    "collapsed": false,
    "ExecuteTime": {
     "end_time": "2023-11-14T05:07:49.238316700Z",
     "start_time": "2023-11-14T05:07:49.221969600Z"
    }
   },
   "id": "645261249ddc1609"
  },
  {
   "cell_type": "markdown",
   "source": [
    "# Getting 2-month history"
   ],
   "metadata": {
    "collapsed": false
   },
   "id": "f41faac5b97a1f9d"
  },
  {
   "cell_type": "code",
   "execution_count": 41,
   "outputs": [],
   "source": [
    "def get_history(target_df: pd.DataFrame, long=True) -> pd.DataFrame:\n",
    "    history = pd.DataFrame(columns=list(target_long['Ticker']))\n",
    "    for ticker in target_df['Ticker']:\n",
    "        # TODO think about the appropriate price column to use\n",
    "        history[ticker] = yf.Ticker(ticker).history(interval='5m')['High' if long else 'Low']\n",
    "    return history"
   ],
   "metadata": {
    "collapsed": false,
    "ExecuteTime": {
     "end_time": "2023-11-14T05:07:56.495982900Z",
     "start_time": "2023-11-14T05:07:56.441385800Z"
    }
   },
   "id": "bf9f0d57691c9fe1"
  },
  {
   "cell_type": "code",
   "execution_count": 42,
   "outputs": [
    {
     "name": "stdout",
     "output_type": "stream",
     "text": [
      "<class 'pandas.core.frame.DataFrame'>\n",
      "DatetimeIndex: 1638 entries, 2023-10-16 09:30:00-04:00 to 2023-11-13 15:55:00-05:00\n",
      "Data columns (total 20 columns):\n",
      " #   Column  Non-Null Count  Dtype  \n",
      "---  ------  --------------  -----  \n",
      " 0   NOW     1638 non-null   float64\n",
      " 1   NVO     1638 non-null   float64\n",
      " 2   BP      1638 non-null   float64\n",
      " 3   COP     1638 non-null   float64\n",
      " 4   FMX     1636 non-null   float64\n",
      " 5   LLY     1638 non-null   float64\n",
      " 6   AVGO    1638 non-null   float64\n",
      " 7   GE      1638 non-null   float64\n",
      " 8   AMAT    1638 non-null   float64\n",
      " 9   ASML    1637 non-null   float64\n",
      " 10  ADBE    1638 non-null   float64\n",
      " 11  AMD     1638 non-null   float64\n",
      " 12  META    1638 non-null   float64\n",
      " 13  BX      1638 non-null   float64\n",
      " 14  NVDA    1638 non-null   float64\n",
      " 15  WFC     1638 non-null   float64\n",
      " 16  AAPL    1638 non-null   float64\n",
      " 17  TSLA    1638 non-null   float64\n",
      " 18  PDD     1638 non-null   float64\n",
      " 19  AMGN    1638 non-null   float64\n",
      "dtypes: float64(20)\n",
      "memory usage: 268.7 KB\n"
     ]
    },
    {
     "data": {
      "text/plain": "                                  NOW         NVO         BP         COP  \\\nDatetime                                                                   \n2023-10-16 09:30:00-04:00  550.299988  101.419998  40.185001  126.120003   \n2023-10-16 09:35:00-04:00  553.799988  101.320000  40.134998  125.809998   \n2023-10-16 09:40:00-04:00  552.630005  101.239998  40.090000  125.599998   \n2023-10-16 09:45:00-04:00  548.229980  101.150002  40.090000  126.010002   \n2023-10-16 09:50:00-04:00  549.210022  101.099998  40.115002  126.049400   \n\n                                  FMX         LLY        AVGO          GE  \\\nDatetime                                                                    \n2023-10-16 09:30:00-04:00  106.169998  617.000000  906.929993  110.125000   \n2023-10-16 09:35:00-04:00  106.364998  615.414978  912.849976  110.400002   \n2023-10-16 09:40:00-04:00  106.190002  611.770020  915.784973  110.089996   \n2023-10-16 09:45:00-04:00  106.187500  612.388428  907.340515  109.830002   \n2023-10-16 09:50:00-04:00  106.654999  612.419983  903.875000  109.940002   \n\n                                 AMAT        ASML        ADBE         AMD  \\\nDatetime                                                                    \n2023-10-16 09:30:00-04:00  142.199997  603.429993  554.369995  106.379303   \n2023-10-16 09:35:00-04:00  142.654999  606.049988  554.969971  107.014999   \n2023-10-16 09:40:00-04:00  142.429993  605.429993  555.539978  107.120003   \n2023-10-16 09:45:00-04:00  141.369995  601.510010  551.789978  106.459900   \n2023-10-16 09:50:00-04:00  140.709900  599.650024  549.309998  106.209999   \n\n                                 META          BX        NVDA        WFC  \\\nDatetime                                                                   \n2023-10-16 09:30:00-04:00  318.859985  105.470001  454.829987  41.680000   \n2023-10-16 09:35:00-04:00  318.959991  105.044998  458.489990  41.910000   \n2023-10-16 09:40:00-04:00  318.500000  104.720001  458.600006  42.165001   \n2023-10-16 09:45:00-04:00  317.179901  104.269997  456.629791  42.130001   \n2023-10-16 09:50:00-04:00  317.500000  104.580002  453.750000  42.070000   \n\n                                 AAPL        TSLA         PDD        AMGN  \nDatetime                                                                   \n2023-10-16 09:30:00-04:00  178.179993  253.639999  105.910004  286.334991  \n2023-10-16 09:35:00-04:00  178.360001  254.169998  105.000000  286.480011  \n2023-10-16 09:40:00-04:00  178.322495  253.419998  104.930000  287.309998  \n2023-10-16 09:45:00-04:00  177.509995  252.899994  105.267700  287.309998  \n2023-10-16 09:50:00-04:00  177.429993  252.370605  106.000000  286.579987  ",
      "text/html": "<div>\n<style scoped>\n    .dataframe tbody tr th:only-of-type {\n        vertical-align: middle;\n    }\n\n    .dataframe tbody tr th {\n        vertical-align: top;\n    }\n\n    .dataframe thead th {\n        text-align: right;\n    }\n</style>\n<table border=\"1\" class=\"dataframe\">\n  <thead>\n    <tr style=\"text-align: right;\">\n      <th></th>\n      <th>NOW</th>\n      <th>NVO</th>\n      <th>BP</th>\n      <th>COP</th>\n      <th>FMX</th>\n      <th>LLY</th>\n      <th>AVGO</th>\n      <th>GE</th>\n      <th>AMAT</th>\n      <th>ASML</th>\n      <th>ADBE</th>\n      <th>AMD</th>\n      <th>META</th>\n      <th>BX</th>\n      <th>NVDA</th>\n      <th>WFC</th>\n      <th>AAPL</th>\n      <th>TSLA</th>\n      <th>PDD</th>\n      <th>AMGN</th>\n    </tr>\n    <tr>\n      <th>Datetime</th>\n      <th></th>\n      <th></th>\n      <th></th>\n      <th></th>\n      <th></th>\n      <th></th>\n      <th></th>\n      <th></th>\n      <th></th>\n      <th></th>\n      <th></th>\n      <th></th>\n      <th></th>\n      <th></th>\n      <th></th>\n      <th></th>\n      <th></th>\n      <th></th>\n      <th></th>\n      <th></th>\n    </tr>\n  </thead>\n  <tbody>\n    <tr>\n      <th>2023-10-16 09:30:00-04:00</th>\n      <td>550.299988</td>\n      <td>101.419998</td>\n      <td>40.185001</td>\n      <td>126.120003</td>\n      <td>106.169998</td>\n      <td>617.000000</td>\n      <td>906.929993</td>\n      <td>110.125000</td>\n      <td>142.199997</td>\n      <td>603.429993</td>\n      <td>554.369995</td>\n      <td>106.379303</td>\n      <td>318.859985</td>\n      <td>105.470001</td>\n      <td>454.829987</td>\n      <td>41.680000</td>\n      <td>178.179993</td>\n      <td>253.639999</td>\n      <td>105.910004</td>\n      <td>286.334991</td>\n    </tr>\n    <tr>\n      <th>2023-10-16 09:35:00-04:00</th>\n      <td>553.799988</td>\n      <td>101.320000</td>\n      <td>40.134998</td>\n      <td>125.809998</td>\n      <td>106.364998</td>\n      <td>615.414978</td>\n      <td>912.849976</td>\n      <td>110.400002</td>\n      <td>142.654999</td>\n      <td>606.049988</td>\n      <td>554.969971</td>\n      <td>107.014999</td>\n      <td>318.959991</td>\n      <td>105.044998</td>\n      <td>458.489990</td>\n      <td>41.910000</td>\n      <td>178.360001</td>\n      <td>254.169998</td>\n      <td>105.000000</td>\n      <td>286.480011</td>\n    </tr>\n    <tr>\n      <th>2023-10-16 09:40:00-04:00</th>\n      <td>552.630005</td>\n      <td>101.239998</td>\n      <td>40.090000</td>\n      <td>125.599998</td>\n      <td>106.190002</td>\n      <td>611.770020</td>\n      <td>915.784973</td>\n      <td>110.089996</td>\n      <td>142.429993</td>\n      <td>605.429993</td>\n      <td>555.539978</td>\n      <td>107.120003</td>\n      <td>318.500000</td>\n      <td>104.720001</td>\n      <td>458.600006</td>\n      <td>42.165001</td>\n      <td>178.322495</td>\n      <td>253.419998</td>\n      <td>104.930000</td>\n      <td>287.309998</td>\n    </tr>\n    <tr>\n      <th>2023-10-16 09:45:00-04:00</th>\n      <td>548.229980</td>\n      <td>101.150002</td>\n      <td>40.090000</td>\n      <td>126.010002</td>\n      <td>106.187500</td>\n      <td>612.388428</td>\n      <td>907.340515</td>\n      <td>109.830002</td>\n      <td>141.369995</td>\n      <td>601.510010</td>\n      <td>551.789978</td>\n      <td>106.459900</td>\n      <td>317.179901</td>\n      <td>104.269997</td>\n      <td>456.629791</td>\n      <td>42.130001</td>\n      <td>177.509995</td>\n      <td>252.899994</td>\n      <td>105.267700</td>\n      <td>287.309998</td>\n    </tr>\n    <tr>\n      <th>2023-10-16 09:50:00-04:00</th>\n      <td>549.210022</td>\n      <td>101.099998</td>\n      <td>40.115002</td>\n      <td>126.049400</td>\n      <td>106.654999</td>\n      <td>612.419983</td>\n      <td>903.875000</td>\n      <td>109.940002</td>\n      <td>140.709900</td>\n      <td>599.650024</td>\n      <td>549.309998</td>\n      <td>106.209999</td>\n      <td>317.500000</td>\n      <td>104.580002</td>\n      <td>453.750000</td>\n      <td>42.070000</td>\n      <td>177.429993</td>\n      <td>252.370605</td>\n      <td>106.000000</td>\n      <td>286.579987</td>\n    </tr>\n  </tbody>\n</table>\n</div>"
     },
     "execution_count": 42,
     "metadata": {},
     "output_type": "execute_result"
    }
   ],
   "source": [
    "history_long = get_history(target_long)\n",
    "history_long.info()\n",
    "history_long.head()"
   ],
   "metadata": {
    "collapsed": false,
    "ExecuteTime": {
     "end_time": "2023-11-14T05:08:02.153220Z",
     "start_time": "2023-11-14T05:07:56.447901Z"
    }
   },
   "id": "ebe361f9212621bc"
  },
  {
   "cell_type": "code",
   "execution_count": 92,
   "outputs": [
    {
     "name": "stdout",
     "output_type": "stream",
     "text": [
      "<class 'pandas.core.frame.DataFrame'>\n",
      "DatetimeIndex: 1638 entries, 2023-10-16 09:30:00-04:00 to 2023-11-13 15:55:00-05:00\n",
      "Data columns (total 40 columns):\n",
      " #   Column  Non-Null Count  Dtype  \n",
      "---  ------  --------------  -----  \n",
      " 0   NOW     0 non-null      object \n",
      " 1   NVO     0 non-null      object \n",
      " 2   BP      0 non-null      object \n",
      " 3   COP     0 non-null      object \n",
      " 4   FMX     0 non-null      object \n",
      " 5   LLY     0 non-null      object \n",
      " 6   AVGO    0 non-null      object \n",
      " 7   GE      0 non-null      object \n",
      " 8   AMAT    0 non-null      object \n",
      " 9   ASML    0 non-null      object \n",
      " 10  ADBE    0 non-null      object \n",
      " 11  AMD     0 non-null      object \n",
      " 12  META    0 non-null      object \n",
      " 13  BX      0 non-null      object \n",
      " 14  NVDA    0 non-null      object \n",
      " 15  WFC     1638 non-null   float64\n",
      " 16  AAPL    0 non-null      object \n",
      " 17  TSLA    0 non-null      object \n",
      " 18  PDD     1638 non-null   float64\n",
      " 19  AMGN    0 non-null      object \n",
      " 20  CRM     1638 non-null   float64\n",
      " 21  CVX     1638 non-null   float64\n",
      " 22  BUD     1638 non-null   float64\n",
      " 23  T       1638 non-null   float64\n",
      " 24  DIS     1638 non-null   float64\n",
      " 25  HDB     1638 non-null   float64\n",
      " 26  VZ      1638 non-null   float64\n",
      " 27  PFE     1638 non-null   float64\n",
      " 28  BMY     1638 non-null   float64\n",
      " 29  TMO     1638 non-null   float64\n",
      " 30  BABA    1638 non-null   float64\n",
      " 31  DHR     1638 non-null   float64\n",
      " 32  UPS     1638 non-null   float64\n",
      " 33  TXN     1638 non-null   float64\n",
      " 34  UL      1638 non-null   float64\n",
      " 35  NEE     1638 non-null   float64\n",
      " 36  NKE     1638 non-null   float64\n",
      " 37  BA      1638 non-null   float64\n",
      " 38  BAC     1638 non-null   float64\n",
      " 39  INTC    1638 non-null   float64\n",
      "dtypes: float64(22), object(18)\n",
      "memory usage: 524.7+ KB\n"
     ]
    },
    {
     "data": {
      "text/plain": "                           NOW  NVO   BP  COP  FMX  LLY AVGO   GE AMAT ASML  \\\nDatetime                                                                      \n2023-10-16 09:30:00-04:00  NaN  NaN  NaN  NaN  NaN  NaN  NaN  NaN  NaN  NaN   \n2023-10-16 09:35:00-04:00  NaN  NaN  NaN  NaN  NaN  NaN  NaN  NaN  NaN  NaN   \n2023-10-16 09:40:00-04:00  NaN  NaN  NaN  NaN  NaN  NaN  NaN  NaN  NaN  NaN   \n2023-10-16 09:45:00-04:00  NaN  NaN  NaN  NaN  NaN  NaN  NaN  NaN  NaN  NaN   \n2023-10-16 09:50:00-04:00  NaN  NaN  NaN  NaN  NaN  NaN  NaN  NaN  NaN  NaN   \n\n                           ...       BABA         DHR         UPS         TXN  \\\nDatetime                   ...                                                  \n2023-10-16 09:30:00-04:00  ...  83.709999  211.029999  156.770004  154.100006   \n2023-10-16 09:35:00-04:00  ...  83.019897  210.559998  156.929993  154.380005   \n2023-10-16 09:40:00-04:00  ...  83.290001  209.625000  157.089996  154.360001   \n2023-10-16 09:45:00-04:00  ...  83.730003  209.740005  157.083298  153.789993   \n2023-10-16 09:50:00-04:00  ...  84.220001  210.119995  157.369995  153.810699   \n\n                                  UL        NEE         NKE          BA  \\\nDatetime                                                                  \n2023-10-16 09:30:00-04:00  47.689999  54.799999  101.110001  186.229996   \n2023-10-16 09:35:00-04:00  47.660000  54.080002  101.190002  185.630997   \n2023-10-16 09:40:00-04:00  47.529999  54.174999  101.150002  184.770004   \n2023-10-16 09:45:00-04:00  47.570000  54.520000  101.510002  184.250000   \n2023-10-16 09:50:00-04:00  47.599998  54.560001  101.989998  183.809998   \n\n                                 BAC       INTC  \nDatetime                                         \n2023-10-16 09:30:00-04:00  27.180000  36.259998  \n2023-10-16 09:35:00-04:00  27.070000  36.445000  \n2023-10-16 09:40:00-04:00  27.040001  36.580002  \n2023-10-16 09:45:00-04:00  27.014999  36.580002  \n2023-10-16 09:50:00-04:00  27.010000  36.634998  \n\n[5 rows x 40 columns]",
      "text/html": "<div>\n<style scoped>\n    .dataframe tbody tr th:only-of-type {\n        vertical-align: middle;\n    }\n\n    .dataframe tbody tr th {\n        vertical-align: top;\n    }\n\n    .dataframe thead th {\n        text-align: right;\n    }\n</style>\n<table border=\"1\" class=\"dataframe\">\n  <thead>\n    <tr style=\"text-align: right;\">\n      <th></th>\n      <th>NOW</th>\n      <th>NVO</th>\n      <th>BP</th>\n      <th>COP</th>\n      <th>FMX</th>\n      <th>LLY</th>\n      <th>AVGO</th>\n      <th>GE</th>\n      <th>AMAT</th>\n      <th>ASML</th>\n      <th>...</th>\n      <th>BABA</th>\n      <th>DHR</th>\n      <th>UPS</th>\n      <th>TXN</th>\n      <th>UL</th>\n      <th>NEE</th>\n      <th>NKE</th>\n      <th>BA</th>\n      <th>BAC</th>\n      <th>INTC</th>\n    </tr>\n    <tr>\n      <th>Datetime</th>\n      <th></th>\n      <th></th>\n      <th></th>\n      <th></th>\n      <th></th>\n      <th></th>\n      <th></th>\n      <th></th>\n      <th></th>\n      <th></th>\n      <th></th>\n      <th></th>\n      <th></th>\n      <th></th>\n      <th></th>\n      <th></th>\n      <th></th>\n      <th></th>\n      <th></th>\n      <th></th>\n      <th></th>\n    </tr>\n  </thead>\n  <tbody>\n    <tr>\n      <th>2023-10-16 09:30:00-04:00</th>\n      <td>NaN</td>\n      <td>NaN</td>\n      <td>NaN</td>\n      <td>NaN</td>\n      <td>NaN</td>\n      <td>NaN</td>\n      <td>NaN</td>\n      <td>NaN</td>\n      <td>NaN</td>\n      <td>NaN</td>\n      <td>...</td>\n      <td>83.709999</td>\n      <td>211.029999</td>\n      <td>156.770004</td>\n      <td>154.100006</td>\n      <td>47.689999</td>\n      <td>54.799999</td>\n      <td>101.110001</td>\n      <td>186.229996</td>\n      <td>27.180000</td>\n      <td>36.259998</td>\n    </tr>\n    <tr>\n      <th>2023-10-16 09:35:00-04:00</th>\n      <td>NaN</td>\n      <td>NaN</td>\n      <td>NaN</td>\n      <td>NaN</td>\n      <td>NaN</td>\n      <td>NaN</td>\n      <td>NaN</td>\n      <td>NaN</td>\n      <td>NaN</td>\n      <td>NaN</td>\n      <td>...</td>\n      <td>83.019897</td>\n      <td>210.559998</td>\n      <td>156.929993</td>\n      <td>154.380005</td>\n      <td>47.660000</td>\n      <td>54.080002</td>\n      <td>101.190002</td>\n      <td>185.630997</td>\n      <td>27.070000</td>\n      <td>36.445000</td>\n    </tr>\n    <tr>\n      <th>2023-10-16 09:40:00-04:00</th>\n      <td>NaN</td>\n      <td>NaN</td>\n      <td>NaN</td>\n      <td>NaN</td>\n      <td>NaN</td>\n      <td>NaN</td>\n      <td>NaN</td>\n      <td>NaN</td>\n      <td>NaN</td>\n      <td>NaN</td>\n      <td>...</td>\n      <td>83.290001</td>\n      <td>209.625000</td>\n      <td>157.089996</td>\n      <td>154.360001</td>\n      <td>47.529999</td>\n      <td>54.174999</td>\n      <td>101.150002</td>\n      <td>184.770004</td>\n      <td>27.040001</td>\n      <td>36.580002</td>\n    </tr>\n    <tr>\n      <th>2023-10-16 09:45:00-04:00</th>\n      <td>NaN</td>\n      <td>NaN</td>\n      <td>NaN</td>\n      <td>NaN</td>\n      <td>NaN</td>\n      <td>NaN</td>\n      <td>NaN</td>\n      <td>NaN</td>\n      <td>NaN</td>\n      <td>NaN</td>\n      <td>...</td>\n      <td>83.730003</td>\n      <td>209.740005</td>\n      <td>157.083298</td>\n      <td>153.789993</td>\n      <td>47.570000</td>\n      <td>54.520000</td>\n      <td>101.510002</td>\n      <td>184.250000</td>\n      <td>27.014999</td>\n      <td>36.580002</td>\n    </tr>\n    <tr>\n      <th>2023-10-16 09:50:00-04:00</th>\n      <td>NaN</td>\n      <td>NaN</td>\n      <td>NaN</td>\n      <td>NaN</td>\n      <td>NaN</td>\n      <td>NaN</td>\n      <td>NaN</td>\n      <td>NaN</td>\n      <td>NaN</td>\n      <td>NaN</td>\n      <td>...</td>\n      <td>84.220001</td>\n      <td>210.119995</td>\n      <td>157.369995</td>\n      <td>153.810699</td>\n      <td>47.599998</td>\n      <td>54.560001</td>\n      <td>101.989998</td>\n      <td>183.809998</td>\n      <td>27.010000</td>\n      <td>36.634998</td>\n    </tr>\n  </tbody>\n</table>\n<p>5 rows × 40 columns</p>\n</div>"
     },
     "execution_count": 92,
     "metadata": {},
     "output_type": "execute_result"
    }
   ],
   "source": [
    "history_short = get_history(target_short)\n",
    "history_short.info()\n",
    "history_short.head()"
   ],
   "metadata": {
    "collapsed": false,
    "ExecuteTime": {
     "end_time": "2023-11-14T05:55:05.709007900Z",
     "start_time": "2023-11-14T05:55:00.499286Z"
    }
   },
   "id": "895dfe01038ba9d9"
  },
  {
   "cell_type": "markdown",
   "source": [
    "# Getting 2-month compound returns"
   ],
   "metadata": {
    "collapsed": false
   },
   "id": "3333c61d2a44fd09"
  },
  {
   "cell_type": "code",
   "execution_count": 53,
   "outputs": [],
   "source": [
    "def get_returns(history_df: pd.DataFrame) -> np.ndarray:\n",
    "    n = len(history_df.columns)\n",
    "    returns = np.zeros(n, dtype=float)\n",
    "    for i in range(n):\n",
    "        # TODO think about the appropriate return calculation\n",
    "        helper = history_df.iloc[:, i] / history_df.iloc[:, i].shift(1)\n",
    "        helper = helper.iloc[1:]\n",
    "        returns[i] = np.prod(helper) - 1\n",
    "    return returns"
   ],
   "metadata": {
    "collapsed": false,
    "ExecuteTime": {
     "end_time": "2023-11-14T05:11:16.399240700Z",
     "start_time": "2023-11-14T05:11:16.349518200Z"
    }
   },
   "id": "bf677dcc6b4a37e1"
  },
  {
   "cell_type": "code",
   "execution_count": 54,
   "outputs": [
    {
     "name": "stdout",
     "output_type": "stream",
     "text": [
      "Top companies' returns: [ 0.16211162 -0.00507789 -0.11160882 -0.08499842  0.13437297 -0.00445705\n",
      "  0.04431434  0.04953464  0.05362166  0.08578396  0.06517309  0.09875698\n",
      "  0.03405889 -0.07205839  0.07133195 -0.02087329  0.03709732 -0.11677967\n",
      "  0.03389667 -0.06763054]\n"
     ]
    }
   ],
   "source": [
    "returns_long = get_returns(history_long)\n",
    "print(f'Top companies\\' returns: {returns_long}')"
   ],
   "metadata": {
    "collapsed": false,
    "ExecuteTime": {
     "end_time": "2023-11-14T05:11:16.399240700Z",
     "start_time": "2023-11-14T05:11:16.350526200Z"
    }
   },
   "id": "d4e5baa53a398b43"
  },
  {
   "cell_type": "code",
   "execution_count": 55,
   "outputs": [
    {
     "name": "stdout",
     "output_type": "stream",
     "text": [
      "Bottom companies' returns: [ 0.          0.          0.          0.          0.          0.\n",
      "  0.          0.          0.          0.          0.          0.\n",
      "  0.          0.          0.         -0.02087329  0.          0.\n",
      "  0.03389667  0.          0.04602163 -0.12906736  0.10820583  0.0770826\n",
      "  0.05609302 -0.04053605  0.15959859 -0.13057798 -0.11923548 -0.08066081\n",
      " -0.01612709 -0.0712221  -0.11813487 -0.05243349  0.01300069 -0.00510947\n",
      "  0.03214321  0.09939328  0.02023544  0.05529512]\n"
     ]
    }
   ],
   "source": [
    "returns_short = get_returns(history_short)\n",
    "print(f'Bottom companies\\' returns: {returns_short}')"
   ],
   "metadata": {
    "collapsed": false,
    "ExecuteTime": {
     "end_time": "2023-11-14T05:11:16.440309900Z",
     "start_time": "2023-11-14T05:11:16.374840400Z"
    }
   },
   "id": "1ba270930aaaaf57"
  },
  {
   "cell_type": "markdown",
   "source": [
    "# Getting weights"
   ],
   "metadata": {
    "collapsed": false
   },
   "id": "73f9364e7b0c0239"
  },
  {
   "cell_type": "code",
   "execution_count": 87,
   "outputs": [],
   "source": [
    "def sharpe_long(weights):\n",
    "    return -np.dot(returns_long, weights) / np.sqrt(weights @ history_long.cov().to_numpy() @ weights)\n",
    "\n",
    "\n",
    "def sharpe_short(weights):\n",
    "    return np.dot(returns_short, weights) / np.sqrt(weights @ history_short.cov().to_numpy() @ weights)"
   ],
   "metadata": {
    "collapsed": false,
    "ExecuteTime": {
     "end_time": "2023-11-14T05:53:57.213875200Z",
     "start_time": "2023-11-14T05:53:57.166260700Z"
    }
   },
   "id": "421f9e74574a08a3"
  },
  {
   "cell_type": "code",
   "execution_count": 88,
   "outputs": [
    {
     "data": {
      "text/plain": "\"''\\ndef get_weights(history_df: pd.DataFrame, long=True) -> np.ndarray:\\n    n = len(history_df.columns)\\n    weights = np.ones(n)\\n\\n    bounds = [(0.0, None)] * n if long else [(None, 0.0)] * n\\n    constraints = ({'type': 'eq', 'fun': lambda weights: weights.sum() - 1.0})\\n    optimal_weights = minimize(sharpe_long if long else sharpe_short,\\n                               weights, \\n                               method='SLSQP',\\n                               constraints=constraints,\\n                               bounds=bounds\\n                               ).x\\n\\n    return optimal_weights\\n    \""
     },
     "execution_count": 88,
     "metadata": {},
     "output_type": "execute_result"
    }
   ],
   "source": [
    "'''''\n",
    "def get_weights(history_df: pd.DataFrame, long=True) -> np.ndarray:\n",
    "    n = len(history_df.columns)\n",
    "    weights = np.ones(n)\n",
    "\n",
    "    bounds = [(0.0, None)] * n if long else [(None, 0.0)] * n\n",
    "    constraints = ({'type': 'eq', 'fun': lambda weights: weights.sum() - 1.0})\n",
    "    optimal_weights = minimize(sharpe_long if long else sharpe_short,\n",
    "                               weights, \n",
    "                               method='SLSQP',\n",
    "                               constraints=constraints,\n",
    "                               bounds=bounds\n",
    "                               ).x\n",
    "\n",
    "    return optimal_weights\n",
    "    '''''"
   ],
   "metadata": {
    "collapsed": false,
    "ExecuteTime": {
     "end_time": "2023-11-14T05:53:57.250288800Z",
     "start_time": "2023-11-14T05:53:57.172248Z"
    }
   },
   "id": "6d68570a4c2fb093"
  },
  {
   "cell_type": "code",
   "execution_count": 89,
   "outputs": [],
   "source": [
    "def get_weights(history_df: pd.DataFrame, long=True) -> dict:\n",
    "    n = len(history_df.columns)\n",
    "    weights = np.ones(n)\n",
    "\n",
    "    bounds = [(0.0, 0.10)] * n if long else [(None, 0.0)] * n\n",
    "    constraints = ({'type': 'eq', 'fun': lambda weights: np.sum(weights) - 1.0})\n",
    "    optimal_weights = minimize(sharpe_long if long else sharpe_short,\n",
    "                               weights, \n",
    "                               method='SLSQP',\n",
    "                               constraints=constraints,\n",
    "                               bounds=bounds\n",
    "                               ).x\n",
    "\n",
    "    # Create a dictionary with column names as keys and weights as values\n",
    "    weights_dict = dict(zip(history_df.columns, optimal_weights))\n",
    "    return weights_dict"
   ],
   "metadata": {
    "collapsed": false,
    "ExecuteTime": {
     "end_time": "2023-11-14T05:53:57.251444700Z",
     "start_time": "2023-11-14T05:53:57.181232300Z"
    }
   },
   "id": "76fa2820f101481"
  },
  {
   "cell_type": "code",
   "execution_count": 90,
   "outputs": [
    {
     "name": "stdout",
     "output_type": "stream",
     "text": [
      "   Stock  Weight\n",
      "0    NOW   1.88%\n",
      "1    NVO  10.00%\n",
      "2     BP   0.00%\n",
      "3    COP   2.89%\n",
      "4    FMX  10.00%\n",
      "5    LLY   0.00%\n",
      "6   AVGO   0.00%\n",
      "7     GE  10.00%\n",
      "8   AMAT  10.00%\n",
      "9   ASML   0.00%\n",
      "10  ADBE   0.00%\n",
      "11   AMD  10.00%\n",
      "12  META  10.00%\n",
      "13    BX   0.00%\n",
      "14  NVDA   0.00%\n",
      "15   WFC  10.00%\n",
      "16  AAPL  10.00%\n",
      "17  TSLA   0.00%\n",
      "18   PDD  10.00%\n",
      "19  AMGN   5.23%\n"
     ]
    }
   ],
   "source": [
    "weights_long = get_weights(history_long, True)\n",
    "weights_long_vw = pd.DataFrame(list(weights_long.items()), columns=['Stock', 'Weight'])\n",
    "\n",
    "weights_long_vw['Weight'] = weights_long_vw['Weight'].apply(lambda x: f\"{x * 100:.2f}%\")\n",
    "\n",
    "#print(f'Optimal weights for top companies: {weights_long}')\n",
    "\n",
    "#print(f'Optimal Sharpe ratio: {-sharpe_long(weights_long)}')\n",
    "\n",
    "#history_long.columns\n",
    "\n",
    "print(weights_long_vw)\n",
    "\n"
   ],
   "metadata": {
    "collapsed": false,
    "ExecuteTime": {
     "end_time": "2023-11-14T05:53:58.690548900Z",
     "start_time": "2023-11-14T05:53:57.194884400Z"
    }
   },
   "id": "95f2f53caff9deff"
  },
  {
   "cell_type": "code",
   "execution_count": 90,
   "outputs": [],
   "source": [],
   "metadata": {
    "collapsed": false,
    "ExecuteTime": {
     "end_time": "2023-11-14T05:53:58.700210800Z",
     "start_time": "2023-11-14T05:53:58.686162300Z"
    }
   },
   "id": "56c1d566d5006e73"
  },
  {
   "cell_type": "code",
   "execution_count": 91,
   "outputs": [
    {
     "name": "stdout",
     "output_type": "stream",
     "text": [
      "Optimal weights for bottom companies: {'NOW': 0.0, 'NVO': 0.0, 'BP': 0.0, 'COP': 0.0, 'FMX': 0.0, 'LLY': 0.0, 'AVGO': 0.0, 'GE': 0.0, 'AMAT': 0.0, 'ASML': 0.0, 'ADBE': 0.0, 'AMD': 0.0, 'META': 0.0, 'BX': 0.0, 'NVDA': 0.0, 'WFC': 0.0, 'AAPL': 0.0, 'TSLA': 0.0, 'PDD': 0.0, 'AMGN': 0.0, 'CRM': 0.0, 'CVX': 0.0, 'BUD': 0.0, 'T': 0.0, 'DIS': 0.0, 'HDB': 0.0, 'VZ': 0.0, 'PFE': 0.0, 'BMY': 0.0, 'TMO': 0.0, 'BABA': 0.0, 'DHR': 0.0, 'UPS': 0.0, 'TXN': 0.0, 'UL': 0.0, 'NEE': 0.0, 'NKE': 0.0, 'BA': 0.0, 'BAC': 0.0, 'INTC': 0.0}\n",
      "Optimal Sharpe ratio: nan\n"
     ]
    }
   ],
   "source": [
    "weights_short = get_weights(history_short, False)\n",
    "print(f'Optimal weights for bottom companies: {weights_short}')\n",
    "print(f'Optimal Sharpe ratio: {-sharpe_short(np.array(list(weights_short.values())))}')"
   ],
   "metadata": {
    "collapsed": false,
    "ExecuteTime": {
     "end_time": "2023-11-14T05:53:58.988484Z",
     "start_time": "2023-11-14T05:53:58.694789100Z"
    }
   },
   "id": "b0178ec648e76f70"
  },
  {
   "cell_type": "code",
   "execution_count": null,
   "outputs": [],
   "source": [],
   "metadata": {
    "collapsed": false,
    "ExecuteTime": {
     "start_time": "2023-11-14T05:04:29.053401700Z"
    }
   },
   "id": "3087d77f3c7eaed2"
  }
 ],
 "metadata": {
  "kernelspec": {
   "display_name": "Python 3",
   "language": "python",
   "name": "python3"
  },
  "language_info": {
   "codemirror_mode": {
    "name": "ipython",
    "version": 2
   },
   "file_extension": ".py",
   "mimetype": "text/x-python",
   "name": "python",
   "nbconvert_exporter": "python",
   "pygments_lexer": "ipython2",
   "version": "2.7.6"
  }
 },
 "nbformat": 4,
 "nbformat_minor": 5
}
