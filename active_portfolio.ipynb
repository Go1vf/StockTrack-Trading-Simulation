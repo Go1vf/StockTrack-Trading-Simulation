{
 "cells": [
  {
   "cell_type": "code",
   "execution_count": 1,
   "id": "initial_id",
   "metadata": {
    "collapsed": true,
    "ExecuteTime": {
     "end_time": "2023-11-08T22:22:39.538299530Z",
     "start_time": "2023-11-08T22:22:38.789247782Z"
    }
   },
   "outputs": [],
   "source": [
    "import numpy as np\n",
    "import pandas as pd\n",
    "import yfinance as yf\n",
    "\n",
    "from scipy.optimize import minimize"
   ]
  },
  {
   "cell_type": "markdown",
   "source": [
    "# Choosing top-50 and bottom-50 companies"
   ],
   "metadata": {
    "collapsed": false
   },
   "id": "f74257276808ba58"
  },
  {
   "cell_type": "code",
   "execution_count": 2,
   "outputs": [],
   "source": [
    "target_long = pd.DataFrame(['ASML', 'GOOG', 'ACN', 'AAPL', 'SONY',\n",
    "                            'INTU', 'V', 'MA', 'BX', 'TTE'],\n",
    "                           columns=['Ticker'])\n",
    "# TODO\n",
    "target_short = pd.DataFrame([],\n",
    "                            columns=['Ticker']\n",
    "                            )"
   ],
   "metadata": {
    "collapsed": false,
    "ExecuteTime": {
     "end_time": "2023-11-08T22:22:39.550798935Z",
     "start_time": "2023-11-08T22:22:39.544866549Z"
    }
   },
   "id": "6e7e57b29e2ea518"
  },
  {
   "cell_type": "markdown",
   "source": [
    "# Getting 2-month history"
   ],
   "metadata": {
    "collapsed": false
   },
   "id": "f41faac5b97a1f9d"
  },
  {
   "cell_type": "code",
   "execution_count": 3,
   "outputs": [],
   "source": [
    "def get_history(target_df: pd.DataFrame, long=True) -> pd.DataFrame:\n",
    "    history = pd.DataFrame(columns=list(target_long['Ticker']))\n",
    "    for ticker in target_df['Ticker']:\n",
    "        # TODO think about the appropriate price column to use\n",
    "        history[ticker] = yf.Ticker(ticker).history(interval='5m')['High' if long else 'Low']\n",
    "    return history"
   ],
   "metadata": {
    "collapsed": false,
    "ExecuteTime": {
     "end_time": "2023-11-08T22:22:39.715107445Z",
     "start_time": "2023-11-08T22:22:39.705368031Z"
    }
   },
   "id": "bf9f0d57691c9fe1"
  },
  {
   "cell_type": "code",
   "execution_count": 4,
   "outputs": [
    {
     "name": "stdout",
     "output_type": "stream",
     "text": [
      "<class 'pandas.core.frame.DataFrame'>\n",
      "DatetimeIndex: 1793 entries, 2023-10-09 09:30:00-04:00 to 2023-11-08 15:55:00-05:00\n",
      "Data columns (total 10 columns):\n",
      " #   Column  Non-Null Count  Dtype  \n",
      "---  ------  --------------  -----  \n",
      " 0   ASML    1793 non-null   float64\n",
      " 1   GOOG    1793 non-null   float64\n",
      " 2   ACN     1793 non-null   float64\n",
      " 3   AAPL    1793 non-null   float64\n",
      " 4   SONY    1786 non-null   float64\n",
      " 5   INTU    1793 non-null   float64\n",
      " 6   V       1793 non-null   float64\n",
      " 7   MA      1793 non-null   float64\n",
      " 8   BX      1793 non-null   float64\n",
      " 9   TTE     1793 non-null   float64\n",
      "dtypes: float64(10)\n",
      "memory usage: 154.1 KB\n"
     ]
    },
    {
     "data": {
      "text/plain": "                                 ASML        GOOG         ACN        AAPL  \\\nDatetime                                                                    \n2023-10-09 09:30:00-04:00  589.309998  138.029999  310.450012  176.880005   \n2023-10-09 09:35:00-04:00  584.614990  137.551804  311.239990  176.380005   \n2023-10-09 09:40:00-04:00  586.650024  137.710007  311.109985  176.839996   \n2023-10-09 09:45:00-04:00  587.619995  138.460007  310.890015  177.089996   \n2023-10-09 09:50:00-04:00  587.830017  138.689896  310.429993  177.169998   \n\n                                SONY        INTU           V          MA  \\\nDatetime                                                                   \n2023-10-09 09:30:00-04:00  82.500000  528.770020  233.647507  395.929993   \n2023-10-09 09:35:00-04:00  82.389999  529.064819  233.940002  393.839996   \n2023-10-09 09:40:00-04:00  82.500000  530.330017  233.720001  393.390015   \n2023-10-09 09:45:00-04:00  82.580002  530.909973  233.847504  393.869995   \n2023-10-09 09:50:00-04:00  82.584999  531.455017  233.250000  392.410004   \n\n                                   BX        TTE  \nDatetime                                          \n2023-10-09 09:30:00-04:00  103.730003  65.019997  \n2023-10-09 09:35:00-04:00  103.858398  65.150002  \n2023-10-09 09:40:00-04:00  104.099998  65.160004  \n2023-10-09 09:45:00-04:00  104.058403  65.089996  \n2023-10-09 09:50:00-04:00  103.680000  64.930000  ",
      "text/html": "<div>\n<style scoped>\n    .dataframe tbody tr th:only-of-type {\n        vertical-align: middle;\n    }\n\n    .dataframe tbody tr th {\n        vertical-align: top;\n    }\n\n    .dataframe thead th {\n        text-align: right;\n    }\n</style>\n<table border=\"1\" class=\"dataframe\">\n  <thead>\n    <tr style=\"text-align: right;\">\n      <th></th>\n      <th>ASML</th>\n      <th>GOOG</th>\n      <th>ACN</th>\n      <th>AAPL</th>\n      <th>SONY</th>\n      <th>INTU</th>\n      <th>V</th>\n      <th>MA</th>\n      <th>BX</th>\n      <th>TTE</th>\n    </tr>\n    <tr>\n      <th>Datetime</th>\n      <th></th>\n      <th></th>\n      <th></th>\n      <th></th>\n      <th></th>\n      <th></th>\n      <th></th>\n      <th></th>\n      <th></th>\n      <th></th>\n    </tr>\n  </thead>\n  <tbody>\n    <tr>\n      <th>2023-10-09 09:30:00-04:00</th>\n      <td>589.309998</td>\n      <td>138.029999</td>\n      <td>310.450012</td>\n      <td>176.880005</td>\n      <td>82.500000</td>\n      <td>528.770020</td>\n      <td>233.647507</td>\n      <td>395.929993</td>\n      <td>103.730003</td>\n      <td>65.019997</td>\n    </tr>\n    <tr>\n      <th>2023-10-09 09:35:00-04:00</th>\n      <td>584.614990</td>\n      <td>137.551804</td>\n      <td>311.239990</td>\n      <td>176.380005</td>\n      <td>82.389999</td>\n      <td>529.064819</td>\n      <td>233.940002</td>\n      <td>393.839996</td>\n      <td>103.858398</td>\n      <td>65.150002</td>\n    </tr>\n    <tr>\n      <th>2023-10-09 09:40:00-04:00</th>\n      <td>586.650024</td>\n      <td>137.710007</td>\n      <td>311.109985</td>\n      <td>176.839996</td>\n      <td>82.500000</td>\n      <td>530.330017</td>\n      <td>233.720001</td>\n      <td>393.390015</td>\n      <td>104.099998</td>\n      <td>65.160004</td>\n    </tr>\n    <tr>\n      <th>2023-10-09 09:45:00-04:00</th>\n      <td>587.619995</td>\n      <td>138.460007</td>\n      <td>310.890015</td>\n      <td>177.089996</td>\n      <td>82.580002</td>\n      <td>530.909973</td>\n      <td>233.847504</td>\n      <td>393.869995</td>\n      <td>104.058403</td>\n      <td>65.089996</td>\n    </tr>\n    <tr>\n      <th>2023-10-09 09:50:00-04:00</th>\n      <td>587.830017</td>\n      <td>138.689896</td>\n      <td>310.429993</td>\n      <td>177.169998</td>\n      <td>82.584999</td>\n      <td>531.455017</td>\n      <td>233.250000</td>\n      <td>392.410004</td>\n      <td>103.680000</td>\n      <td>64.930000</td>\n    </tr>\n  </tbody>\n</table>\n</div>"
     },
     "execution_count": 4,
     "metadata": {},
     "output_type": "execute_result"
    }
   ],
   "source": [
    "history_long = get_history(target_long)\n",
    "history_long.info()\n",
    "history_long.head()"
   ],
   "metadata": {
    "collapsed": false,
    "ExecuteTime": {
     "end_time": "2023-11-08T22:22:44.127366087Z",
     "start_time": "2023-11-08T22:22:39.995934336Z"
    }
   },
   "id": "ebe361f9212621bc"
  },
  {
   "cell_type": "code",
   "execution_count": 5,
   "outputs": [
    {
     "name": "stdout",
     "output_type": "stream",
     "text": [
      "<class 'pandas.core.frame.DataFrame'>\n",
      "RangeIndex: 0 entries\n",
      "Data columns (total 10 columns):\n",
      " #   Column  Non-Null Count  Dtype \n",
      "---  ------  --------------  ----- \n",
      " 0   ASML    0 non-null      object\n",
      " 1   GOOG    0 non-null      object\n",
      " 2   ACN     0 non-null      object\n",
      " 3   AAPL    0 non-null      object\n",
      " 4   SONY    0 non-null      object\n",
      " 5   INTU    0 non-null      object\n",
      " 6   V       0 non-null      object\n",
      " 7   MA      0 non-null      object\n",
      " 8   BX      0 non-null      object\n",
      " 9   TTE     0 non-null      object\n",
      "dtypes: object(10)\n",
      "memory usage: 124.0+ bytes\n"
     ]
    },
    {
     "data": {
      "text/plain": "Empty DataFrame\nColumns: [ASML, GOOG, ACN, AAPL, SONY, INTU, V, MA, BX, TTE]\nIndex: []",
      "text/html": "<div>\n<style scoped>\n    .dataframe tbody tr th:only-of-type {\n        vertical-align: middle;\n    }\n\n    .dataframe tbody tr th {\n        vertical-align: top;\n    }\n\n    .dataframe thead th {\n        text-align: right;\n    }\n</style>\n<table border=\"1\" class=\"dataframe\">\n  <thead>\n    <tr style=\"text-align: right;\">\n      <th></th>\n      <th>ASML</th>\n      <th>GOOG</th>\n      <th>ACN</th>\n      <th>AAPL</th>\n      <th>SONY</th>\n      <th>INTU</th>\n      <th>V</th>\n      <th>MA</th>\n      <th>BX</th>\n      <th>TTE</th>\n    </tr>\n  </thead>\n  <tbody>\n  </tbody>\n</table>\n</div>"
     },
     "execution_count": 5,
     "metadata": {},
     "output_type": "execute_result"
    }
   ],
   "source": [
    "history_short = get_history(target_short)\n",
    "history_short.info()\n",
    "history_short.head()"
   ],
   "metadata": {
    "collapsed": false,
    "ExecuteTime": {
     "end_time": "2023-11-08T22:22:44.147570620Z",
     "start_time": "2023-11-08T22:22:44.121631555Z"
    }
   },
   "id": "895dfe01038ba9d9"
  },
  {
   "cell_type": "markdown",
   "source": [
    "# Getting 2-month compound returns"
   ],
   "metadata": {
    "collapsed": false
   },
   "id": "3333c61d2a44fd09"
  },
  {
   "cell_type": "code",
   "execution_count": 6,
   "outputs": [],
   "source": [
    "def get_returns(history_df: pd.DataFrame) -> np.ndarray:\n",
    "    n = len(history_df.columns)\n",
    "    returns = np.zeros(n, dtype=float)\n",
    "    for i in range(n):\n",
    "        # TODO think about the appropriate return calculation\n",
    "        helper = history_df.iloc[:, i] / history_df.iloc[:, i].shift(1)\n",
    "        helper = helper.iloc[1:]\n",
    "        returns[i] = np.prod(helper) - 1\n",
    "    return returns"
   ],
   "metadata": {
    "collapsed": false,
    "ExecuteTime": {
     "end_time": "2023-11-08T22:22:44.148109433Z",
     "start_time": "2023-11-08T22:22:44.134652664Z"
    }
   },
   "id": "bf677dcc6b4a37e1"
  },
  {
   "cell_type": "code",
   "execution_count": 7,
   "outputs": [
    {
     "name": "stdout",
     "output_type": "stream",
     "text": [
      "Top companies' returns: [ 0.08487896 -0.0337608   0.02448051  0.0345432   0.05841045 -0.01106348\n",
      "  0.04417978 -0.01394183 -0.04309265 -0.00461389]\n"
     ]
    }
   ],
   "source": [
    "returns_long = get_returns(history_long)\n",
    "print(f'Top companies\\' returns: {returns_long}')"
   ],
   "metadata": {
    "collapsed": false,
    "ExecuteTime": {
     "end_time": "2023-11-08T22:22:44.213032977Z",
     "start_time": "2023-11-08T22:22:44.145973947Z"
    }
   },
   "id": "d4e5baa53a398b43"
  },
  {
   "cell_type": "code",
   "execution_count": 8,
   "outputs": [
    {
     "name": "stdout",
     "output_type": "stream",
     "text": [
      "Bottom companies' returns: [0. 0. 0. 0. 0. 0. 0. 0. 0. 0.]\n"
     ]
    }
   ],
   "source": [
    "returns_short = get_returns(history_short)\n",
    "print(f'Bottom companies\\' returns: {returns_short}')"
   ],
   "metadata": {
    "collapsed": false,
    "ExecuteTime": {
     "end_time": "2023-11-08T22:22:44.233393253Z",
     "start_time": "2023-11-08T22:22:44.168522368Z"
    }
   },
   "id": "1ba270930aaaaf57"
  },
  {
   "cell_type": "markdown",
   "source": [
    "# Getting weights"
   ],
   "metadata": {
    "collapsed": false
   },
   "id": "73f9364e7b0c0239"
  },
  {
   "cell_type": "code",
   "execution_count": 9,
   "outputs": [],
   "source": [
    "def sharpe_long(weights):\n",
    "    return -np.dot(returns_long, weights) / np.sqrt(weights @ history_long.cov().to_numpy() @ weights)\n",
    "\n",
    "\n",
    "def sharpe_short(weights):\n",
    "    return -np.dot(returns_short, weights) / np.sqrt(weights @ history_short.cov().to_numpy() @ weights)"
   ],
   "metadata": {
    "collapsed": false,
    "ExecuteTime": {
     "end_time": "2023-11-08T22:22:44.275068443Z",
     "start_time": "2023-11-08T22:22:44.179475317Z"
    }
   },
   "id": "421f9e74574a08a3"
  },
  {
   "cell_type": "code",
   "execution_count": 10,
   "outputs": [],
   "source": [
    "def get_weights(history_df: pd.DataFrame, long=True) -> np.ndarray:\n",
    "    n = len(history_df.columns)\n",
    "    weights = np.ones(n)\n",
    "\n",
    "    bounds = [(0.0, None)] * n if long else [(None, 0.0)] * n\n",
    "    constraints = ({'type': 'eq', 'fun': lambda weights: weights.sum() - 1.0})\n",
    "    optimal_weights = minimize(sharpe_long if long else sharpe_short,\n",
    "                               weights, \n",
    "                               method='SLSQP',\n",
    "                               constraints=constraints,\n",
    "                               bounds=bounds\n",
    "                               ).x\n",
    "\n",
    "    return optimal_weights"
   ],
   "metadata": {
    "collapsed": false,
    "ExecuteTime": {
     "end_time": "2023-11-08T22:22:44.446776494Z",
     "start_time": "2023-11-08T22:22:44.188615927Z"
    }
   },
   "id": "6d68570a4c2fb093"
  },
  {
   "cell_type": "code",
   "execution_count": 11,
   "outputs": [
    {
     "name": "stdout",
     "output_type": "stream",
     "text": [
      "Optimal weights for top companies: [6.39782185e-10 3.13414921e-11 3.22108130e-10 7.11078752e-09\n",
      " 9.99999988e-01 1.65696829e-11 2.63636752e-08 5.90441564e-11\n",
      " 1.49244750e-11 0.00000000e+00]\n",
      "Optimal Sharpe ratio: 0.028458272296391824\n"
     ]
    }
   ],
   "source": [
    "weights_long = get_weights(history_long, True)\n",
    "print(f'Optimal weights for top companies: {weights_long}')\n",
    "print(f'Optimal Sharpe ratio: {-sharpe_long(weights_long)}')"
   ],
   "metadata": {
    "collapsed": false,
    "ExecuteTime": {
     "end_time": "2023-11-08T22:22:44.538768480Z",
     "start_time": "2023-11-08T22:22:44.364272361Z"
    }
   },
   "id": "95f2f53caff9deff"
  },
  {
   "cell_type": "code",
   "execution_count": null,
   "outputs": [],
   "source": [
    "weights_short = get_weights(history_long, False)\n",
    "print(f'Optimal weights for bottom companies: {weights_short}')\n",
    "print(f'Optimal Sharpe ratio: {-sharpe_long(weights_short)}')"
   ],
   "metadata": {
    "collapsed": false
   },
   "id": "b0178ec648e76f70"
  },
  {
   "cell_type": "code",
   "execution_count": null,
   "outputs": [],
   "source": [],
   "metadata": {
    "collapsed": false
   },
   "id": "3087d77f3c7eaed2"
  }
 ],
 "metadata": {
  "kernelspec": {
   "display_name": "Python 3",
   "language": "python",
   "name": "python3"
  },
  "language_info": {
   "codemirror_mode": {
    "name": "ipython",
    "version": 2
   },
   "file_extension": ".py",
   "mimetype": "text/x-python",
   "name": "python",
   "nbconvert_exporter": "python",
   "pygments_lexer": "ipython2",
   "version": "2.7.6"
  }
 },
 "nbformat": 4,
 "nbformat_minor": 5
}
