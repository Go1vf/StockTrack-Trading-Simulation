{
 "cells": [
  {
   "cell_type": "code",
   "execution_count": 1,
   "id": "initial_id",
   "metadata": {
    "collapsed": true,
    "ExecuteTime": {
     "end_time": "2023-11-21T18:42:59.299369722Z",
     "start_time": "2023-11-21T18:42:58.887820188Z"
    }
   },
   "outputs": [],
   "source": [
    "import numpy as np\n",
    "import pandas as pd\n",
    "import yfinance as yf\n",
    "\n",
    "from scipy.optimize import minimize"
   ]
  },
  {
   "cell_type": "code",
   "execution_count": 2,
   "outputs": [],
   "source": [
    "# pd.set_option('display.max_rows', 20)"
   ],
   "metadata": {
    "collapsed": false,
    "ExecuteTime": {
     "end_time": "2023-11-21T18:42:59.340857811Z",
     "start_time": "2023-11-21T18:42:59.340239479Z"
    }
   },
   "id": "b452c80153b5056e"
  },
  {
   "cell_type": "code",
   "execution_count": 3,
   "outputs": [],
   "source": [
    "# import yfinance as yf\n",
    "# import pandas as pd\n",
    "# import numpy as np\n",
    "# from scipy import optimize\n",
    "# \n",
    "# import os\n",
    "# cwd = os.getcwd()\n",
    "# print(cwd)\n",
    "# os.chdir(r'C:\\Users\\mitch\\Documents\\QCF\\Finance and Investments\\StockTrack-Trading-Simulation')"
   ],
   "metadata": {
    "collapsed": false,
    "ExecuteTime": {
     "end_time": "2023-11-21T18:42:59.341129435Z",
     "start_time": "2023-11-21T18:42:59.340665529Z"
    }
   },
   "id": "88bb78b6a3732fb8"
  },
  {
   "cell_type": "markdown",
   "source": [
    "# Reusable functions"
   ],
   "metadata": {
    "collapsed": false
   },
   "id": "82da38b746da26b2"
  },
  {
   "cell_type": "code",
   "execution_count": 4,
   "outputs": [],
   "source": [
    "def calculate_return(df):\n",
    "    if df.empty:\n",
    "        return None\n",
    "    # Get the closing price at the start of the year\n",
    "    start_price = df['Close'].iloc[0]\n",
    "\n",
    "    # Get the closing price at the end of the year\n",
    "    end_price = df['Close'].iloc[-1]\n",
    "\n",
    "    # Calculate the one-year return\n",
    "    return (end_price - start_price) / start_price\n",
    "# \n",
    "# \n",
    "# def MaximizeSharpeRatioOptmzn(MeanReturns, CovarReturns, RiskFreeRate, PortfolioSize):\n",
    "#     # define maximization of Sharpe Ratio using principle of duality\n",
    "#     def f(x, MeanReturns, CovarReturns, RiskFreeRate, PortfolioSize):\n",
    "#         funcDenomr = np.sqrt(np.matmul(np.matmul(x, CovarReturns), x.T))\n",
    "#         funcNumer = np.matmul(np.array(MeanReturns), x.T) - RiskFreeRate\n",
    "#         func = -(funcNumer / funcDenomr)\n",
    "#         return func\n",
    "# \n",
    "#     #define equality constraint representing fully invested portfolio\n",
    "#     def constraintEq(x):\n",
    "#         A = np.ones(x.shape)\n",
    "#         b = 1\n",
    "#         constraintVal = np.matmul(A, x.T) - b\n",
    "#         return constraintVal\n",
    "# \n",
    "#     #define bounds and other parameters\n",
    "#     xinit = np.repeat(0.33, PortfolioSize)\n",
    "#     cons = ({'type': 'eq', 'fun': constraintEq})\n",
    "#     lb = 0\n",
    "#     ub = 1\n",
    "#     bnds = tuple([(lb, ub) for x in xinit])\n",
    "# \n",
    "#     #invoke minimize solver\n",
    "#     opt = minimize(f, x0=xinit, args=(MeanReturns, CovarReturns, RiskFreeRate, PortfolioSize), method='SLSQP',\n",
    "#                    bounds=bnds, constraints=cons, tol=10 ** -3)\n",
    "# \n",
    "#     return opt\n"
   ],
   "metadata": {
    "collapsed": false,
    "ExecuteTime": {
     "end_time": "2023-11-21T18:43:00.080310592Z",
     "start_time": "2023-11-21T18:43:00.072014135Z"
    }
   },
   "id": "38faa609bbae38c4"
  },
  {
   "cell_type": "code",
   "execution_count": 5,
   "outputs": [
    {
     "data": {
      "text/plain": "    Symbol                     Company Name                        Industry  \\\n0     AAPL                       Apple Inc.            Consumer Electronics   \n1     MSFT            Microsoft Corporation       Software - Infrastructure   \n2    GOOGL                    Alphabet Inc.  Internet Content & Information   \n3     GOOG                    Alphabet Inc.  Internet Content & Information   \n4     AMZN                 Amazon.com, Inc.                 Internet Retail   \n..     ...                              ...                             ...   \n495   RBLX               Roblox Corporation  Electronic Gaming & Multimedia   \n496    WBA   Walgreens Boots Alliance, Inc.        Pharmaceutical Retailers   \n497     TW            Tradeweb Markets Inc.                 Capital Markets   \n498     ZM  Zoom Video Communications, Inc.          Software - Application   \n499   ULTA                Ulta Beauty, Inc.                Specialty Retail   \n\n    Market Cap  \n0    2,811.03B  \n1    2,469.80B  \n2    1,779.01B  \n3    1,778.79B  \n4    1,360.20B  \n..         ...  \n495     19.59B  \n496     19.51B  \n497     19.51B  \n498     19.51B  \n499     19.49B  \n\n[500 rows x 4 columns]",
      "text/html": "<div>\n<style scoped>\n    .dataframe tbody tr th:only-of-type {\n        vertical-align: middle;\n    }\n\n    .dataframe tbody tr th {\n        vertical-align: top;\n    }\n\n    .dataframe thead th {\n        text-align: right;\n    }\n</style>\n<table border=\"1\" class=\"dataframe\">\n  <thead>\n    <tr style=\"text-align: right;\">\n      <th></th>\n      <th>Symbol</th>\n      <th>Company Name</th>\n      <th>Industry</th>\n      <th>Market Cap</th>\n    </tr>\n  </thead>\n  <tbody>\n    <tr>\n      <th>0</th>\n      <td>AAPL</td>\n      <td>Apple Inc.</td>\n      <td>Consumer Electronics</td>\n      <td>2,811.03B</td>\n    </tr>\n    <tr>\n      <th>1</th>\n      <td>MSFT</td>\n      <td>Microsoft Corporation</td>\n      <td>Software - Infrastructure</td>\n      <td>2,469.80B</td>\n    </tr>\n    <tr>\n      <th>2</th>\n      <td>GOOGL</td>\n      <td>Alphabet Inc.</td>\n      <td>Internet Content &amp; Information</td>\n      <td>1,779.01B</td>\n    </tr>\n    <tr>\n      <th>3</th>\n      <td>GOOG</td>\n      <td>Alphabet Inc.</td>\n      <td>Internet Content &amp; Information</td>\n      <td>1,778.79B</td>\n    </tr>\n    <tr>\n      <th>4</th>\n      <td>AMZN</td>\n      <td>Amazon.com, Inc.</td>\n      <td>Internet Retail</td>\n      <td>1,360.20B</td>\n    </tr>\n    <tr>\n      <th>...</th>\n      <td>...</td>\n      <td>...</td>\n      <td>...</td>\n      <td>...</td>\n    </tr>\n    <tr>\n      <th>495</th>\n      <td>RBLX</td>\n      <td>Roblox Corporation</td>\n      <td>Electronic Gaming &amp; Multimedia</td>\n      <td>19.59B</td>\n    </tr>\n    <tr>\n      <th>496</th>\n      <td>WBA</td>\n      <td>Walgreens Boots Alliance, Inc.</td>\n      <td>Pharmaceutical Retailers</td>\n      <td>19.51B</td>\n    </tr>\n    <tr>\n      <th>497</th>\n      <td>TW</td>\n      <td>Tradeweb Markets Inc.</td>\n      <td>Capital Markets</td>\n      <td>19.51B</td>\n    </tr>\n    <tr>\n      <th>498</th>\n      <td>ZM</td>\n      <td>Zoom Video Communications, Inc.</td>\n      <td>Software - Application</td>\n      <td>19.51B</td>\n    </tr>\n    <tr>\n      <th>499</th>\n      <td>ULTA</td>\n      <td>Ulta Beauty, Inc.</td>\n      <td>Specialty Retail</td>\n      <td>19.49B</td>\n    </tr>\n  </tbody>\n</table>\n<p>500 rows × 4 columns</p>\n</div>"
     },
     "execution_count": 5,
     "metadata": {},
     "output_type": "execute_result"
    }
   ],
   "source": [
    "largest_market_cap = pd.read_excel('./Top Companies by Market Cap.xlsx', sheet_name='Sheet1')\n",
    "largest_market_cap"
   ],
   "metadata": {
    "collapsed": false,
    "ExecuteTime": {
     "end_time": "2023-11-21T18:43:00.753880506Z",
     "start_time": "2023-11-21T18:43:00.540039681Z"
    }
   },
   "id": "70806985cf5d7ad7"
  },
  {
   "cell_type": "code",
   "execution_count": 6,
   "outputs": [],
   "source": [
    "largest_market_cap = largest_market_cap[~largest_market_cap['Symbol'].str.contains('\\.')].reset_index(drop=True)\n",
    "top = largest_market_cap.head(100)\n",
    "top_symbols = top['Symbol']"
   ],
   "metadata": {
    "collapsed": false,
    "ExecuteTime": {
     "end_time": "2023-11-21T18:43:00.964744636Z",
     "start_time": "2023-11-21T18:43:00.916856854Z"
    }
   },
   "id": "9fe2e4bb8c7289e5"
  },
  {
   "cell_type": "code",
   "execution_count": 7,
   "outputs": [],
   "source": [
    "# ticker = yf.Ticker('AAPL')\n",
    "# stock_info = ticker.info\n",
    "# print(stock_info.get('beta'))"
   ],
   "metadata": {
    "collapsed": false,
    "ExecuteTime": {
     "end_time": "2023-11-21T18:43:01.122253492Z",
     "start_time": "2023-11-21T18:43:01.110185232Z"
    }
   },
   "id": "3e12a442c05f1a3c"
  },
  {
   "cell_type": "code",
   "execution_count": 8,
   "outputs": [],
   "source": [
    "one_year_data = {}\n",
    "three_year_data = {}\n",
    "five_year_data = {}\n",
    "for symbol in top_symbols:\n",
    "    ticker = yf.Ticker(symbol)\n",
    "    one_year_data[symbol] = ticker.history(period=\"1y\")\n",
    "    three_year_data[symbol] = ticker.history(period=\"3y\")\n",
    "    five_year_data[symbol] = ticker.history(period=\"5y\")"
   ],
   "metadata": {
    "collapsed": false,
    "ExecuteTime": {
     "end_time": "2023-11-21T18:44:13.252891811Z",
     "start_time": "2023-11-21T18:43:01.238758843Z"
    }
   },
   "id": "fbbf51507eca1825"
  },
  {
   "cell_type": "code",
   "execution_count": 9,
   "outputs": [
    {
     "data": {
      "text/plain": "{'AAPL': 0.2937794232613147,\n 'MSFT': 0.5507082393316682,\n 'GOOGL': 0.43101459057883085,\n 'GOOG': 0.44458932394314615,\n 'AMZN': 0.5523469630165798,\n 'NVDA': 2.2522331512362626,\n 'META': 2.088248607423694,\n 'TSLA': 0.43567466264686144,\n 'LLY': 0.6596676265139012,\n 'V': 0.23156711759453585,\n 'UNH': 0.06149647978507185,\n 'TSM': 0.26079582167227,\n 'NVO': 0.8667653377406781,\n 'WMT': 0.05154871113872603,\n 'JPM': 0.18530533988270698,\n 'XOM': -0.02741073016241829,\n 'JNJ': -0.11744092703072755,\n 'MA': 0.2186543003128291,\n 'AVGO': 0.950813791304629,\n 'PG': 0.06242337035830541,\n 'CVX': -0.1744833620621768,\n 'ORCL': 0.47846347347968216,\n 'HD': -0.009102905690481219,\n 'ABBV': -0.08204457731217486,\n 'MRK': -0.004165440227472742,\n 'COST': 0.1249401911626744,\n 'ADBE': 0.8912253203353829,\n 'TM': 0.29558235742274164,\n 'ASML': 0.18594687869411397,\n 'KO': -0.03873827978148943,\n 'PEP': -0.06814586886661313,\n 'BABA': 0.026647641279417624,\n 'SHEL': 0.2627302990968603,\n 'CSCO': 0.03671300654910915,\n 'BAC': -0.18091977288675162,\n 'AZN': 0.003383700463503974,\n 'NVS': 0.16044156895320688,\n 'CRM': 0.5492578129526414,\n 'ACN': 0.17300325276069883,\n 'FMX': 0.585243755505411,\n 'TMO': -0.08714981134779416,\n 'PFE': -0.3452861600051383,\n 'LIN': 0.25122456031770113,\n 'MCD': 0.04290404664006583,\n 'CMCSA': 0.27615719385847887,\n 'AMD': 0.6355230973446948,\n 'TMUS': -0.008973853595446227,\n 'NFLX': 0.6721278198917876,\n 'ABT': 0.005178174774673135,\n 'DHR': -0.03721575931935268,\n 'HSBC': 0.438360952039157,\n 'TTE': 0.2675966627817492,\n 'DIS': -0.031153933782361008,\n 'SAP': 0.4286600506477515,\n 'INTC': 0.5398193572545562,\n 'INTU': 0.5085774936966238,\n 'AMGN': -0.057474382864652854,\n 'NKE': 0.03715400550019644,\n 'HDB': -0.11806726257833901,\n 'PDD': 0.7361726820073679,\n 'BHP': 0.120531690694296,\n 'WFC': -0.06260755426647917,\n 'PM': 0.009207348872125506,\n 'COP': -0.04453286837301522,\n 'TXN': -0.08575742458343051,\n 'CAT': 0.09517102090755938,\n 'SNY': 0.08491482118464729,\n 'UPS': -0.1369725976447513,\n 'VZ': 0.034396475729820936,\n 'MS': -0.08079925532985309,\n 'BX': 0.2233520910712593,\n 'IBM': 0.10072442775906976,\n 'UNP': 0.07666724869861294,\n 'HON': -0.09834035558171164,\n 'QCOM': 0.0801023538078097,\n 'GE': 0.7942416557748532,\n 'UL': 0.012647844662743097,\n 'RY': -0.07100508544504612,\n 'AMAT': 0.424556637391934,\n 'BMY': -0.3622989685161208,\n 'SPGI': 0.19984506106187375,\n 'BA': 0.26240317012940767,\n 'LOW': -0.03427543939361499,\n 'NOW': 0.7220815921765088,\n 'DE': -0.0632735970413129,\n 'AXP': 0.07651672982996575,\n 'BP': 0.12602077050522262,\n 'LMT': -0.04383746717956044,\n 'BKNG': 0.6449682030456749,\n 'TD': -0.031011078105905265,\n 'NEE': -0.2885499044779141,\n 'BUD': 0.13085139355642966,\n 'ELV': -0.046362572847906375,\n 'RTX': -0.16315635861447486,\n 'T': -0.08276133286948104,\n 'SONY': 0.09950693021857748,\n 'SBUX': 0.07850951543461956,\n 'PLD': -0.008744676737767283,\n 'GS': -0.09063922314339422,\n 'ADP': -0.08494026551282954}"
     },
     "execution_count": 9,
     "metadata": {},
     "output_type": "execute_result"
    }
   ],
   "source": [
    "one_year_return_data = {}\n",
    "three_year_return_data = {}\n",
    "five_year_return_data = {}\n",
    "for key, df in one_year_data.items():\n",
    "    one_year_return_data[key] = calculate_return(one_year_data[key])\n",
    "    three_year_return_data[key] = calculate_return(three_year_data[key])\n",
    "    five_year_return_data[key] = calculate_return(five_year_data[key])\n",
    "\n",
    "one_year_return_data"
   ],
   "metadata": {
    "collapsed": false,
    "ExecuteTime": {
     "end_time": "2023-11-21T18:44:13.312104221Z",
     "start_time": "2023-11-21T18:44:13.300175147Z"
    }
   },
   "id": "36d2a48dd56ccc64"
  },
  {
   "cell_type": "code",
   "execution_count": 10,
   "outputs": [
    {
     "name": "stdout",
     "output_type": "stream",
     "text": [
      "Top Decile Overlaps: {'AVGO', 'NVDA', 'LLY', 'NVO'}\n",
      "Bottom Decile Overlaps: {'HDB', 'NEE', 'BMY'}\n"
     ]
    }
   ],
   "source": [
    "def get_deciles(data):\n",
    "    # Remove None values and sort the data\n",
    "    filtered_data = {k: v for k, v in data.items() if v is not None}\n",
    "    sorted_data = sorted(filtered_data.items(), key=lambda x: x[1])\n",
    "\n",
    "    # Calculate the index for decile\n",
    "    n = len(sorted_data)\n",
    "    decile_index = n // 10\n",
    "\n",
    "    # Get the top and bottom decile\n",
    "    bottom_decile = dict(sorted_data[:decile_index])\n",
    "    top_decile = dict(sorted_data[-decile_index:])\n",
    "\n",
    "    return top_decile, bottom_decile\n",
    "\n",
    "\n",
    "# Apply the function to each dataset\n",
    "top_decile_one_year, bottom_decile_one_year = get_deciles(one_year_return_data)\n",
    "top_decile_three_year, bottom_decile_three_year = get_deciles(three_year_return_data)\n",
    "top_decile_five_year, bottom_decile_five_year = get_deciles(five_year_return_data)\n",
    "\n",
    "# Find overlapping keys in the top deciles\n",
    "overlapping_top_keys = set(top_decile_one_year.keys()) & set(top_decile_three_year.keys()) & set(\n",
    "    top_decile_five_year.keys())\n",
    "\n",
    "# Find overlapping keys in the bottom deciles\n",
    "overlapping_bottom_keys = set(bottom_decile_one_year.keys()) & set(bottom_decile_three_year.keys())\n",
    "\n",
    "# Print results\n",
    "print(\"Top Decile Overlaps:\", overlapping_top_keys)\n",
    "print(\"Bottom Decile Overlaps:\", overlapping_bottom_keys)\n"
   ],
   "metadata": {
    "collapsed": false,
    "ExecuteTime": {
     "end_time": "2023-11-21T18:44:13.313114305Z",
     "start_time": "2023-11-21T18:44:13.301692019Z"
    }
   },
   "id": "99a304a504eb9513"
  },
  {
   "cell_type": "markdown",
   "source": [
    "# Choosing top-50 and bottom-50 companies"
   ],
   "metadata": {
    "collapsed": false
   },
   "id": "f74257276808ba58"
  },
  {
   "cell_type": "code",
   "execution_count": 11,
   "outputs": [
    {
     "data": {
      "text/plain": "\"''\\n\\ntarget_long = pd.DataFrame(['ASML', 'GOOG', 'ACN', 'AAPL', 'SONY',\\n                            'INTU', 'V', 'MA', 'BX', 'TTE'],\\n                           columns=['Ticker'])\\n# TODO\\ntarget_short = pd.DataFrame([],\\n                            columns=['Ticker']\\n                            )\\n                            \\n                            \""
     },
     "execution_count": 11,
     "metadata": {},
     "output_type": "execute_result"
    }
   ],
   "source": [
    "'''''\n",
    "\n",
    "target_long = pd.DataFrame(['ASML', 'GOOG', 'ACN', 'AAPL', 'SONY',\n",
    "                            'INTU', 'V', 'MA', 'BX', 'TTE'],\n",
    "                           columns=['Ticker'])\n",
    "# TODO\n",
    "target_short = pd.DataFrame([],\n",
    "                            columns=['Ticker']\n",
    "                            )\n",
    "                            \n",
    "                            '''''"
   ],
   "metadata": {
    "collapsed": false,
    "ExecuteTime": {
     "end_time": "2023-11-21T18:44:13.389702854Z",
     "start_time": "2023-11-21T18:44:13.305921072Z"
    }
   },
   "id": "6e7e57b29e2ea518"
  },
  {
   "cell_type": "code",
   "execution_count": 12,
   "outputs": [
    {
     "data": {
      "text/plain": "{'AAPL',\n 'ADBE',\n 'AMAT',\n 'AMD',\n 'ASML',\n 'AVGO',\n 'BP',\n 'BX',\n 'COP',\n 'GE',\n 'LLY',\n 'META',\n 'NFLX',\n 'NOW',\n 'NVDA',\n 'NVO',\n 'ORCL',\n 'PDD',\n 'SHEL',\n 'TSLA',\n 'XOM'}"
     },
     "execution_count": 12,
     "metadata": {},
     "output_type": "execute_result"
    }
   ],
   "source": [
    "# Get all unique keys in the top deciles\n",
    "all_top_keys = set(top_decile_one_year.keys()) | set(top_decile_three_year.keys()) | set(top_decile_five_year.keys())\n",
    "\n",
    "# Get all unique keys in the bottom deciles\n",
    "all_bottom_keys = set(bottom_decile_one_year.keys()) | set(bottom_decile_three_year.keys()) | set(\n",
    "    bottom_decile_five_year.keys())\n",
    "\n",
    "all_top_keys"
   ],
   "metadata": {
    "collapsed": false,
    "ExecuteTime": {
     "end_time": "2023-11-21T18:44:13.390241560Z",
     "start_time": "2023-11-21T18:44:13.348054252Z"
    }
   },
   "id": "5414d18fd5680e6f"
  },
  {
   "cell_type": "code",
   "execution_count": 13,
   "outputs": [
    {
     "data": {
      "text/plain": "{'BA',\n 'BABA',\n 'BAC',\n 'BMY',\n 'BUD',\n 'CRM',\n 'CVX',\n 'DIS',\n 'HDB',\n 'HON',\n 'INTC',\n 'JNJ',\n 'NEE',\n 'NKE',\n 'PDD',\n 'PFE',\n 'RTX',\n 'UL',\n 'UPS',\n 'VZ',\n 'WFC'}"
     },
     "execution_count": 13,
     "metadata": {},
     "output_type": "execute_result"
    }
   ],
   "source": [
    "all_bottom_keys"
   ],
   "metadata": {
    "collapsed": false,
    "ExecuteTime": {
     "end_time": "2023-11-21T18:44:13.390585891Z",
     "start_time": "2023-11-21T18:44:13.348239478Z"
    }
   },
   "id": "6c5b104999ac1d56"
  },
  {
   "cell_type": "code",
   "execution_count": 14,
   "outputs": [],
   "source": [
    "target_long = pd.DataFrame(list(all_top_keys),\n",
    "                           columns=['Ticker'])\n",
    "# TODO\n",
    "target_short = pd.DataFrame(list(all_bottom_keys),\n",
    "                            columns=['Ticker'])\n"
   ],
   "metadata": {
    "collapsed": false,
    "ExecuteTime": {
     "end_time": "2023-11-21T18:44:13.391057618Z",
     "start_time": "2023-11-21T18:44:13.348360029Z"
    }
   },
   "id": "645261249ddc1609"
  },
  {
   "cell_type": "markdown",
   "source": [
    "# Getting 2-month history"
   ],
   "metadata": {
    "collapsed": false
   },
   "id": "f41faac5b97a1f9d"
  },
  {
   "cell_type": "code",
   "execution_count": 15,
   "outputs": [],
   "source": [
    "def get_history(target_df: pd.DataFrame, long=True) -> pd.DataFrame:\n",
    "    history = pd.DataFrame(columns=list(target_long['Ticker']))\n",
    "    for ticker in target_df['Ticker']:\n",
    "        # TODO think about the appropriate price column to use\n",
    "        history[ticker] = yf.Ticker(ticker).history(interval='5m')['High' if long else 'Low']\n",
    "    return history"
   ],
   "metadata": {
    "collapsed": false,
    "ExecuteTime": {
     "end_time": "2023-11-21T18:44:13.391276718Z",
     "start_time": "2023-11-21T18:44:13.348457601Z"
    }
   },
   "id": "bf9f0d57691c9fe1"
  },
  {
   "cell_type": "code",
   "execution_count": 16,
   "outputs": [
    {
     "name": "stdout",
     "output_type": "stream",
     "text": [
      "<class 'pandas.core.frame.DataFrame'>\n",
      "DatetimeIndex: 1689 entries, 2023-10-23 09:30:00-04:00 to 2023-11-21 13:40:00-05:00\n",
      "Data columns (total 21 columns):\n",
      " #   Column  Non-Null Count  Dtype  \n",
      "---  ------  --------------  -----  \n",
      " 0   SHEL    1689 non-null   float64\n",
      " 1   NOW     1689 non-null   float64\n",
      " 2   AAPL    1689 non-null   float64\n",
      " 3   ASML    1687 non-null   float64\n",
      " 4   XOM     1689 non-null   float64\n",
      " 5   LLY     1689 non-null   float64\n",
      " 6   ORCL    1689 non-null   float64\n",
      " 7   COP     1689 non-null   float64\n",
      " 8   BX      1689 non-null   float64\n",
      " 9   META    1689 non-null   float64\n",
      " 10  AMD     1689 non-null   float64\n",
      " 11  NFLX    1689 non-null   float64\n",
      " 12  PDD     1689 non-null   float64\n",
      " 13  GE      1689 non-null   float64\n",
      " 14  ADBE    1689 non-null   float64\n",
      " 15  AVGO    1689 non-null   float64\n",
      " 16  BP      1689 non-null   float64\n",
      " 17  AMAT    1689 non-null   float64\n",
      " 18  TSLA    1689 non-null   float64\n",
      " 19  NVDA    1689 non-null   float64\n",
      " 20  NVO     1689 non-null   float64\n",
      "dtypes: float64(21)\n",
      "memory usage: 290.3 KB\n"
     ]
    },
    {
     "data": {
      "text/plain": "                                SHEL         NOW        AAPL        ASML  \\\nDatetime                                                                   \n2023-10-23 09:30:00-04:00  67.690002  540.960022  171.679993  579.190002   \n2023-10-23 09:35:00-04:00  67.470001  536.000000  171.054993  577.005005   \n2023-10-23 09:40:00-04:00  67.300003  532.080017  170.570007  575.349976   \n2023-10-23 09:45:00-04:00  67.209999  537.859985  171.100006  580.280029   \n2023-10-23 09:50:00-04:00  67.260002  538.429993  171.350006  581.140015   \n\n                                  XOM         LLY        ORCL         COP  \\\nDatetime                                                                    \n2023-10-23 09:30:00-04:00  110.959999  586.059998  102.919998  123.160004   \n2023-10-23 09:35:00-04:00  110.769997  580.919983  103.019997  122.400002   \n2023-10-23 09:40:00-04:00  110.669998  580.359985  102.910004  122.720001   \n2023-10-23 09:45:00-04:00  109.875000  579.250000  102.919998  122.180000   \n2023-10-23 09:50:00-04:00  110.269997  578.989990  102.699997  122.459999   \n\n                                  BX        META  ...        NFLX         PDD  \\\nDatetime                                          ...                           \n2023-10-23 09:30:00-04:00  94.300003  310.649994  ...  407.109985  103.190002   \n2023-10-23 09:35:00-04:00  93.230003  310.200012  ...  407.509888  104.129898   \n2023-10-23 09:40:00-04:00  93.059998  309.380005  ...  404.700012  103.889999   \n2023-10-23 09:45:00-04:00  93.635002  309.970001  ...  406.480011  102.772202   \n2023-10-23 09:50:00-04:00  93.720001  310.649994  ...  405.763611  103.000000   \n\n                                   GE        ADBE        AVGO         BP  \\\nDatetime                                                                   \n2023-10-23 09:30:00-04:00  107.440002  537.929993  858.765198  39.200001   \n2023-10-23 09:35:00-04:00  107.989998  534.340027  847.530029  39.009998   \n2023-10-23 09:40:00-04:00  107.959999  533.044983  845.780029  38.880501   \n2023-10-23 09:45:00-04:00  107.680000  535.726318  851.630005  38.750000   \n2023-10-23 09:50:00-04:00  107.769997  537.789978  852.200012  38.790001   \n\n                                 AMAT        TSLA        NVDA        NVO  \nDatetime                                                                  \n2023-10-23 09:30:00-04:00  133.985001  210.479996  414.260010  97.139999  \n2023-10-23 09:35:00-04:00  133.059998  206.729996  411.746887  96.720001  \n2023-10-23 09:40:00-04:00  132.839905  205.250000  412.484100  96.599998  \n2023-10-23 09:45:00-04:00  133.890594  205.500000  416.299896  96.800003  \n2023-10-23 09:50:00-04:00  134.100006  206.990005  418.119995  96.860001  \n\n[5 rows x 21 columns]",
      "text/html": "<div>\n<style scoped>\n    .dataframe tbody tr th:only-of-type {\n        vertical-align: middle;\n    }\n\n    .dataframe tbody tr th {\n        vertical-align: top;\n    }\n\n    .dataframe thead th {\n        text-align: right;\n    }\n</style>\n<table border=\"1\" class=\"dataframe\">\n  <thead>\n    <tr style=\"text-align: right;\">\n      <th></th>\n      <th>SHEL</th>\n      <th>NOW</th>\n      <th>AAPL</th>\n      <th>ASML</th>\n      <th>XOM</th>\n      <th>LLY</th>\n      <th>ORCL</th>\n      <th>COP</th>\n      <th>BX</th>\n      <th>META</th>\n      <th>...</th>\n      <th>NFLX</th>\n      <th>PDD</th>\n      <th>GE</th>\n      <th>ADBE</th>\n      <th>AVGO</th>\n      <th>BP</th>\n      <th>AMAT</th>\n      <th>TSLA</th>\n      <th>NVDA</th>\n      <th>NVO</th>\n    </tr>\n    <tr>\n      <th>Datetime</th>\n      <th></th>\n      <th></th>\n      <th></th>\n      <th></th>\n      <th></th>\n      <th></th>\n      <th></th>\n      <th></th>\n      <th></th>\n      <th></th>\n      <th></th>\n      <th></th>\n      <th></th>\n      <th></th>\n      <th></th>\n      <th></th>\n      <th></th>\n      <th></th>\n      <th></th>\n      <th></th>\n      <th></th>\n    </tr>\n  </thead>\n  <tbody>\n    <tr>\n      <th>2023-10-23 09:30:00-04:00</th>\n      <td>67.690002</td>\n      <td>540.960022</td>\n      <td>171.679993</td>\n      <td>579.190002</td>\n      <td>110.959999</td>\n      <td>586.059998</td>\n      <td>102.919998</td>\n      <td>123.160004</td>\n      <td>94.300003</td>\n      <td>310.649994</td>\n      <td>...</td>\n      <td>407.109985</td>\n      <td>103.190002</td>\n      <td>107.440002</td>\n      <td>537.929993</td>\n      <td>858.765198</td>\n      <td>39.200001</td>\n      <td>133.985001</td>\n      <td>210.479996</td>\n      <td>414.260010</td>\n      <td>97.139999</td>\n    </tr>\n    <tr>\n      <th>2023-10-23 09:35:00-04:00</th>\n      <td>67.470001</td>\n      <td>536.000000</td>\n      <td>171.054993</td>\n      <td>577.005005</td>\n      <td>110.769997</td>\n      <td>580.919983</td>\n      <td>103.019997</td>\n      <td>122.400002</td>\n      <td>93.230003</td>\n      <td>310.200012</td>\n      <td>...</td>\n      <td>407.509888</td>\n      <td>104.129898</td>\n      <td>107.989998</td>\n      <td>534.340027</td>\n      <td>847.530029</td>\n      <td>39.009998</td>\n      <td>133.059998</td>\n      <td>206.729996</td>\n      <td>411.746887</td>\n      <td>96.720001</td>\n    </tr>\n    <tr>\n      <th>2023-10-23 09:40:00-04:00</th>\n      <td>67.300003</td>\n      <td>532.080017</td>\n      <td>170.570007</td>\n      <td>575.349976</td>\n      <td>110.669998</td>\n      <td>580.359985</td>\n      <td>102.910004</td>\n      <td>122.720001</td>\n      <td>93.059998</td>\n      <td>309.380005</td>\n      <td>...</td>\n      <td>404.700012</td>\n      <td>103.889999</td>\n      <td>107.959999</td>\n      <td>533.044983</td>\n      <td>845.780029</td>\n      <td>38.880501</td>\n      <td>132.839905</td>\n      <td>205.250000</td>\n      <td>412.484100</td>\n      <td>96.599998</td>\n    </tr>\n    <tr>\n      <th>2023-10-23 09:45:00-04:00</th>\n      <td>67.209999</td>\n      <td>537.859985</td>\n      <td>171.100006</td>\n      <td>580.280029</td>\n      <td>109.875000</td>\n      <td>579.250000</td>\n      <td>102.919998</td>\n      <td>122.180000</td>\n      <td>93.635002</td>\n      <td>309.970001</td>\n      <td>...</td>\n      <td>406.480011</td>\n      <td>102.772202</td>\n      <td>107.680000</td>\n      <td>535.726318</td>\n      <td>851.630005</td>\n      <td>38.750000</td>\n      <td>133.890594</td>\n      <td>205.500000</td>\n      <td>416.299896</td>\n      <td>96.800003</td>\n    </tr>\n    <tr>\n      <th>2023-10-23 09:50:00-04:00</th>\n      <td>67.260002</td>\n      <td>538.429993</td>\n      <td>171.350006</td>\n      <td>581.140015</td>\n      <td>110.269997</td>\n      <td>578.989990</td>\n      <td>102.699997</td>\n      <td>122.459999</td>\n      <td>93.720001</td>\n      <td>310.649994</td>\n      <td>...</td>\n      <td>405.763611</td>\n      <td>103.000000</td>\n      <td>107.769997</td>\n      <td>537.789978</td>\n      <td>852.200012</td>\n      <td>38.790001</td>\n      <td>134.100006</td>\n      <td>206.990005</td>\n      <td>418.119995</td>\n      <td>96.860001</td>\n    </tr>\n  </tbody>\n</table>\n<p>5 rows × 21 columns</p>\n</div>"
     },
     "execution_count": 16,
     "metadata": {},
     "output_type": "execute_result"
    }
   ],
   "source": [
    "history_long = get_history(target_long)\n",
    "history_long.info()\n",
    "history_long.head()"
   ],
   "metadata": {
    "collapsed": false,
    "ExecuteTime": {
     "end_time": "2023-11-21T18:44:18.754428864Z",
     "start_time": "2023-11-21T18:44:13.348676771Z"
    }
   },
   "id": "ebe361f9212621bc"
  },
  {
   "cell_type": "code",
   "execution_count": 17,
   "outputs": [
    {
     "name": "stdout",
     "output_type": "stream",
     "text": [
      "<class 'pandas.core.frame.DataFrame'>\n",
      "DatetimeIndex: 1689 entries, 2023-10-23 09:30:00-04:00 to 2023-11-21 13:40:00-05:00\n",
      "Data columns (total 21 columns):\n",
      " #   Column  Non-Null Count  Dtype  \n",
      "---  ------  --------------  -----  \n",
      " 0   PDD     1689 non-null   float64\n",
      " 1   HON     1689 non-null   float64\n",
      " 2   DIS     1689 non-null   float64\n",
      " 3   WFC     1689 non-null   float64\n",
      " 4   BABA    1689 non-null   float64\n",
      " 5   INTC    1689 non-null   float64\n",
      " 6   NEE     1689 non-null   float64\n",
      " 7   CVX     1689 non-null   float64\n",
      " 8   CRM     1689 non-null   float64\n",
      " 9   PFE     1689 non-null   float64\n",
      " 10  NKE     1689 non-null   float64\n",
      " 11  UL      1689 non-null   float64\n",
      " 12  VZ      1689 non-null   float64\n",
      " 13  UPS     1689 non-null   float64\n",
      " 14  BAC     1689 non-null   float64\n",
      " 15  BA      1689 non-null   float64\n",
      " 16  RTX     1689 non-null   float64\n",
      " 17  BUD     1689 non-null   float64\n",
      " 18  JNJ     1689 non-null   float64\n",
      " 19  HDB     1689 non-null   float64\n",
      " 20  BMY     1689 non-null   float64\n",
      "dtypes: float64(21)\n",
      "memory usage: 290.3 KB\n"
     ]
    },
    {
     "data": {
      "text/plain": "                                  PDD         HON        DIS        WFC  \\\nDatetime                                                                  \n2023-10-23 09:30:00-04:00  103.190002  181.869904  82.320000  40.365002   \n2023-10-23 09:35:00-04:00  104.129898  181.800003  81.809998  40.380001   \n2023-10-23 09:40:00-04:00  103.889999  181.639999  81.510002  40.139999   \n2023-10-23 09:45:00-04:00  102.772202  182.169998  81.510002  40.165001   \n2023-10-23 09:50:00-04:00  103.000000  182.479996  81.799698  40.189999   \n\n                                BABA       INTC        NEE         CVX  \\\nDatetime                                                                 \n2023-10-23 09:30:00-04:00  80.050003  34.764999  51.560001  164.429993   \n2023-10-23 09:35:00-04:00  80.004997  34.750000  51.540001  162.539993   \n2023-10-23 09:40:00-04:00  79.760002  34.495899  51.480000  162.970001   \n2023-10-23 09:45:00-04:00  79.730003  34.630001  51.560001  162.860001   \n2023-10-23 09:50:00-04:00  79.769997  34.689999  51.660000  163.029999   \n\n                                  CRM        PFE  ...         UL         VZ  \\\nDatetime                                          ...                         \n2023-10-23 09:30:00-04:00  200.446594  30.870001  ...  48.430000  31.490000   \n2023-10-23 09:35:00-04:00  199.580002  31.115000  ...  48.419998  31.450001   \n2023-10-23 09:40:00-04:00  198.990005  31.160000  ...  48.391499  31.440001   \n2023-10-23 09:45:00-04:00  199.800003  31.389999  ...  48.450001  31.485001   \n2023-10-23 09:50:00-04:00  200.550003  31.260000  ...  48.430000  31.549999   \n\n                                  UPS        BAC          BA        RTX  \\\nDatetime                                                                  \n2023-10-23 09:30:00-04:00  151.460007  26.150000  180.119995  72.860001   \n2023-10-23 09:35:00-04:00  150.830002  26.150000  180.500000  72.860001   \n2023-10-23 09:40:00-04:00  150.889999  26.040001  179.509995  72.912003   \n2023-10-23 09:45:00-04:00  151.240005  26.000000  180.080002  72.970001   \n2023-10-23 09:50:00-04:00  151.580002  26.010000  180.389999  73.190002   \n\n                                 BUD         JNJ        HDB        BMY  \nDatetime                                                                \n2023-10-23 09:30:00-04:00  52.660000  152.869995  57.122101  56.430000  \n2023-10-23 09:35:00-04:00  52.549999  153.500000  56.970001  56.570000  \n2023-10-23 09:40:00-04:00  52.528801  153.399994  56.849998  56.580002  \n2023-10-23 09:45:00-04:00  52.619999  153.294998  56.970001  56.650002  \n2023-10-23 09:50:00-04:00  52.735001  153.315002  57.046101  56.684700  \n\n[5 rows x 21 columns]",
      "text/html": "<div>\n<style scoped>\n    .dataframe tbody tr th:only-of-type {\n        vertical-align: middle;\n    }\n\n    .dataframe tbody tr th {\n        vertical-align: top;\n    }\n\n    .dataframe thead th {\n        text-align: right;\n    }\n</style>\n<table border=\"1\" class=\"dataframe\">\n  <thead>\n    <tr style=\"text-align: right;\">\n      <th></th>\n      <th>PDD</th>\n      <th>HON</th>\n      <th>DIS</th>\n      <th>WFC</th>\n      <th>BABA</th>\n      <th>INTC</th>\n      <th>NEE</th>\n      <th>CVX</th>\n      <th>CRM</th>\n      <th>PFE</th>\n      <th>...</th>\n      <th>UL</th>\n      <th>VZ</th>\n      <th>UPS</th>\n      <th>BAC</th>\n      <th>BA</th>\n      <th>RTX</th>\n      <th>BUD</th>\n      <th>JNJ</th>\n      <th>HDB</th>\n      <th>BMY</th>\n    </tr>\n    <tr>\n      <th>Datetime</th>\n      <th></th>\n      <th></th>\n      <th></th>\n      <th></th>\n      <th></th>\n      <th></th>\n      <th></th>\n      <th></th>\n      <th></th>\n      <th></th>\n      <th></th>\n      <th></th>\n      <th></th>\n      <th></th>\n      <th></th>\n      <th></th>\n      <th></th>\n      <th></th>\n      <th></th>\n      <th></th>\n      <th></th>\n    </tr>\n  </thead>\n  <tbody>\n    <tr>\n      <th>2023-10-23 09:30:00-04:00</th>\n      <td>103.190002</td>\n      <td>181.869904</td>\n      <td>82.320000</td>\n      <td>40.365002</td>\n      <td>80.050003</td>\n      <td>34.764999</td>\n      <td>51.560001</td>\n      <td>164.429993</td>\n      <td>200.446594</td>\n      <td>30.870001</td>\n      <td>...</td>\n      <td>48.430000</td>\n      <td>31.490000</td>\n      <td>151.460007</td>\n      <td>26.150000</td>\n      <td>180.119995</td>\n      <td>72.860001</td>\n      <td>52.660000</td>\n      <td>152.869995</td>\n      <td>57.122101</td>\n      <td>56.430000</td>\n    </tr>\n    <tr>\n      <th>2023-10-23 09:35:00-04:00</th>\n      <td>104.129898</td>\n      <td>181.800003</td>\n      <td>81.809998</td>\n      <td>40.380001</td>\n      <td>80.004997</td>\n      <td>34.750000</td>\n      <td>51.540001</td>\n      <td>162.539993</td>\n      <td>199.580002</td>\n      <td>31.115000</td>\n      <td>...</td>\n      <td>48.419998</td>\n      <td>31.450001</td>\n      <td>150.830002</td>\n      <td>26.150000</td>\n      <td>180.500000</td>\n      <td>72.860001</td>\n      <td>52.549999</td>\n      <td>153.500000</td>\n      <td>56.970001</td>\n      <td>56.570000</td>\n    </tr>\n    <tr>\n      <th>2023-10-23 09:40:00-04:00</th>\n      <td>103.889999</td>\n      <td>181.639999</td>\n      <td>81.510002</td>\n      <td>40.139999</td>\n      <td>79.760002</td>\n      <td>34.495899</td>\n      <td>51.480000</td>\n      <td>162.970001</td>\n      <td>198.990005</td>\n      <td>31.160000</td>\n      <td>...</td>\n      <td>48.391499</td>\n      <td>31.440001</td>\n      <td>150.889999</td>\n      <td>26.040001</td>\n      <td>179.509995</td>\n      <td>72.912003</td>\n      <td>52.528801</td>\n      <td>153.399994</td>\n      <td>56.849998</td>\n      <td>56.580002</td>\n    </tr>\n    <tr>\n      <th>2023-10-23 09:45:00-04:00</th>\n      <td>102.772202</td>\n      <td>182.169998</td>\n      <td>81.510002</td>\n      <td>40.165001</td>\n      <td>79.730003</td>\n      <td>34.630001</td>\n      <td>51.560001</td>\n      <td>162.860001</td>\n      <td>199.800003</td>\n      <td>31.389999</td>\n      <td>...</td>\n      <td>48.450001</td>\n      <td>31.485001</td>\n      <td>151.240005</td>\n      <td>26.000000</td>\n      <td>180.080002</td>\n      <td>72.970001</td>\n      <td>52.619999</td>\n      <td>153.294998</td>\n      <td>56.970001</td>\n      <td>56.650002</td>\n    </tr>\n    <tr>\n      <th>2023-10-23 09:50:00-04:00</th>\n      <td>103.000000</td>\n      <td>182.479996</td>\n      <td>81.799698</td>\n      <td>40.189999</td>\n      <td>79.769997</td>\n      <td>34.689999</td>\n      <td>51.660000</td>\n      <td>163.029999</td>\n      <td>200.550003</td>\n      <td>31.260000</td>\n      <td>...</td>\n      <td>48.430000</td>\n      <td>31.549999</td>\n      <td>151.580002</td>\n      <td>26.010000</td>\n      <td>180.389999</td>\n      <td>73.190002</td>\n      <td>52.735001</td>\n      <td>153.315002</td>\n      <td>57.046101</td>\n      <td>56.684700</td>\n    </tr>\n  </tbody>\n</table>\n<p>5 rows × 21 columns</p>\n</div>"
     },
     "execution_count": 17,
     "metadata": {},
     "output_type": "execute_result"
    }
   ],
   "source": [
    "history_short = get_history(target_short)\n",
    "history_short.dropna(axis=1, inplace=True)\n",
    "history_short.info()\n",
    "history_short.head()"
   ],
   "metadata": {
    "collapsed": false,
    "ExecuteTime": {
     "end_time": "2023-11-21T18:44:24.494219913Z",
     "start_time": "2023-11-21T18:44:18.762979093Z"
    }
   },
   "id": "895dfe01038ba9d9"
  },
  {
   "cell_type": "markdown",
   "source": [
    "# Getting 2-month compound returns"
   ],
   "metadata": {
    "collapsed": false
   },
   "id": "3333c61d2a44fd09"
  },
  {
   "cell_type": "code",
   "execution_count": 18,
   "outputs": [],
   "source": [
    "def get_returns(history_df: pd.DataFrame) -> np.ndarray:\n",
    "    n = len(history_df.columns)\n",
    "    returns = np.zeros(n, dtype=float)\n",
    "    for i in range(n):\n",
    "        # TODO think about the appropriate return calculation\n",
    "        helper = history_df.iloc[:, i] / history_df.iloc[:, i].shift(1)\n",
    "        helper = helper.iloc[1:]\n",
    "        returns[i] = np.prod(helper) - 1\n",
    "    return returns"
   ],
   "metadata": {
    "collapsed": false,
    "ExecuteTime": {
     "end_time": "2023-11-21T18:44:24.499341989Z",
     "start_time": "2023-11-21T18:44:24.494047398Z"
    }
   },
   "id": "bf677dcc6b4a37e1"
  },
  {
   "cell_type": "code",
   "execution_count": 19,
   "outputs": [
    {
     "name": "stdout",
     "output_type": "stream",
     "text": [
      "Top companies' returns: [-0.01913142  0.2330948   0.10933134  0.17628676 -0.05903024  0.01296896\n",
      "  0.12976294 -0.0667222   0.12576883  0.09267638  0.16862127  0.17113315\n",
      "  0.13779822  0.11639052  0.13054419  0.14541412 -0.09005108  0.10751203\n",
      "  0.14528226  0.20272288  0.06238416]\n"
     ]
    }
   ],
   "source": [
    "returns_long = get_returns(history_long)\n",
    "print(f'Top companies\\' returns: {returns_long}')"
   ],
   "metadata": {
    "collapsed": false,
    "ExecuteTime": {
     "end_time": "2023-11-21T18:44:24.563210298Z",
     "start_time": "2023-11-21T18:44:24.497600919Z"
    }
   },
   "id": "d4e5baa53a398b43"
  },
  {
   "cell_type": "code",
   "execution_count": 20,
   "outputs": [
    {
     "name": "stdout",
     "output_type": "stream",
     "text": [
      "Bottom companies' returns: [ 0.13779822  0.05058618  0.14856661  0.05475529 -0.01305441  0.25269382\n",
      "  0.12563804 -0.12424736  0.11979955 -0.02184646  0.03908158 -0.01796405\n",
      "  0.18228008 -0.01010177  0.1357553   0.21230295  0.07672243  0.17650972\n",
      " -0.01396608  0.03051185 -0.13775471]\n"
     ]
    }
   ],
   "source": [
    "returns_short = get_returns(history_short)\n",
    "print(f'Bottom companies\\' returns: {returns_short}')"
   ],
   "metadata": {
    "collapsed": false,
    "ExecuteTime": {
     "end_time": "2023-11-21T18:44:24.563735734Z",
     "start_time": "2023-11-21T18:44:24.540063455Z"
    }
   },
   "id": "1ba270930aaaaf57"
  },
  {
   "cell_type": "markdown",
   "source": [
    "# Getting weights"
   ],
   "metadata": {
    "collapsed": false
   },
   "id": "73f9364e7b0c0239"
  },
  {
   "cell_type": "code",
   "execution_count": 21,
   "outputs": [],
   "source": [
    "def sharpe_long(weights):\n",
    "    return -np.dot(returns_long, weights) / np.sqrt(weights @ history_long.cov().to_numpy() @ weights)\n",
    "\n",
    "\n",
    "def sharpe_short(weights):\n",
    "    return -np.dot(returns_short, weights) / np.sqrt(weights @ history_short.cov().to_numpy() @ weights)"
   ],
   "metadata": {
    "collapsed": false,
    "ExecuteTime": {
     "end_time": "2023-11-21T18:44:24.564021326Z",
     "start_time": "2023-11-21T18:44:24.540450250Z"
    }
   },
   "id": "421f9e74574a08a3"
  },
  {
   "cell_type": "code",
   "execution_count": 22,
   "outputs": [
    {
     "data": {
      "text/plain": "\"''\\ndef get_weights(history_df: pd.DataFrame, long=True) -> np.ndarray:\\n    n = len(history_df.columns)\\n    weights = np.ones(n)\\n\\n    bounds = [(0.0, None)] * n if long else [(None, 0.0)] * n\\n    constraints = ({'type': 'eq', 'fun': lambda weights: weights.sum() - 1.0})\\n    optimal_weights = minimize(sharpe_long if long else sharpe_short,\\n                               weights, \\n                               method='SLSQP',\\n                               constraints=constraints,\\n                               bounds=bounds\\n                               ).x\\n\\n    return optimal_weights\\n    \""
     },
     "execution_count": 22,
     "metadata": {},
     "output_type": "execute_result"
    }
   ],
   "source": [
    "'''''\n",
    "def get_weights(history_df: pd.DataFrame, long=True) -> np.ndarray:\n",
    "    n = len(history_df.columns)\n",
    "    weights = np.ones(n)\n",
    "\n",
    "    bounds = [(0.0, None)] * n if long else [(None, 0.0)] * n\n",
    "    constraints = ({'type': 'eq', 'fun': lambda weights: weights.sum() - 1.0})\n",
    "    optimal_weights = minimize(sharpe_long if long else sharpe_short,\n",
    "                               weights, \n",
    "                               method='SLSQP',\n",
    "                               constraints=constraints,\n",
    "                               bounds=bounds\n",
    "                               ).x\n",
    "\n",
    "    return optimal_weights\n",
    "    '''''"
   ],
   "metadata": {
    "collapsed": false,
    "ExecuteTime": {
     "end_time": "2023-11-21T18:44:24.854732649Z",
     "start_time": "2023-11-21T18:44:24.587817159Z"
    }
   },
   "id": "6d68570a4c2fb093"
  },
  {
   "cell_type": "code",
   "execution_count": 23,
   "outputs": [],
   "source": [
    "def get_weights(history_df: pd.DataFrame, long=True) -> dict:\n",
    "    n = len(history_df.columns)\n",
    "    weights = np.ones(n) if long else np.full(n, -1)\n",
    "\n",
    "    bounds = [(0.0, 0.10)] * n if long else [(-0.1, 0.0)] * n\n",
    "    constraints = ({'type': 'eq', 'fun': lambda w: np.sum(w) - 1.0}) if long else \\\n",
    "        ({'type': 'eq', 'fun': lambda w: np.sum(w) + 1.0})\n",
    "    optimal_weights = minimize(sharpe_long if long else sharpe_short,\n",
    "                               weights,\n",
    "                               method='SLSQP',\n",
    "                               constraints=constraints,\n",
    "                               bounds=bounds\n",
    "                               ).x\n",
    "\n",
    "    # Create a dictionary with column names as keys and weights as values\n",
    "    weights_dict = dict(zip(history_df.columns, optimal_weights))\n",
    "    return weights_dict"
   ],
   "metadata": {
    "collapsed": false,
    "ExecuteTime": {
     "end_time": "2023-11-21T18:44:24.855137116Z",
     "start_time": "2023-11-21T18:44:24.587993235Z"
    }
   },
   "id": "76fa2820f101481"
  },
  {
   "cell_type": "code",
   "execution_count": 24,
   "outputs": [
    {
     "name": "stdout",
     "output_type": "stream",
     "text": [
      "   Stock  Weight\n",
      "0   SHEL  10.00%\n",
      "1    NOW   0.00%\n",
      "2   AAPL  10.00%\n",
      "3   ASML   0.00%\n",
      "4    XOM  10.00%\n",
      "5    LLY   0.00%\n",
      "6   ORCL  10.00%\n",
      "7    COP  10.00%\n",
      "8     BX  10.00%\n",
      "9   META   0.00%\n",
      "10   AMD  10.00%\n",
      "11  NFLX   0.00%\n",
      "12   PDD  10.00%\n",
      "13    GE  10.00%\n",
      "14  ADBE   0.00%\n",
      "15  AVGO   0.00%\n",
      "16    BP   0.00%\n",
      "17  AMAT   0.00%\n",
      "18  TSLA   0.00%\n",
      "19  NVDA   0.00%\n",
      "20   NVO  10.00%\n"
     ]
    }
   ],
   "source": [
    "weights_long = get_weights(history_long, True)\n",
    "weights_long_vw = pd.DataFrame(list(weights_long.items()), columns=['Stock', 'Weight'])\n",
    "\n",
    "weights_long_vw['Weight'] = weights_long_vw['Weight'].apply(lambda x: f\"{x * 100:.2f}%\")\n",
    "\n",
    "#print(f'Optimal weights for top companies: {weights_long}')\n",
    "\n",
    "#print(f'Optimal Sharpe ratio: {-sharpe_long(weights_long)}')\n",
    "\n",
    "#history_long.columns\n",
    "\n",
    "print(weights_long_vw)\n",
    "\n"
   ],
   "metadata": {
    "collapsed": false,
    "ExecuteTime": {
     "end_time": "2023-11-21T18:44:25.182161834Z",
     "start_time": "2023-11-21T18:44:24.588062311Z"
    }
   },
   "id": "95f2f53caff9deff"
  },
  {
   "cell_type": "code",
   "execution_count": 24,
   "outputs": [],
   "source": [],
   "metadata": {
    "collapsed": false,
    "ExecuteTime": {
     "end_time": "2023-11-21T18:44:25.229342326Z",
     "start_time": "2023-11-21T18:44:25.182058744Z"
    }
   },
   "id": "56c1d566d5006e73"
  },
  {
   "cell_type": "code",
   "execution_count": 25,
   "outputs": [
    {
     "name": "stdout",
     "output_type": "stream",
     "text": [
      "   Stock   Weight\n",
      "0    PDD    0.00%\n",
      "1    HON   -0.00%\n",
      "2    DIS    0.00%\n",
      "3    WFC  -10.00%\n",
      "4   BABA  -10.00%\n",
      "5   INTC    0.00%\n",
      "6    NEE    0.00%\n",
      "7    CVX  -10.00%\n",
      "8    CRM   -0.00%\n",
      "9    PFE  -10.00%\n",
      "10   NKE  -10.00%\n",
      "11    UL  -10.00%\n",
      "12    VZ    0.00%\n",
      "13   UPS  -10.00%\n",
      "14   BAC    0.00%\n",
      "15    BA    0.00%\n",
      "16   RTX   -0.00%\n",
      "17   BUD    0.00%\n",
      "18   JNJ  -10.00%\n",
      "19   HDB  -10.00%\n",
      "20   BMY  -10.00%\n"
     ]
    }
   ],
   "source": [
    "weights_short = get_weights(history_short, False)\n",
    "weights_short_vw = pd.DataFrame(list(weights_short.items()), columns=['Stock', 'Weight'])\n",
    "weights_short_vw['Weight'] = weights_short_vw['Weight'].apply(lambda x: f\"{x * 100:.2f}%\")\n",
    "\n",
    "#print(f'Optimal weights for top companies: {weights_long}')\n",
    "\n",
    "#print(f'Optimal Sharpe ratio: {-sharpe_long(weights_long)}')\n",
    "\n",
    "#history_long.columns\n",
    "\n",
    "print(weights_short_vw)\n",
    "\n",
    "# print(f'Optimal weights for bottom companies: {weights_short}')\n",
    "# print(f'Optimal Sharpe ratio: {-sharpe_short(np.array(list(weights_short.values())))}')"
   ],
   "metadata": {
    "collapsed": false,
    "ExecuteTime": {
     "end_time": "2023-11-21T18:44:25.297005881Z",
     "start_time": "2023-11-21T18:44:25.227950894Z"
    }
   },
   "id": "b0178ec648e76f70"
  },
  {
   "cell_type": "code",
   "execution_count": null,
   "outputs": [],
   "source": [],
   "metadata": {
    "collapsed": false,
    "ExecuteTime": {
     "start_time": "2023-11-14T05:04:29.053401700Z"
    }
   },
   "id": "3087d77f3c7eaed2"
  }
 ],
 "metadata": {
  "kernelspec": {
   "display_name": "Python 3",
   "language": "python",
   "name": "python3"
  },
  "language_info": {
   "codemirror_mode": {
    "name": "ipython",
    "version": 2
   },
   "file_extension": ".py",
   "mimetype": "text/x-python",
   "name": "python",
   "nbconvert_exporter": "python",
   "pygments_lexer": "ipython2",
   "version": "2.7.6"
  }
 },
 "nbformat": 4,
 "nbformat_minor": 5
}
