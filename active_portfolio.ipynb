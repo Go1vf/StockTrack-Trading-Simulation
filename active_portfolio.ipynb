{
 "cells": [
  {
   "cell_type": "code",
   "execution_count": 1,
   "id": "initial_id",
   "metadata": {
    "collapsed": true,
    "ExecuteTime": {
     "end_time": "2023-11-17T17:44:20.744302500Z",
     "start_time": "2023-11-17T17:44:20.131746495Z"
    }
   },
   "outputs": [],
   "source": [
    "import numpy as np\n",
    "import pandas as pd\n",
    "import yfinance as yf\n",
    "\n",
    "from scipy.optimize import minimize"
   ]
  },
  {
   "cell_type": "code",
   "execution_count": 78,
   "outputs": [],
   "source": [
    "# pd.set_option('display.max_rows', 20)"
   ],
   "metadata": {
    "collapsed": false,
    "ExecuteTime": {
     "end_time": "2023-11-14T05:26:04.499367600Z",
     "start_time": "2023-11-14T05:26:04.474554700Z"
    }
   },
   "id": "b452c80153b5056e"
  },
  {
   "cell_type": "code",
   "execution_count": 22,
   "outputs": [
    {
     "name": "stdout",
     "output_type": "stream",
     "text": [
      "C:\\Users\\mitch\\Documents\\QCF\\Finance and Investments\\StockTrack-Trading-Simulation\n"
     ]
    }
   ],
   "source": [
    "# import yfinance as yf\n",
    "# import pandas as pd\n",
    "# import numpy as np\n",
    "# from scipy import optimize\n",
    "# \n",
    "# import os\n",
    "# cwd = os.getcwd()\n",
    "# print(cwd)\n",
    "# os.chdir(r'C:\\Users\\mitch\\Documents\\QCF\\Finance and Investments\\StockTrack-Trading-Simulation')"
   ],
   "metadata": {
    "collapsed": false,
    "ExecuteTime": {
     "end_time": "2023-11-14T05:03:13.161779300Z",
     "start_time": "2023-11-14T05:03:12.893852400Z"
    }
   },
   "id": "88bb78b6a3732fb8"
  },
  {
   "cell_type": "markdown",
   "source": [
    "# Reusable functions"
   ],
   "metadata": {
    "collapsed": false
   },
   "id": "82da38b746da26b2"
  },
  {
   "cell_type": "code",
   "execution_count": 6,
   "outputs": [],
   "source": [
    "def calculate_return(df):\n",
    "    if df.empty:\n",
    "        return None\n",
    "    # Get the closing price at the start of the year\n",
    "    start_price = df['Close'].iloc[0]\n",
    "\n",
    "    # Get the closing price at the end of the year\n",
    "    end_price = df['Close'].iloc[-1]\n",
    "\n",
    "    # Calculate the one-year return\n",
    "    return (end_price - start_price) / start_price\n",
    "# \n",
    "# \n",
    "# def MaximizeSharpeRatioOptmzn(MeanReturns, CovarReturns, RiskFreeRate, PortfolioSize):\n",
    "#     # define maximization of Sharpe Ratio using principle of duality\n",
    "#     def f(x, MeanReturns, CovarReturns, RiskFreeRate, PortfolioSize):\n",
    "#         funcDenomr = np.sqrt(np.matmul(np.matmul(x, CovarReturns), x.T))\n",
    "#         funcNumer = np.matmul(np.array(MeanReturns), x.T) - RiskFreeRate\n",
    "#         func = -(funcNumer / funcDenomr)\n",
    "#         return func\n",
    "# \n",
    "#     #define equality constraint representing fully invested portfolio\n",
    "#     def constraintEq(x):\n",
    "#         A = np.ones(x.shape)\n",
    "#         b = 1\n",
    "#         constraintVal = np.matmul(A, x.T) - b\n",
    "#         return constraintVal\n",
    "# \n",
    "#     #define bounds and other parameters\n",
    "#     xinit = np.repeat(0.33, PortfolioSize)\n",
    "#     cons = ({'type': 'eq', 'fun': constraintEq})\n",
    "#     lb = 0\n",
    "#     ub = 1\n",
    "#     bnds = tuple([(lb, ub) for x in xinit])\n",
    "# \n",
    "#     #invoke minimize solver\n",
    "#     opt = minimize(f, x0=xinit, args=(MeanReturns, CovarReturns, RiskFreeRate, PortfolioSize), method='SLSQP',\n",
    "#                    bounds=bnds, constraints=cons, tol=10 ** -3)\n",
    "# \n",
    "#     return opt\n"
   ],
   "metadata": {
    "collapsed": false,
    "ExecuteTime": {
     "end_time": "2023-11-17T17:51:35.686136264Z",
     "start_time": "2023-11-17T17:51:35.671437449Z"
    }
   },
   "id": "38faa609bbae38c4"
  },
  {
   "cell_type": "code",
   "execution_count": 2,
   "outputs": [
    {
     "data": {
      "text/plain": "    Symbol                     Company Name                        Industry  \\\n0     AAPL                       Apple Inc.            Consumer Electronics   \n1     MSFT            Microsoft Corporation       Software - Infrastructure   \n2    GOOGL                    Alphabet Inc.  Internet Content & Information   \n3     GOOG                    Alphabet Inc.  Internet Content & Information   \n4     AMZN                 Amazon.com, Inc.                 Internet Retail   \n..     ...                              ...                             ...   \n495   RBLX               Roblox Corporation  Electronic Gaming & Multimedia   \n496    WBA   Walgreens Boots Alliance, Inc.        Pharmaceutical Retailers   \n497     TW            Tradeweb Markets Inc.                 Capital Markets   \n498     ZM  Zoom Video Communications, Inc.          Software - Application   \n499   ULTA                Ulta Beauty, Inc.                Specialty Retail   \n\n    Market Cap  \n0    2,811.03B  \n1    2,469.80B  \n2    1,779.01B  \n3    1,778.79B  \n4    1,360.20B  \n..         ...  \n495     19.59B  \n496     19.51B  \n497     19.51B  \n498     19.51B  \n499     19.49B  \n\n[500 rows x 4 columns]",
      "text/html": "<div>\n<style scoped>\n    .dataframe tbody tr th:only-of-type {\n        vertical-align: middle;\n    }\n\n    .dataframe tbody tr th {\n        vertical-align: top;\n    }\n\n    .dataframe thead th {\n        text-align: right;\n    }\n</style>\n<table border=\"1\" class=\"dataframe\">\n  <thead>\n    <tr style=\"text-align: right;\">\n      <th></th>\n      <th>Symbol</th>\n      <th>Company Name</th>\n      <th>Industry</th>\n      <th>Market Cap</th>\n    </tr>\n  </thead>\n  <tbody>\n    <tr>\n      <th>0</th>\n      <td>AAPL</td>\n      <td>Apple Inc.</td>\n      <td>Consumer Electronics</td>\n      <td>2,811.03B</td>\n    </tr>\n    <tr>\n      <th>1</th>\n      <td>MSFT</td>\n      <td>Microsoft Corporation</td>\n      <td>Software - Infrastructure</td>\n      <td>2,469.80B</td>\n    </tr>\n    <tr>\n      <th>2</th>\n      <td>GOOGL</td>\n      <td>Alphabet Inc.</td>\n      <td>Internet Content &amp; Information</td>\n      <td>1,779.01B</td>\n    </tr>\n    <tr>\n      <th>3</th>\n      <td>GOOG</td>\n      <td>Alphabet Inc.</td>\n      <td>Internet Content &amp; Information</td>\n      <td>1,778.79B</td>\n    </tr>\n    <tr>\n      <th>4</th>\n      <td>AMZN</td>\n      <td>Amazon.com, Inc.</td>\n      <td>Internet Retail</td>\n      <td>1,360.20B</td>\n    </tr>\n    <tr>\n      <th>...</th>\n      <td>...</td>\n      <td>...</td>\n      <td>...</td>\n      <td>...</td>\n    </tr>\n    <tr>\n      <th>495</th>\n      <td>RBLX</td>\n      <td>Roblox Corporation</td>\n      <td>Electronic Gaming &amp; Multimedia</td>\n      <td>19.59B</td>\n    </tr>\n    <tr>\n      <th>496</th>\n      <td>WBA</td>\n      <td>Walgreens Boots Alliance, Inc.</td>\n      <td>Pharmaceutical Retailers</td>\n      <td>19.51B</td>\n    </tr>\n    <tr>\n      <th>497</th>\n      <td>TW</td>\n      <td>Tradeweb Markets Inc.</td>\n      <td>Capital Markets</td>\n      <td>19.51B</td>\n    </tr>\n    <tr>\n      <th>498</th>\n      <td>ZM</td>\n      <td>Zoom Video Communications, Inc.</td>\n      <td>Software - Application</td>\n      <td>19.51B</td>\n    </tr>\n    <tr>\n      <th>499</th>\n      <td>ULTA</td>\n      <td>Ulta Beauty, Inc.</td>\n      <td>Specialty Retail</td>\n      <td>19.49B</td>\n    </tr>\n  </tbody>\n</table>\n<p>500 rows × 4 columns</p>\n</div>"
     },
     "execution_count": 2,
     "metadata": {},
     "output_type": "execute_result"
    }
   ],
   "source": [
    "largest_market_cap = pd.read_excel('./Top Companies by Market Cap.xlsx', sheet_name='Sheet1')\n",
    "largest_market_cap"
   ],
   "metadata": {
    "collapsed": false,
    "ExecuteTime": {
     "end_time": "2023-11-17T17:47:47.080890862Z",
     "start_time": "2023-11-17T17:47:46.836077835Z"
    }
   },
   "id": "70806985cf5d7ad7"
  },
  {
   "cell_type": "code",
   "execution_count": 3,
   "outputs": [],
   "source": [
    "largest_market_cap = largest_market_cap[~largest_market_cap['Symbol'].str.contains('\\.')].reset_index(drop=True)\n",
    "top = largest_market_cap.head(100)\n",
    "top_symbols = top['Symbol']"
   ],
   "metadata": {
    "collapsed": false,
    "ExecuteTime": {
     "end_time": "2023-11-17T17:49:49.922570402Z",
     "start_time": "2023-11-17T17:49:49.908704709Z"
    }
   },
   "id": "9fe2e4bb8c7289e5"
  },
  {
   "cell_type": "code",
   "execution_count": 26,
   "outputs": [],
   "source": [
    "# ticker = yf.Ticker('AAPL')\n",
    "# stock_info = ticker.info\n",
    "# print(stock_info.get('beta'))"
   ],
   "metadata": {
    "collapsed": false,
    "ExecuteTime": {
     "end_time": "2023-11-14T05:03:13.282354800Z",
     "start_time": "2023-11-14T05:03:13.062223Z"
    }
   },
   "id": "3e12a442c05f1a3c"
  },
  {
   "cell_type": "code",
   "execution_count": 4,
   "outputs": [],
   "source": [
    "one_year_data = {}\n",
    "three_year_data = {}\n",
    "five_year_data = {}\n",
    "for symbol in top_symbols:\n",
    "    ticker = yf.Ticker(symbol)\n",
    "    one_year_data[symbol] = ticker.history(period=\"1y\")\n",
    "    three_year_data[symbol] = ticker.history(period=\"3y\")\n",
    "    five_year_data[symbol] = ticker.history(period=\"5y\")"
   ],
   "metadata": {
    "collapsed": false,
    "ExecuteTime": {
     "end_time": "2023-11-17T17:51:28.902775677Z",
     "start_time": "2023-11-17T17:49:51.655779567Z"
    }
   },
   "id": "fbbf51507eca1825"
  },
  {
   "cell_type": "code",
   "execution_count": 7,
   "outputs": [
    {
     "data": {
      "text/plain": "{'AAPL': 0.2621242345013307,\n 'MSFT': 0.5522056896720628,\n 'GOOGL': 0.36290150308999786,\n 'GOOG': 0.37898479016299175,\n 'AMZN': 0.5215656080884936,\n 'NVDA': 2.149402126005778,\n 'META': 1.9930724137378668,\n 'TSLA': 0.28429872505764425,\n 'LLY': 0.6638661104507798,\n 'V': 0.18992847687950745,\n 'UNH': 0.05422366927803753,\n 'TSM': 0.23969054976536794,\n 'NVO': 0.8442280743276829,\n 'WMT': 0.0731406149934084,\n 'JPM': 0.1837226054795443,\n 'XOM': -0.03907834552893867,\n 'JNJ': -0.1214439949544365,\n 'MA': 0.17883129491655222,\n 'AVGO': 0.9587091973308698,\n 'PG': 0.101451548232963,\n 'CVX': -0.1820149277903204,\n 'ORCL': 0.47914192270564376,\n 'HD': 0.010937909043064305,\n 'ABBV': -0.05710517527160063,\n 'MRK': 0.015101880464667587,\n 'COST': 0.11221097468099984,\n 'ADBE': 0.7827310591234174,\n 'TM': 0.34842234383040144,\n 'ASML': 0.17277336561662254,\n 'KO': -0.030457821250649393,\n 'PEP': -0.048601956062558405,\n 'BABA': -0.07138617656243902,\n 'SHEL': 0.21276820491490053,\n 'CSCO': 0.06184673804357466,\n 'BAC': -0.17243672280593636,\n 'AZN': 0.02284965247799384,\n 'NVS': 0.18667607432982322,\n 'CRM': 0.47919029031759564,\n 'ACN': 0.15869729307947342,\n 'FMX': 0.6239097903724194,\n 'TMO': -0.12092419184773126,\n 'PFE': -0.3535908741660566,\n 'LIN': 0.25387019443615483,\n 'MCD': 0.03483918016865454,\n 'CMCSA': 0.2774064586377833,\n 'AMD': 0.6369417959800835,\n 'TMUS': -0.0029437473507254817,\n 'NFLX': 0.5755442868164538,\n 'ABT': -0.007742867360335841,\n 'DHR': -0.09777740796792052,\n 'HSBC': 0.4436838252345986,\n 'TTE': 0.2011268750785409,\n 'DIS': 0.031109910504571212,\n 'SAP': 0.35956746075538576,\n 'INTC': 0.4814191982158543,\n 'INTU': 0.469964090307925,\n 'AMGN': -0.045485813035690874,\n 'NKE': 0.018873097533576386,\n 'HDB': -0.1372836093926091,\n 'PDD': 0.6279233664931714,\n 'BHP': 0.07048995311110517,\n 'WFC': -0.03889149649974222,\n 'PM': 0.01901557634084691,\n 'COP': -0.08493314031073113,\n 'TXN': -0.09336707967403705,\n 'CAT': 0.12046461313895641,\n 'SNY': 0.11026185955573715,\n 'UPS': -0.12981719983119733,\n 'VZ': 0.01867925034472768,\n 'MS': -0.06361355619254336,\n 'BX': 0.19887045173637624,\n 'IBM': 0.10125376706801947,\n 'UNP': 0.0672148886006913,\n 'HON': -0.09146260558152257,\n 'QCOM': 0.07825497362179364,\n 'GE': 0.8012647850229498,\n 'UL': 0.01990628787040217,\n 'RY': -0.0762414529779216,\n 'AMAT': 0.41905739367126055,\n 'BMY': -0.3200847394450484,\n 'SPGI': 0.183397461209767,\n 'BA': 0.20213568294076556,\n 'LOW': -0.004079817617651124,\n 'NOW': 0.6298118153723792,\n 'DE': -0.06258293482465743,\n 'AXP': 0.08670220294864728,\n 'BP': 0.08704221389751567,\n 'LMT': -0.03126436001933471,\n 'BKNG': 0.6145375604781924,\n 'TD': -0.030423867127755497,\n 'NEE': -0.29243961910565197,\n 'BUD': 0.12619101113017825,\n 'ELV': -0.015562647599356988,\n 'RTX': -0.13203364850298419,\n 'T': -0.10430441488916052,\n 'SONY': 0.08214770801968937,\n 'SBUX': 0.12110990671760785,\n 'PLD': 0.009839735648851303,\n 'GS': -0.07951279176940781,\n 'ADP': -0.07918713467943694}"
     },
     "execution_count": 7,
     "metadata": {},
     "output_type": "execute_result"
    }
   ],
   "source": [
    "one_year_return_data = {}\n",
    "three_year_return_data = {}\n",
    "five_year_return_data = {}\n",
    "for key, df in one_year_data.items():\n",
    "    one_year_return_data[key] = calculate_return(one_year_data[key])\n",
    "    three_year_return_data[key] = calculate_return(three_year_data[key])\n",
    "    five_year_return_data[key] = calculate_return(five_year_data[key])\n",
    "\n",
    "one_year_return_data"
   ],
   "metadata": {
    "collapsed": false,
    "ExecuteTime": {
     "end_time": "2023-11-17T17:51:39.623085514Z",
     "start_time": "2023-11-17T17:51:39.572960923Z"
    }
   },
   "id": "36d2a48dd56ccc64"
  },
  {
   "cell_type": "code",
   "execution_count": 14,
   "outputs": [
    {
     "name": "stdout",
     "output_type": "stream",
     "text": [
      "Top Decile Overlaps: {'LLY', 'AVGO', 'NVO', 'NVDA'}\n",
      "Bottom Decile Overlaps: {'HDB', 'BMY', 'NEE'}\n"
     ]
    }
   ],
   "source": [
    "def get_deciles(data):\n",
    "    # Remove None values and sort the data\n",
    "    filtered_data = {k: v for k, v in data.items() if v is not None}\n",
    "    sorted_data = sorted(filtered_data.items(), key=lambda x: x[1])\n",
    "\n",
    "    # Calculate the index for decile\n",
    "    n = len(sorted_data)\n",
    "    decile_index = n // 10\n",
    "\n",
    "    # Get the top and bottom decile\n",
    "    bottom_decile = dict(sorted_data[:decile_index])\n",
    "    top_decile = dict(sorted_data[-decile_index:])\n",
    "\n",
    "    return top_decile, bottom_decile\n",
    "\n",
    "\n",
    "# Apply the function to each dataset\n",
    "top_decile_one_year, bottom_decile_one_year = get_deciles(one_year_return_data)\n",
    "top_decile_three_year, bottom_decile_three_year = get_deciles(three_year_return_data)\n",
    "top_decile_five_year, bottom_decile_five_year = get_deciles(five_year_return_data)\n",
    "\n",
    "# Find overlapping keys in the top deciles\n",
    "overlapping_top_keys = set(top_decile_one_year.keys()) & set(top_decile_three_year.keys()) & set(\n",
    "    top_decile_five_year.keys())\n",
    "\n",
    "# Find overlapping keys in the bottom deciles\n",
    "overlapping_bottom_keys = set(bottom_decile_one_year.keys()) & set(bottom_decile_three_year.keys())\n",
    "\n",
    "# Print results\n",
    "print(\"Top Decile Overlaps:\", overlapping_top_keys)\n",
    "print(\"Bottom Decile Overlaps:\", overlapping_bottom_keys)\n"
   ],
   "metadata": {
    "collapsed": false,
    "ExecuteTime": {
     "end_time": "2023-11-17T19:52:23.300703171Z",
     "start_time": "2023-11-17T19:52:23.288412190Z"
    }
   },
   "id": "99a304a504eb9513"
  },
  {
   "cell_type": "markdown",
   "source": [
    "# Choosing top-50 and bottom-50 companies"
   ],
   "metadata": {
    "collapsed": false
   },
   "id": "f74257276808ba58"
  },
  {
   "cell_type": "code",
   "execution_count": 30,
   "outputs": [
    {
     "data": {
      "text/plain": "\"''\\n\\ntarget_long = pd.DataFrame(['ASML', 'GOOG', 'ACN', 'AAPL', 'SONY',\\n                            'INTU', 'V', 'MA', 'BX', 'TTE'],\\n                           columns=['Ticker'])\\n# TODO\\ntarget_short = pd.DataFrame([],\\n                            columns=['Ticker']\\n                            )\\n                            \\n                            \""
     },
     "execution_count": 30,
     "metadata": {},
     "output_type": "execute_result"
    }
   ],
   "source": [
    "'''''\n",
    "\n",
    "target_long = pd.DataFrame(['ASML', 'GOOG', 'ACN', 'AAPL', 'SONY',\n",
    "                            'INTU', 'V', 'MA', 'BX', 'TTE'],\n",
    "                           columns=['Ticker'])\n",
    "# TODO\n",
    "target_short = pd.DataFrame([],\n",
    "                            columns=['Ticker']\n",
    "                            )\n",
    "                            \n",
    "                            '''''"
   ],
   "metadata": {
    "collapsed": false,
    "ExecuteTime": {
     "end_time": "2023-11-14T05:04:28.958832900Z",
     "start_time": "2023-11-14T05:04:28.950905200Z"
    }
   },
   "id": "6e7e57b29e2ea518"
  },
  {
   "cell_type": "code",
   "execution_count": 15,
   "outputs": [
    {
     "data": {
      "text/plain": "{'AAPL',\n 'ADBE',\n 'AMAT',\n 'AMD',\n 'ASML',\n 'AVGO',\n 'BP',\n 'BX',\n 'COP',\n 'GE',\n 'LLY',\n 'META',\n 'NOW',\n 'NVDA',\n 'NVO',\n 'ORCL',\n 'PDD',\n 'SHEL',\n 'TSLA',\n 'XOM'}"
     },
     "execution_count": 15,
     "metadata": {},
     "output_type": "execute_result"
    }
   ],
   "source": [
    "# Get all unique keys in the top deciles\n",
    "all_top_keys = set(top_decile_one_year.keys()) | set(top_decile_three_year.keys()) | set(top_decile_five_year.keys())\n",
    "\n",
    "# Get all unique keys in the bottom deciles\n",
    "all_bottom_keys = set(bottom_decile_one_year.keys()) | set(bottom_decile_three_year.keys()) | set(\n",
    "    bottom_decile_five_year.keys())\n",
    "\n",
    "all_top_keys"
   ],
   "metadata": {
    "collapsed": false,
    "ExecuteTime": {
     "end_time": "2023-11-17T19:52:35.393377495Z",
     "start_time": "2023-11-17T19:52:35.374076638Z"
    }
   },
   "id": "5414d18fd5680e6f"
  },
  {
   "cell_type": "code",
   "execution_count": 16,
   "outputs": [
    {
     "data": {
      "text/plain": "{'BA',\n 'BABA',\n 'BAC',\n 'BMY',\n 'BUD',\n 'CRM',\n 'CVX',\n 'DIS',\n 'HDB',\n 'INTC',\n 'JNJ',\n 'NEE',\n 'NKE',\n 'PDD',\n 'PFE',\n 'RTX',\n 'T',\n 'TMO',\n 'UL',\n 'UPS',\n 'VZ',\n 'WFC'}"
     },
     "execution_count": 16,
     "metadata": {},
     "output_type": "execute_result"
    }
   ],
   "source": [
    "all_bottom_keys"
   ],
   "metadata": {
    "collapsed": false,
    "ExecuteTime": {
     "end_time": "2023-11-17T19:52:49.231904899Z",
     "start_time": "2023-11-17T19:52:49.215978136Z"
    }
   },
   "id": "6c5b104999ac1d56"
  },
  {
   "cell_type": "code",
   "execution_count": 17,
   "outputs": [],
   "source": [
    "target_long = pd.DataFrame(list(all_top_keys),\n",
    "                           columns=['Ticker'])\n",
    "# TODO\n",
    "target_short = pd.DataFrame(list(all_bottom_keys),\n",
    "                            columns=['Ticker'])\n"
   ],
   "metadata": {
    "collapsed": false,
    "ExecuteTime": {
     "end_time": "2023-11-17T19:52:52.592422869Z",
     "start_time": "2023-11-17T19:52:52.533193117Z"
    }
   },
   "id": "645261249ddc1609"
  },
  {
   "cell_type": "markdown",
   "source": [
    "# Getting 2-month history"
   ],
   "metadata": {
    "collapsed": false
   },
   "id": "f41faac5b97a1f9d"
  },
  {
   "cell_type": "code",
   "execution_count": 18,
   "outputs": [],
   "source": [
    "def get_history(target_df: pd.DataFrame, long=True) -> pd.DataFrame:\n",
    "    history = pd.DataFrame(columns=list(target_long['Ticker']))\n",
    "    for ticker in target_df['Ticker']:\n",
    "        # TODO think about the appropriate price column to use\n",
    "        history[ticker] = yf.Ticker(ticker).history(interval='5m')['High' if long else 'Low']\n",
    "    return history"
   ],
   "metadata": {
    "collapsed": false,
    "ExecuteTime": {
     "end_time": "2023-11-17T19:52:58.164759462Z",
     "start_time": "2023-11-17T19:52:58.133872049Z"
    }
   },
   "id": "bf9f0d57691c9fe1"
  },
  {
   "cell_type": "code",
   "execution_count": 19,
   "outputs": [
    {
     "name": "stdout",
     "output_type": "stream",
     "text": [
      "<class 'pandas.core.frame.DataFrame'>\n",
      "DatetimeIndex: 1795 entries, 2023-10-17 14:50:00-04:00 to 2023-11-17 14:50:00-05:00\n",
      "Data columns (total 20 columns):\n",
      " #   Column  Non-Null Count  Dtype  \n",
      "---  ------  --------------  -----  \n",
      " 0   ORCL    1795 non-null   float64\n",
      " 1   NVO     1795 non-null   float64\n",
      " 2   AMD     1795 non-null   float64\n",
      " 3   LLY     1795 non-null   float64\n",
      " 4   BX      1795 non-null   float64\n",
      " 5   ASML    1794 non-null   float64\n",
      " 6   GE      1795 non-null   float64\n",
      " 7   SHEL    1795 non-null   float64\n",
      " 8   AVGO    1795 non-null   float64\n",
      " 9   NOW     1795 non-null   float64\n",
      " 10  TSLA    1795 non-null   float64\n",
      " 11  AMAT    1795 non-null   float64\n",
      " 12  META    1795 non-null   float64\n",
      " 13  ADBE    1795 non-null   float64\n",
      " 14  PDD     1795 non-null   float64\n",
      " 15  XOM     1795 non-null   float64\n",
      " 16  BP      1795 non-null   float64\n",
      " 17  NVDA    1795 non-null   float64\n",
      " 18  COP     1795 non-null   float64\n",
      " 19  AAPL    1795 non-null   float64\n",
      "dtypes: float64(20)\n",
      "memory usage: 294.5 KB\n"
     ]
    },
    {
     "data": {
      "text/plain": "                                 ORCL         NVO         AMD         LLY  \\\nDatetime                                                                    \n2023-10-17 14:50:00-04:00  109.375000  100.855003  105.199997  604.609985   \n2023-10-17 14:55:00-04:00  109.150002  100.839996  104.800003  604.289978   \n2023-10-17 15:00:00-04:00  109.129997  100.791000  104.680000  604.299988   \n2023-10-17 15:05:00-04:00  109.169296  100.889999  104.723999  604.710022   \n2023-10-17 15:10:00-04:00  109.180000  100.919998  104.779900  605.114990   \n\n                                   BX        ASML          GE       SHEL  \\\nDatetime                                                                   \n2023-10-17 14:50:00-04:00  105.165001  607.690002  110.084999  68.544998   \n2023-10-17 14:55:00-04:00  104.964996  606.525024  109.879997  68.589897   \n2023-10-17 15:00:00-04:00  104.915001  605.974976  109.855003  68.519997   \n2023-10-17 15:05:00-04:00  105.269997  606.501099  110.050003  68.584999   \n2023-10-17 15:10:00-04:00  105.375000  606.560425  110.099998  68.605003   \n\n                                 AVGO         NOW        TSLA        AMAT  \\\nDatetime                                                                    \n2023-10-17 14:50:00-04:00  883.099976  568.859985  256.048492  142.107407   \n2023-10-17 14:55:00-04:00  882.059998  568.039917  255.279999  141.919998   \n2023-10-17 15:00:00-04:00  880.940002  568.020020  255.160004  141.839996   \n2023-10-17 15:05:00-04:00  881.659973  567.880005  255.205002  141.910004   \n2023-10-17 15:10:00-04:00  881.691406  567.599976  255.050003  141.820007   \n\n                                 META        ADBE         PDD         XOM  \\\nDatetime                                                                    \n2023-10-17 14:50:00-04:00  322.689789  560.299988  105.040001  111.470001   \n2023-10-17 14:55:00-04:00  322.000000  558.724976  104.879997  111.510002   \n2023-10-17 15:00:00-04:00  322.040009  558.219971  104.929901  111.349998   \n2023-10-17 15:05:00-04:00  322.489990  558.798523  104.949997  111.400002   \n2023-10-17 15:10:00-04:00  322.426910  558.559387  105.010002  111.459999   \n\n                                  BP        NVDA         COP        AAPL  \nDatetime                                                                  \n2023-10-17 14:50:00-04:00  40.700001  440.734406  125.760002  177.080002  \n2023-10-17 14:55:00-04:00  40.685001  438.600006  125.672302  176.669998  \n2023-10-17 15:00:00-04:00  40.680000  438.179993  125.610001  176.736893  \n2023-10-17 15:05:00-04:00  40.709999  438.229309  125.709999  176.919998  \n2023-10-17 15:10:00-04:00  40.730000  438.519989  125.800003  176.949997  ",
      "text/html": "<div>\n<style scoped>\n    .dataframe tbody tr th:only-of-type {\n        vertical-align: middle;\n    }\n\n    .dataframe tbody tr th {\n        vertical-align: top;\n    }\n\n    .dataframe thead th {\n        text-align: right;\n    }\n</style>\n<table border=\"1\" class=\"dataframe\">\n  <thead>\n    <tr style=\"text-align: right;\">\n      <th></th>\n      <th>ORCL</th>\n      <th>NVO</th>\n      <th>AMD</th>\n      <th>LLY</th>\n      <th>BX</th>\n      <th>ASML</th>\n      <th>GE</th>\n      <th>SHEL</th>\n      <th>AVGO</th>\n      <th>NOW</th>\n      <th>TSLA</th>\n      <th>AMAT</th>\n      <th>META</th>\n      <th>ADBE</th>\n      <th>PDD</th>\n      <th>XOM</th>\n      <th>BP</th>\n      <th>NVDA</th>\n      <th>COP</th>\n      <th>AAPL</th>\n    </tr>\n    <tr>\n      <th>Datetime</th>\n      <th></th>\n      <th></th>\n      <th></th>\n      <th></th>\n      <th></th>\n      <th></th>\n      <th></th>\n      <th></th>\n      <th></th>\n      <th></th>\n      <th></th>\n      <th></th>\n      <th></th>\n      <th></th>\n      <th></th>\n      <th></th>\n      <th></th>\n      <th></th>\n      <th></th>\n      <th></th>\n    </tr>\n  </thead>\n  <tbody>\n    <tr>\n      <th>2023-10-17 14:50:00-04:00</th>\n      <td>109.375000</td>\n      <td>100.855003</td>\n      <td>105.199997</td>\n      <td>604.609985</td>\n      <td>105.165001</td>\n      <td>607.690002</td>\n      <td>110.084999</td>\n      <td>68.544998</td>\n      <td>883.099976</td>\n      <td>568.859985</td>\n      <td>256.048492</td>\n      <td>142.107407</td>\n      <td>322.689789</td>\n      <td>560.299988</td>\n      <td>105.040001</td>\n      <td>111.470001</td>\n      <td>40.700001</td>\n      <td>440.734406</td>\n      <td>125.760002</td>\n      <td>177.080002</td>\n    </tr>\n    <tr>\n      <th>2023-10-17 14:55:00-04:00</th>\n      <td>109.150002</td>\n      <td>100.839996</td>\n      <td>104.800003</td>\n      <td>604.289978</td>\n      <td>104.964996</td>\n      <td>606.525024</td>\n      <td>109.879997</td>\n      <td>68.589897</td>\n      <td>882.059998</td>\n      <td>568.039917</td>\n      <td>255.279999</td>\n      <td>141.919998</td>\n      <td>322.000000</td>\n      <td>558.724976</td>\n      <td>104.879997</td>\n      <td>111.510002</td>\n      <td>40.685001</td>\n      <td>438.600006</td>\n      <td>125.672302</td>\n      <td>176.669998</td>\n    </tr>\n    <tr>\n      <th>2023-10-17 15:00:00-04:00</th>\n      <td>109.129997</td>\n      <td>100.791000</td>\n      <td>104.680000</td>\n      <td>604.299988</td>\n      <td>104.915001</td>\n      <td>605.974976</td>\n      <td>109.855003</td>\n      <td>68.519997</td>\n      <td>880.940002</td>\n      <td>568.020020</td>\n      <td>255.160004</td>\n      <td>141.839996</td>\n      <td>322.040009</td>\n      <td>558.219971</td>\n      <td>104.929901</td>\n      <td>111.349998</td>\n      <td>40.680000</td>\n      <td>438.179993</td>\n      <td>125.610001</td>\n      <td>176.736893</td>\n    </tr>\n    <tr>\n      <th>2023-10-17 15:05:00-04:00</th>\n      <td>109.169296</td>\n      <td>100.889999</td>\n      <td>104.723999</td>\n      <td>604.710022</td>\n      <td>105.269997</td>\n      <td>606.501099</td>\n      <td>110.050003</td>\n      <td>68.584999</td>\n      <td>881.659973</td>\n      <td>567.880005</td>\n      <td>255.205002</td>\n      <td>141.910004</td>\n      <td>322.489990</td>\n      <td>558.798523</td>\n      <td>104.949997</td>\n      <td>111.400002</td>\n      <td>40.709999</td>\n      <td>438.229309</td>\n      <td>125.709999</td>\n      <td>176.919998</td>\n    </tr>\n    <tr>\n      <th>2023-10-17 15:10:00-04:00</th>\n      <td>109.180000</td>\n      <td>100.919998</td>\n      <td>104.779900</td>\n      <td>605.114990</td>\n      <td>105.375000</td>\n      <td>606.560425</td>\n      <td>110.099998</td>\n      <td>68.605003</td>\n      <td>881.691406</td>\n      <td>567.599976</td>\n      <td>255.050003</td>\n      <td>141.820007</td>\n      <td>322.426910</td>\n      <td>558.559387</td>\n      <td>105.010002</td>\n      <td>111.459999</td>\n      <td>40.730000</td>\n      <td>438.519989</td>\n      <td>125.800003</td>\n      <td>176.949997</td>\n    </tr>\n  </tbody>\n</table>\n</div>"
     },
     "execution_count": 19,
     "metadata": {},
     "output_type": "execute_result"
    }
   ],
   "source": [
    "history_long = get_history(target_long)\n",
    "history_long.info()\n",
    "history_long.head()"
   ],
   "metadata": {
    "collapsed": false,
    "ExecuteTime": {
     "end_time": "2023-11-17T19:53:26.880265082Z",
     "start_time": "2023-11-17T19:53:03.718838274Z"
    }
   },
   "id": "ebe361f9212621bc"
  },
  {
   "cell_type": "code",
   "execution_count": 40,
   "outputs": [
    {
     "name": "stdout",
     "output_type": "stream",
     "text": [
      "<class 'pandas.core.frame.DataFrame'>\n",
      "DatetimeIndex: 1795 entries, 2023-10-17 15:00:00-04:00 to 2023-11-17 15:00:00-05:00\n",
      "Data columns (total 22 columns):\n",
      " #   Column  Non-Null Count  Dtype  \n",
      "---  ------  --------------  -----  \n",
      " 0   PDD     1795 non-null   float64\n",
      " 1   BAC     1795 non-null   float64\n",
      " 2   BMY     1795 non-null   float64\n",
      " 3   UL      1795 non-null   float64\n",
      " 4   BA      1795 non-null   float64\n",
      " 5   NEE     1795 non-null   float64\n",
      " 6   WFC     1795 non-null   float64\n",
      " 7   DIS     1795 non-null   float64\n",
      " 8   BABA    1795 non-null   float64\n",
      " 9   NKE     1795 non-null   float64\n",
      " 10  JNJ     1795 non-null   float64\n",
      " 11  VZ      1795 non-null   float64\n",
      " 12  BUD     1795 non-null   float64\n",
      " 13  HDB     1795 non-null   float64\n",
      " 14  INTC    1795 non-null   float64\n",
      " 15  TMO     1795 non-null   float64\n",
      " 16  RTX     1795 non-null   float64\n",
      " 17  T       1795 non-null   float64\n",
      " 18  PFE     1795 non-null   float64\n",
      " 19  CRM     1795 non-null   float64\n",
      " 20  CVX     1795 non-null   float64\n",
      " 21  UPS     1795 non-null   float64\n",
      "dtypes: float64(22)\n",
      "memory usage: 322.5 KB\n"
     ]
    },
    {
     "data": {
      "text/plain": "                                  PDD        BAC        BMY         UL  \\\nDatetime                                                                 \n2023-10-17 15:00:00-04:00  104.929901  27.580099  57.189999  48.270000   \n2023-10-17 15:05:00-04:00  104.949997  27.620001  57.290001  48.325001   \n2023-10-17 15:10:00-04:00  105.010002  27.620001  57.360001  48.349998   \n2023-10-17 15:15:00-04:00  105.099998  27.620001  57.369999  48.345001   \n2023-10-17 15:20:00-04:00  105.150002  27.620001  57.345001  48.334999   \n\n                                   BA        NEE        WFC        DIS  \\\nDatetime                                                                 \n2023-10-17 15:00:00-04:00  185.179993  53.950001  41.965000  85.650002   \n2023-10-17 15:05:00-04:00  185.240005  53.959999  42.050499  85.735001   \n2023-10-17 15:10:00-04:00  185.289993  54.020000  42.060001  85.769997   \n2023-10-17 15:15:00-04:00  185.360001  54.009998  42.041302  85.768303   \n2023-10-17 15:20:00-04:00  185.369995  54.000000  42.040001  85.809998   \n\n                                BABA         NKE  ...        BUD        HDB  \\\nDatetime                                          ...                         \n2023-10-17 15:00:00-04:00  83.900002  102.889999  ...  53.950100  58.099602   \n2023-10-17 15:05:00-04:00  84.010002  103.019997  ...  54.017399  58.119999   \n2023-10-17 15:10:00-04:00  84.029999  103.080002  ...  54.040001  58.220001   \n2023-10-17 15:15:00-04:00  84.040001  103.040001  ...  54.005001  58.369999   \n2023-10-17 15:20:00-04:00  84.089996  103.050003  ...  53.974998  58.369999   \n\n                                INTC         TMO        RTX      T        PFE  \\\nDatetime                                                                        \n2023-10-17 15:00:00-04:00  35.935001  484.600006  73.440002  14.47  32.607498   \n2023-10-17 15:05:00-04:00  35.970001  485.239990  73.519997  14.49  32.695000   \n2023-10-17 15:10:00-04:00  35.990002  485.410004  73.580002  14.51  32.740002   \n2023-10-17 15:15:00-04:00  36.009998  485.619995  73.639999  14.51  32.758999   \n2023-10-17 15:20:00-04:00  36.020000  485.845001  73.669998  14.51  32.719898   \n\n                                  CRM         CVX         UPS  \nDatetime                                                       \n2023-10-17 15:00:00-04:00  210.089996  167.690002  156.520004  \n2023-10-17 15:05:00-04:00  210.139999  167.610001  156.850006  \n2023-10-17 15:10:00-04:00  210.130005  167.675003  156.860001  \n2023-10-17 15:15:00-04:00  210.199997  167.610001  156.869995  \n2023-10-17 15:20:00-04:00  210.309998  167.399994  156.970001  \n\n[5 rows x 22 columns]",
      "text/html": "<div>\n<style scoped>\n    .dataframe tbody tr th:only-of-type {\n        vertical-align: middle;\n    }\n\n    .dataframe tbody tr th {\n        vertical-align: top;\n    }\n\n    .dataframe thead th {\n        text-align: right;\n    }\n</style>\n<table border=\"1\" class=\"dataframe\">\n  <thead>\n    <tr style=\"text-align: right;\">\n      <th></th>\n      <th>PDD</th>\n      <th>BAC</th>\n      <th>BMY</th>\n      <th>UL</th>\n      <th>BA</th>\n      <th>NEE</th>\n      <th>WFC</th>\n      <th>DIS</th>\n      <th>BABA</th>\n      <th>NKE</th>\n      <th>...</th>\n      <th>BUD</th>\n      <th>HDB</th>\n      <th>INTC</th>\n      <th>TMO</th>\n      <th>RTX</th>\n      <th>T</th>\n      <th>PFE</th>\n      <th>CRM</th>\n      <th>CVX</th>\n      <th>UPS</th>\n    </tr>\n    <tr>\n      <th>Datetime</th>\n      <th></th>\n      <th></th>\n      <th></th>\n      <th></th>\n      <th></th>\n      <th></th>\n      <th></th>\n      <th></th>\n      <th></th>\n      <th></th>\n      <th></th>\n      <th></th>\n      <th></th>\n      <th></th>\n      <th></th>\n      <th></th>\n      <th></th>\n      <th></th>\n      <th></th>\n      <th></th>\n      <th></th>\n    </tr>\n  </thead>\n  <tbody>\n    <tr>\n      <th>2023-10-17 15:00:00-04:00</th>\n      <td>104.929901</td>\n      <td>27.580099</td>\n      <td>57.189999</td>\n      <td>48.270000</td>\n      <td>185.179993</td>\n      <td>53.950001</td>\n      <td>41.965000</td>\n      <td>85.650002</td>\n      <td>83.900002</td>\n      <td>102.889999</td>\n      <td>...</td>\n      <td>53.950100</td>\n      <td>58.099602</td>\n      <td>35.935001</td>\n      <td>484.600006</td>\n      <td>73.440002</td>\n      <td>14.47</td>\n      <td>32.607498</td>\n      <td>210.089996</td>\n      <td>167.690002</td>\n      <td>156.520004</td>\n    </tr>\n    <tr>\n      <th>2023-10-17 15:05:00-04:00</th>\n      <td>104.949997</td>\n      <td>27.620001</td>\n      <td>57.290001</td>\n      <td>48.325001</td>\n      <td>185.240005</td>\n      <td>53.959999</td>\n      <td>42.050499</td>\n      <td>85.735001</td>\n      <td>84.010002</td>\n      <td>103.019997</td>\n      <td>...</td>\n      <td>54.017399</td>\n      <td>58.119999</td>\n      <td>35.970001</td>\n      <td>485.239990</td>\n      <td>73.519997</td>\n      <td>14.49</td>\n      <td>32.695000</td>\n      <td>210.139999</td>\n      <td>167.610001</td>\n      <td>156.850006</td>\n    </tr>\n    <tr>\n      <th>2023-10-17 15:10:00-04:00</th>\n      <td>105.010002</td>\n      <td>27.620001</td>\n      <td>57.360001</td>\n      <td>48.349998</td>\n      <td>185.289993</td>\n      <td>54.020000</td>\n      <td>42.060001</td>\n      <td>85.769997</td>\n      <td>84.029999</td>\n      <td>103.080002</td>\n      <td>...</td>\n      <td>54.040001</td>\n      <td>58.220001</td>\n      <td>35.990002</td>\n      <td>485.410004</td>\n      <td>73.580002</td>\n      <td>14.51</td>\n      <td>32.740002</td>\n      <td>210.130005</td>\n      <td>167.675003</td>\n      <td>156.860001</td>\n    </tr>\n    <tr>\n      <th>2023-10-17 15:15:00-04:00</th>\n      <td>105.099998</td>\n      <td>27.620001</td>\n      <td>57.369999</td>\n      <td>48.345001</td>\n      <td>185.360001</td>\n      <td>54.009998</td>\n      <td>42.041302</td>\n      <td>85.768303</td>\n      <td>84.040001</td>\n      <td>103.040001</td>\n      <td>...</td>\n      <td>54.005001</td>\n      <td>58.369999</td>\n      <td>36.009998</td>\n      <td>485.619995</td>\n      <td>73.639999</td>\n      <td>14.51</td>\n      <td>32.758999</td>\n      <td>210.199997</td>\n      <td>167.610001</td>\n      <td>156.869995</td>\n    </tr>\n    <tr>\n      <th>2023-10-17 15:20:00-04:00</th>\n      <td>105.150002</td>\n      <td>27.620001</td>\n      <td>57.345001</td>\n      <td>48.334999</td>\n      <td>185.369995</td>\n      <td>54.000000</td>\n      <td>42.040001</td>\n      <td>85.809998</td>\n      <td>84.089996</td>\n      <td>103.050003</td>\n      <td>...</td>\n      <td>53.974998</td>\n      <td>58.369999</td>\n      <td>36.020000</td>\n      <td>485.845001</td>\n      <td>73.669998</td>\n      <td>14.51</td>\n      <td>32.719898</td>\n      <td>210.309998</td>\n      <td>167.399994</td>\n      <td>156.970001</td>\n    </tr>\n  </tbody>\n</table>\n<p>5 rows × 22 columns</p>\n</div>"
     },
     "execution_count": 40,
     "metadata": {},
     "output_type": "execute_result"
    }
   ],
   "source": [
    "history_short = get_history(target_short)\n",
    "history_short.dropna(axis=1, inplace=True)\n",
    "history_short.info()\n",
    "history_short.head()"
   ],
   "metadata": {
    "collapsed": false,
    "ExecuteTime": {
     "end_time": "2023-11-17T20:01:50.203699432Z",
     "start_time": "2023-11-17T20:01:42.059032860Z"
    }
   },
   "id": "895dfe01038ba9d9"
  },
  {
   "cell_type": "markdown",
   "source": [
    "# Getting 2-month compound returns"
   ],
   "metadata": {
    "collapsed": false
   },
   "id": "3333c61d2a44fd09"
  },
  {
   "cell_type": "code",
   "execution_count": 41,
   "outputs": [],
   "source": [
    "def get_returns(history_df: pd.DataFrame) -> np.ndarray:\n",
    "    n = len(history_df.columns)\n",
    "    returns = np.zeros(n, dtype=float)\n",
    "    for i in range(n):\n",
    "        # TODO think about the appropriate return calculation\n",
    "        helper = history_df.iloc[:, i] / history_df.iloc[:, i].shift(1)\n",
    "        helper = helper.iloc[1:]\n",
    "        returns[i] = np.prod(helper) - 1\n",
    "    return returns"
   ],
   "metadata": {
    "collapsed": false,
    "ExecuteTime": {
     "end_time": "2023-11-17T20:01:50.223573410Z",
     "start_time": "2023-11-17T20:01:50.180234727Z"
    }
   },
   "id": "bf677dcc6b4a37e1"
  },
  {
   "cell_type": "code",
   "execution_count": 42,
   "outputs": [
    {
     "name": "stdout",
     "output_type": "stream",
     "text": [
      "Top companies' returns: [ 0.0545362   0.00758514  0.15104563 -0.01773211 -0.00156897  0.12938827\n",
      "  0.08934005 -0.03457576  0.10963652  0.14775163 -0.08506391  0.04336577\n",
      "  0.03741146  0.07465647  0.09634428 -0.0560689  -0.12113023  0.12097783\n",
      " -0.08396951  0.07183195]\n"
     ]
    }
   ],
   "source": [
    "returns_long = get_returns(history_long)\n",
    "print(f'Top companies\\' returns: {returns_long}')"
   ],
   "metadata": {
    "collapsed": false,
    "ExecuteTime": {
     "end_time": "2023-11-17T20:01:50.224448376Z",
     "start_time": "2023-11-17T20:01:50.180470928Z"
    }
   },
   "id": "d4e5baa53a398b43"
  },
  {
   "cell_type": "code",
   "execution_count": 43,
   "outputs": [
    {
     "name": "stdout",
     "output_type": "stream",
     "text": [
      "Bottom companies' returns: [ 0.0957792   0.08469151 -0.11260881 -0.01947376  0.12177343  0.05838735\n",
      "  0.02274274  0.09865729 -0.07050061  0.03022646 -0.03548363  0.157694\n",
      "  0.13614244  0.00215831  0.21093635 -0.03865046  0.08415033  0.09951621\n",
      " -0.08425969  0.05578751 -0.13524961 -0.05587152]\n"
     ]
    }
   ],
   "source": [
    "returns_short = get_returns(history_short)\n",
    "print(f'Bottom companies\\' returns: {returns_short}')"
   ],
   "metadata": {
    "collapsed": false,
    "ExecuteTime": {
     "end_time": "2023-11-17T20:01:50.228186467Z",
     "start_time": "2023-11-17T20:01:50.200221847Z"
    }
   },
   "id": "1ba270930aaaaf57"
  },
  {
   "cell_type": "markdown",
   "source": [
    "# Getting weights"
   ],
   "metadata": {
    "collapsed": false
   },
   "id": "73f9364e7b0c0239"
  },
  {
   "cell_type": "code",
   "execution_count": 48,
   "outputs": [],
   "source": [
    "def sharpe_long(weights):\n",
    "    return -np.dot(returns_long, weights) / np.sqrt(weights @ history_long.cov().to_numpy() @ weights)\n",
    "\n",
    "\n",
    "def sharpe_short(weights):\n",
    "    return np.dot(returns_short, weights) / np.sqrt(weights @ history_short.cov().to_numpy() @ weights)"
   ],
   "metadata": {
    "collapsed": false,
    "ExecuteTime": {
     "end_time": "2023-11-17T20:02:18.272478456Z",
     "start_time": "2023-11-17T20:02:18.263879932Z"
    }
   },
   "id": "421f9e74574a08a3"
  },
  {
   "cell_type": "code",
   "execution_count": 49,
   "outputs": [
    {
     "data": {
      "text/plain": "\"''\\ndef get_weights(history_df: pd.DataFrame, long=True) -> np.ndarray:\\n    n = len(history_df.columns)\\n    weights = np.ones(n)\\n\\n    bounds = [(0.0, None)] * n if long else [(None, 0.0)] * n\\n    constraints = ({'type': 'eq', 'fun': lambda weights: weights.sum() - 1.0})\\n    optimal_weights = minimize(sharpe_long if long else sharpe_short,\\n                               weights, \\n                               method='SLSQP',\\n                               constraints=constraints,\\n                               bounds=bounds\\n                               ).x\\n\\n    return optimal_weights\\n    \""
     },
     "execution_count": 49,
     "metadata": {},
     "output_type": "execute_result"
    }
   ],
   "source": [
    "'''''\n",
    "def get_weights(history_df: pd.DataFrame, long=True) -> np.ndarray:\n",
    "    n = len(history_df.columns)\n",
    "    weights = np.ones(n)\n",
    "\n",
    "    bounds = [(0.0, None)] * n if long else [(None, 0.0)] * n\n",
    "    constraints = ({'type': 'eq', 'fun': lambda weights: weights.sum() - 1.0})\n",
    "    optimal_weights = minimize(sharpe_long if long else sharpe_short,\n",
    "                               weights, \n",
    "                               method='SLSQP',\n",
    "                               constraints=constraints,\n",
    "                               bounds=bounds\n",
    "                               ).x\n",
    "\n",
    "    return optimal_weights\n",
    "    '''''"
   ],
   "metadata": {
    "collapsed": false,
    "ExecuteTime": {
     "end_time": "2023-11-17T20:02:18.589821013Z",
     "start_time": "2023-11-17T20:02:18.572959551Z"
    }
   },
   "id": "6d68570a4c2fb093"
  },
  {
   "cell_type": "code",
   "execution_count": 50,
   "outputs": [],
   "source": [
    "def get_weights(history_df: pd.DataFrame, long=True) -> dict:\n",
    "    n = len(history_df.columns)\n",
    "    weights = np.ones(n) if long else np.full(n, -1)\n",
    "\n",
    "    bounds = [(0.0, 0.10)] * n if long else [(None, 0.0)] * n\n",
    "    constraints = ({'type': 'eq', 'fun': lambda w: np.sum(w) - 1.0})\n",
    "    optimal_weights = minimize(sharpe_long if long else sharpe_short,\n",
    "                               weights,\n",
    "                               method='SLSQP',\n",
    "                               constraints=constraints,\n",
    "                               bounds=bounds\n",
    "                               ).x\n",
    "\n",
    "    # Create a dictionary with column names as keys and weights as values\n",
    "    weights_dict = dict(zip(history_df.columns, optimal_weights))\n",
    "    return weights_dict"
   ],
   "metadata": {
    "collapsed": false,
    "ExecuteTime": {
     "end_time": "2023-11-17T20:02:18.973137035Z",
     "start_time": "2023-11-17T20:02:18.970306596Z"
    }
   },
   "id": "76fa2820f101481"
  },
  {
   "cell_type": "code",
   "execution_count": 51,
   "outputs": [
    {
     "name": "stdout",
     "output_type": "stream",
     "text": [
      "   Stock  Weight\n",
      "0   ORCL  10.00%\n",
      "1    NVO  10.00%\n",
      "2    AMD  10.00%\n",
      "3    LLY   0.00%\n",
      "4     BX  10.00%\n",
      "5   ASML   0.00%\n",
      "6     GE  10.00%\n",
      "7   SHEL  10.00%\n",
      "8   AVGO   0.00%\n",
      "9    NOW   0.00%\n",
      "10  TSLA   0.00%\n",
      "11  AMAT  10.00%\n",
      "12  META   0.00%\n",
      "13  ADBE   0.00%\n",
      "14   PDD  10.00%\n",
      "15   XOM  10.00%\n",
      "16    BP   0.00%\n",
      "17  NVDA   0.00%\n",
      "18   COP   0.00%\n",
      "19  AAPL  10.00%\n"
     ]
    }
   ],
   "source": [
    "weights_long = get_weights(history_long, True)\n",
    "weights_long_vw = pd.DataFrame(list(weights_long.items()), columns=['Stock', 'Weight'])\n",
    "\n",
    "weights_long_vw['Weight'] = weights_long_vw['Weight'].apply(lambda x: f\"{x * 100:.2f}%\")\n",
    "\n",
    "#print(f'Optimal weights for top companies: {weights_long}')\n",
    "\n",
    "#print(f'Optimal Sharpe ratio: {-sharpe_long(weights_long)}')\n",
    "\n",
    "#history_long.columns\n",
    "\n",
    "print(weights_long_vw)\n",
    "\n"
   ],
   "metadata": {
    "collapsed": false,
    "ExecuteTime": {
     "end_time": "2023-11-17T20:02:19.796402518Z",
     "start_time": "2023-11-17T20:02:19.266857677Z"
    }
   },
   "id": "95f2f53caff9deff"
  },
  {
   "cell_type": "code",
   "execution_count": 51,
   "outputs": [],
   "source": [],
   "metadata": {
    "collapsed": false,
    "ExecuteTime": {
     "end_time": "2023-11-17T20:02:19.809432792Z",
     "start_time": "2023-11-17T20:02:19.733824086Z"
    }
   },
   "id": "56c1d566d5006e73"
  },
  {
   "cell_type": "code",
   "execution_count": 52,
   "outputs": [
    {
     "name": "stdout",
     "output_type": "stream",
     "text": [
      "Optimal weights for bottom companies: {'PDD': 0.0, 'BAC': -7.771561172376096e-15, 'BMY': -7.549516567451064e-15, 'UL': -3.552713678800501e-15, 'BA': -2.4424906541753444e-15, 'NEE': -9.992007221626409e-15, 'WFC': 0.0, 'DIS': 0.0, 'BABA': -9.325873406851315e-15, 'NKE': -9.992007221626409e-15, 'JNJ': -7.993605777301127e-15, 'VZ': 0.0, 'BUD': 0.0, 'HDB': -6.661338147750939e-16, 'INTC': 0.0, 'TMO': -2.220446049250313e-16, 'RTX': 0.0, 'T': 0.0, 'PFE': -4.440892098500626e-16, 'CRM': -6.217248937900877e-15, 'CVX': 0.0, 'UPS': -1.1102230246251565e-15}\n",
      "Optimal Sharpe ratio: 0.0019574077106613665\n"
     ]
    }
   ],
   "source": [
    "weights_short = get_weights(history_short, False)\n",
    "print(f'Optimal weights for bottom companies: {weights_short}')\n",
    "print(f'Optimal Sharpe ratio: {-sharpe_short(np.array(list(weights_short.values())))}')"
   ],
   "metadata": {
    "collapsed": false,
    "ExecuteTime": {
     "end_time": "2023-11-17T20:02:20.037366583Z",
     "start_time": "2023-11-17T20:02:19.993706217Z"
    }
   },
   "id": "b0178ec648e76f70"
  },
  {
   "cell_type": "code",
   "execution_count": null,
   "outputs": [],
   "source": [],
   "metadata": {
    "collapsed": false,
    "ExecuteTime": {
     "start_time": "2023-11-14T05:04:29.053401700Z"
    }
   },
   "id": "3087d77f3c7eaed2"
  }
 ],
 "metadata": {
  "kernelspec": {
   "display_name": "Python 3",
   "language": "python",
   "name": "python3"
  },
  "language_info": {
   "codemirror_mode": {
    "name": "ipython",
    "version": 2
   },
   "file_extension": ".py",
   "mimetype": "text/x-python",
   "name": "python",
   "nbconvert_exporter": "python",
   "pygments_lexer": "ipython2",
   "version": "2.7.6"
  }
 },
 "nbformat": 4,
 "nbformat_minor": 5
}
