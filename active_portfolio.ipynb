{
 "cells": [
  {
   "cell_type": "code",
   "execution_count": 1,
   "id": "initial_id",
   "metadata": {
    "collapsed": true,
    "ExecuteTime": {
     "end_time": "2023-11-08T06:14:50.811796061Z",
     "start_time": "2023-11-08T06:14:50.396076125Z"
    }
   },
   "outputs": [],
   "source": [
    "import numpy as np\n",
    "import pandas as pd\n",
    "import yfinance as yf\n",
    "\n",
    "from scipy.optimize import minimize"
   ]
  },
  {
   "cell_type": "markdown",
   "source": [
    "# Choosing target companies"
   ],
   "metadata": {
    "collapsed": false
   },
   "id": "f74257276808ba58"
  },
  {
   "cell_type": "code",
   "execution_count": 2,
   "outputs": [],
   "source": [
    "# TODO choose 10 / 50 every week\n",
    "# TODO add target_short\n",
    "target_long = pd.DataFrame(['ASML', 'GOOG', 'ACN', 'AAPL', 'SONY', 'INTU', 'V', 'MA', 'BX', 'TTE'],\n",
    "                           columns=['Ticker'])"
   ],
   "metadata": {
    "collapsed": false,
    "ExecuteTime": {
     "end_time": "2023-11-08T06:14:50.927382193Z",
     "start_time": "2023-11-08T06:14:50.880572Z"
    }
   },
   "id": "6e7e57b29e2ea518"
  },
  {
   "cell_type": "markdown",
   "source": [
    "# Calculating portfolio weights"
   ],
   "metadata": {
    "collapsed": false
   },
   "id": "f9a493e2b15068c4"
  },
  {
   "cell_type": "markdown",
   "source": [
    "## Getting 2-month history"
   ],
   "metadata": {
    "collapsed": false
   },
   "id": "f41faac5b97a1f9d"
  },
  {
   "cell_type": "code",
   "execution_count": 3,
   "outputs": [],
   "source": [
    "def get_history(target_df: pd.DataFrame) -> dict:\n",
    "    history = pd.DataFrame(columns=list(target_long['Ticker']))\n",
    "    for ticker in target_df['Ticker']:\n",
    "        history[ticker] = yf.Ticker(ticker).history(interval='5m')['Close']\n",
    "    return history"
   ],
   "metadata": {
    "collapsed": false,
    "ExecuteTime": {
     "end_time": "2023-11-08T06:14:51.767520290Z",
     "start_time": "2023-11-08T06:14:51.763525794Z"
    }
   },
   "id": "bf9f0d57691c9fe1"
  },
  {
   "cell_type": "code",
   "execution_count": 4,
   "outputs": [],
   "source": [
    "history_long = get_history(target_long)"
   ],
   "metadata": {
    "collapsed": false,
    "ExecuteTime": {
     "end_time": "2023-11-08T06:14:56.787751601Z",
     "start_time": "2023-11-08T06:14:52.174980465Z"
    }
   },
   "id": "ebe361f9212621bc"
  },
  {
   "cell_type": "markdown",
   "source": [
    "\n",
    "## Getting 2-month compound returns"
   ],
   "metadata": {
    "collapsed": false
   },
   "id": "3333c61d2a44fd09"
  },
  {
   "cell_type": "code",
   "execution_count": 5,
   "outputs": [],
   "source": [
    "def get_returns(history_df: pd.DataFrame) -> np.ndarray:\n",
    "    n = len(history_df.columns)\n",
    "    returns = np.zeros(n, dtype=float)\n",
    "    for i in range(n):\n",
    "        # TODO think about appropriate return calculation\n",
    "        helper = history_df.iloc[:, i] / history_df.iloc[:, i].shift(1)\n",
    "        helper = helper.iloc[1:]\n",
    "        returns[i] = np.prod(helper) - 1\n",
    "    return returns"
   ],
   "metadata": {
    "collapsed": false,
    "ExecuteTime": {
     "end_time": "2023-11-08T06:14:56.797582928Z",
     "start_time": "2023-11-08T06:14:56.791284551Z"
    }
   },
   "id": "bf677dcc6b4a37e1"
  },
  {
   "cell_type": "code",
   "execution_count": 6,
   "outputs": [
    {
     "name": "stdout",
     "output_type": "stream",
     "text": [
      "Top companies' returns: [ 0.08943322 -0.03332119  0.01574109  0.0321775   0.05649513 -0.02432639\n",
      "  0.04853496 -0.01120826 -0.0429326   0.0073824 ]\n"
     ]
    }
   ],
   "source": [
    "returns_long = get_returns(history_long)\n",
    "print(f'Top companies\\' returns: {returns_long}')"
   ],
   "metadata": {
    "collapsed": false,
    "ExecuteTime": {
     "end_time": "2023-11-08T06:14:56.809934164Z",
     "start_time": "2023-11-08T06:14:56.800097466Z"
    }
   },
   "id": "d4e5baa53a398b43"
  },
  {
   "cell_type": "markdown",
   "source": [
    "## Getting weights"
   ],
   "metadata": {
    "collapsed": false
   },
   "id": "73f9364e7b0c0239"
  },
  {
   "cell_type": "code",
   "execution_count": 7,
   "outputs": [
    {
     "name": "stdout",
     "output_type": "stream",
     "text": [
      "Optimal weights: [0.         0.         0.         0.         0.76477022 0.\n",
      " 0.         0.         0.         0.23522981]\n",
      "Optimal Sharpe ratio: 0.02893133412227156\n"
     ]
    }
   ],
   "source": [
    "n = len(target_long['Ticker'])\n",
    "weights_long = np.ones(n)\n",
    "\n",
    "\n",
    "def sharpe_long(weights):\n",
    "    return -np.dot(returns_long, weights) / np.sqrt(weights @ history_long.cov().to_numpy() @ weights)\n",
    "\n",
    "\n",
    "bounds = [(0, None)] * n\n",
    "constraints = ({'type': 'eq', 'fun': lambda weights: weights.sum() - 1.0})\n",
    "optimal_weights_long = minimize(sharpe_long, weights_long, method='SLSQP',\n",
    "                                constraints=constraints,\n",
    "                                bounds=bounds\n",
    "                                ).x\n",
    "\n",
    "print(f'Optimal weights: {optimal_weights_long}')\n",
    "print(f'Optimal Sharpe ratio: {-sharpe_long(optimal_weights_long)}')"
   ],
   "metadata": {
    "collapsed": false,
    "ExecuteTime": {
     "end_time": "2023-11-08T06:14:56.903416094Z",
     "start_time": "2023-11-08T06:14:56.814507636Z"
    }
   },
   "id": "95f2f53caff9deff"
  },
  {
   "cell_type": "code",
   "execution_count": null,
   "outputs": [],
   "source": [],
   "metadata": {
    "collapsed": false
   },
   "id": "ac0cfb8bddb4db2"
  }
 ],
 "metadata": {
  "kernelspec": {
   "display_name": "Python 3",
   "language": "python",
   "name": "python3"
  },
  "language_info": {
   "codemirror_mode": {
    "name": "ipython",
    "version": 2
   },
   "file_extension": ".py",
   "mimetype": "text/x-python",
   "name": "python",
   "nbconvert_exporter": "python",
   "pygments_lexer": "ipython2",
   "version": "2.7.6"
  }
 },
 "nbformat": 4,
 "nbformat_minor": 5
}
