{
 "cells": [
  {
   "cell_type": "code",
   "execution_count": 1,
   "id": "initial_id",
   "metadata": {
    "collapsed": true,
    "ExecuteTime": {
     "end_time": "2023-11-21T17:17:49.519403350Z",
     "start_time": "2023-11-21T17:17:48.862617888Z"
    }
   },
   "outputs": [],
   "source": [
    "import numpy as np\n",
    "import pandas as pd\n",
    "import yfinance as yf\n",
    "\n",
    "from scipy.optimize import minimize"
   ]
  },
  {
   "cell_type": "code",
   "execution_count": 2,
   "outputs": [],
   "source": [
    "# pd.set_option('display.max_rows', 20)"
   ],
   "metadata": {
    "collapsed": false,
    "ExecuteTime": {
     "end_time": "2023-11-21T17:17:49.520132686Z",
     "start_time": "2023-11-21T17:17:49.515469702Z"
    }
   },
   "id": "b452c80153b5056e"
  },
  {
   "cell_type": "code",
   "execution_count": 22,
   "outputs": [
    {
     "name": "stdout",
     "output_type": "stream",
     "text": [
      "C:\\Users\\mitch\\Documents\\QCF\\Finance and Investments\\StockTrack-Trading-Simulation\n"
     ]
    }
   ],
   "source": [
    "# import yfinance as yf\n",
    "# import pandas as pd\n",
    "# import numpy as np\n",
    "# from scipy import optimize\n",
    "# \n",
    "# import os\n",
    "# cwd = os.getcwd()\n",
    "# print(cwd)\n",
    "# os.chdir(r'C:\\Users\\mitch\\Documents\\QCF\\Finance and Investments\\StockTrack-Trading-Simulation')"
   ],
   "metadata": {
    "collapsed": false,
    "ExecuteTime": {
     "end_time": "2023-11-14T05:03:13.161779300Z",
     "start_time": "2023-11-14T05:03:12.893852400Z"
    }
   },
   "id": "88bb78b6a3732fb8"
  },
  {
   "cell_type": "markdown",
   "source": [
    "# Reusable functions"
   ],
   "metadata": {
    "collapsed": false
   },
   "id": "82da38b746da26b2"
  },
  {
   "cell_type": "code",
   "execution_count": 3,
   "outputs": [],
   "source": [
    "def calculate_return(df):\n",
    "    if df.empty:\n",
    "        return None\n",
    "    # Get the closing price at the start of the year\n",
    "    start_price = df['Close'].iloc[0]\n",
    "\n",
    "    # Get the closing price at the end of the year\n",
    "    end_price = df['Close'].iloc[-1]\n",
    "\n",
    "    # Calculate the one-year return\n",
    "    return (end_price - start_price) / start_price\n",
    "# \n",
    "# \n",
    "# def MaximizeSharpeRatioOptmzn(MeanReturns, CovarReturns, RiskFreeRate, PortfolioSize):\n",
    "#     # define maximization of Sharpe Ratio using principle of duality\n",
    "#     def f(x, MeanReturns, CovarReturns, RiskFreeRate, PortfolioSize):\n",
    "#         funcDenomr = np.sqrt(np.matmul(np.matmul(x, CovarReturns), x.T))\n",
    "#         funcNumer = np.matmul(np.array(MeanReturns), x.T) - RiskFreeRate\n",
    "#         func = -(funcNumer / funcDenomr)\n",
    "#         return func\n",
    "# \n",
    "#     #define equality constraint representing fully invested portfolio\n",
    "#     def constraintEq(x):\n",
    "#         A = np.ones(x.shape)\n",
    "#         b = 1\n",
    "#         constraintVal = np.matmul(A, x.T) - b\n",
    "#         return constraintVal\n",
    "# \n",
    "#     #define bounds and other parameters\n",
    "#     xinit = np.repeat(0.33, PortfolioSize)\n",
    "#     cons = ({'type': 'eq', 'fun': constraintEq})\n",
    "#     lb = 0\n",
    "#     ub = 1\n",
    "#     bnds = tuple([(lb, ub) for x in xinit])\n",
    "# \n",
    "#     #invoke minimize solver\n",
    "#     opt = minimize(f, x0=xinit, args=(MeanReturns, CovarReturns, RiskFreeRate, PortfolioSize), method='SLSQP',\n",
    "#                    bounds=bnds, constraints=cons, tol=10 ** -3)\n",
    "# \n",
    "#     return opt\n"
   ],
   "metadata": {
    "collapsed": false,
    "ExecuteTime": {
     "end_time": "2023-11-21T17:17:50.403946471Z",
     "start_time": "2023-11-21T17:17:50.378981032Z"
    }
   },
   "id": "38faa609bbae38c4"
  },
  {
   "cell_type": "code",
   "execution_count": 4,
   "outputs": [
    {
     "data": {
      "text/plain": "    Symbol                     Company Name                        Industry  \\\n0     AAPL                       Apple Inc.            Consumer Electronics   \n1     MSFT            Microsoft Corporation       Software - Infrastructure   \n2    GOOGL                    Alphabet Inc.  Internet Content & Information   \n3     GOOG                    Alphabet Inc.  Internet Content & Information   \n4     AMZN                 Amazon.com, Inc.                 Internet Retail   \n..     ...                              ...                             ...   \n495   RBLX               Roblox Corporation  Electronic Gaming & Multimedia   \n496    WBA   Walgreens Boots Alliance, Inc.        Pharmaceutical Retailers   \n497     TW            Tradeweb Markets Inc.                 Capital Markets   \n498     ZM  Zoom Video Communications, Inc.          Software - Application   \n499   ULTA                Ulta Beauty, Inc.                Specialty Retail   \n\n    Market Cap  \n0    2,811.03B  \n1    2,469.80B  \n2    1,779.01B  \n3    1,778.79B  \n4    1,360.20B  \n..         ...  \n495     19.59B  \n496     19.51B  \n497     19.51B  \n498     19.51B  \n499     19.49B  \n\n[500 rows x 4 columns]",
      "text/html": "<div>\n<style scoped>\n    .dataframe tbody tr th:only-of-type {\n        vertical-align: middle;\n    }\n\n    .dataframe tbody tr th {\n        vertical-align: top;\n    }\n\n    .dataframe thead th {\n        text-align: right;\n    }\n</style>\n<table border=\"1\" class=\"dataframe\">\n  <thead>\n    <tr style=\"text-align: right;\">\n      <th></th>\n      <th>Symbol</th>\n      <th>Company Name</th>\n      <th>Industry</th>\n      <th>Market Cap</th>\n    </tr>\n  </thead>\n  <tbody>\n    <tr>\n      <th>0</th>\n      <td>AAPL</td>\n      <td>Apple Inc.</td>\n      <td>Consumer Electronics</td>\n      <td>2,811.03B</td>\n    </tr>\n    <tr>\n      <th>1</th>\n      <td>MSFT</td>\n      <td>Microsoft Corporation</td>\n      <td>Software - Infrastructure</td>\n      <td>2,469.80B</td>\n    </tr>\n    <tr>\n      <th>2</th>\n      <td>GOOGL</td>\n      <td>Alphabet Inc.</td>\n      <td>Internet Content &amp; Information</td>\n      <td>1,779.01B</td>\n    </tr>\n    <tr>\n      <th>3</th>\n      <td>GOOG</td>\n      <td>Alphabet Inc.</td>\n      <td>Internet Content &amp; Information</td>\n      <td>1,778.79B</td>\n    </tr>\n    <tr>\n      <th>4</th>\n      <td>AMZN</td>\n      <td>Amazon.com, Inc.</td>\n      <td>Internet Retail</td>\n      <td>1,360.20B</td>\n    </tr>\n    <tr>\n      <th>...</th>\n      <td>...</td>\n      <td>...</td>\n      <td>...</td>\n      <td>...</td>\n    </tr>\n    <tr>\n      <th>495</th>\n      <td>RBLX</td>\n      <td>Roblox Corporation</td>\n      <td>Electronic Gaming &amp; Multimedia</td>\n      <td>19.59B</td>\n    </tr>\n    <tr>\n      <th>496</th>\n      <td>WBA</td>\n      <td>Walgreens Boots Alliance, Inc.</td>\n      <td>Pharmaceutical Retailers</td>\n      <td>19.51B</td>\n    </tr>\n    <tr>\n      <th>497</th>\n      <td>TW</td>\n      <td>Tradeweb Markets Inc.</td>\n      <td>Capital Markets</td>\n      <td>19.51B</td>\n    </tr>\n    <tr>\n      <th>498</th>\n      <td>ZM</td>\n      <td>Zoom Video Communications, Inc.</td>\n      <td>Software - Application</td>\n      <td>19.51B</td>\n    </tr>\n    <tr>\n      <th>499</th>\n      <td>ULTA</td>\n      <td>Ulta Beauty, Inc.</td>\n      <td>Specialty Retail</td>\n      <td>19.49B</td>\n    </tr>\n  </tbody>\n</table>\n<p>500 rows × 4 columns</p>\n</div>"
     },
     "execution_count": 4,
     "metadata": {},
     "output_type": "execute_result"
    }
   ],
   "source": [
    "largest_market_cap = pd.read_excel('./Top Companies by Market Cap.xlsx', sheet_name='Sheet1')\n",
    "largest_market_cap"
   ],
   "metadata": {
    "collapsed": false,
    "ExecuteTime": {
     "end_time": "2023-11-21T17:17:51.316969491Z",
     "start_time": "2023-11-21T17:17:51.101558581Z"
    }
   },
   "id": "70806985cf5d7ad7"
  },
  {
   "cell_type": "code",
   "execution_count": 5,
   "outputs": [],
   "source": [
    "largest_market_cap = largest_market_cap[~largest_market_cap['Symbol'].str.contains('\\.')].reset_index(drop=True)\n",
    "top = largest_market_cap.head(100)\n",
    "top_symbols = top['Symbol']"
   ],
   "metadata": {
    "collapsed": false,
    "ExecuteTime": {
     "end_time": "2023-11-21T17:17:51.942198643Z",
     "start_time": "2023-11-21T17:17:51.928655897Z"
    }
   },
   "id": "9fe2e4bb8c7289e5"
  },
  {
   "cell_type": "code",
   "execution_count": 6,
   "outputs": [],
   "source": [
    "# ticker = yf.Ticker('AAPL')\n",
    "# stock_info = ticker.info\n",
    "# print(stock_info.get('beta'))"
   ],
   "metadata": {
    "collapsed": false,
    "ExecuteTime": {
     "end_time": "2023-11-21T17:17:52.761271508Z",
     "start_time": "2023-11-21T17:17:52.746761900Z"
    }
   },
   "id": "3e12a442c05f1a3c"
  },
  {
   "cell_type": "code",
   "execution_count": 7,
   "outputs": [],
   "source": [
    "one_year_data = {}\n",
    "three_year_data = {}\n",
    "five_year_data = {}\n",
    "for symbol in top_symbols:\n",
    "    ticker = yf.Ticker(symbol)\n",
    "    one_year_data[symbol] = ticker.history(period=\"1y\")\n",
    "    three_year_data[symbol] = ticker.history(period=\"3y\")\n",
    "    five_year_data[symbol] = ticker.history(period=\"5y\")"
   ],
   "metadata": {
    "collapsed": false,
    "ExecuteTime": {
     "end_time": "2023-11-21T17:19:07.736008411Z",
     "start_time": "2023-11-21T17:17:53.116924176Z"
    }
   },
   "id": "fbbf51507eca1825"
  },
  {
   "cell_type": "code",
   "execution_count": 8,
   "outputs": [
    {
     "data": {
      "text/plain": "{'AAPL': 0.2917556234842266,\n 'MSFT': 0.553459551488625,\n 'GOOGL': 0.42876567487462375,\n 'GOOG': 0.4427631416577035,\n 'AMZN': 0.5449935006568656,\n 'NVDA': 2.2367650204634884,\n 'META': 2.07691604679862,\n 'TSLA': 0.44090666314715554,\n 'LLY': 0.6648753083181432,\n 'V': 0.2295151965443692,\n 'UNH': 0.059583592817676945,\n 'TSM': 0.25958162378282035,\n 'NVO': 0.8694792063963371,\n 'WMT': 0.047081798486593884,\n 'JPM': 0.1844568647005163,\n 'XOM': -0.025733217602796645,\n 'JNJ': -0.1184949046371724,\n 'MA': 0.21746454587135602,\n 'AVGO': 0.9570143507900121,\n 'PG': 0.06324002389728373,\n 'CVX': -0.17425568962349172,\n 'ORCL': 0.48412320748082016,\n 'HD': -0.010367514244657622,\n 'ABBV': -0.08171345212007528,\n 'MRK': -0.0016361924645046948,\n 'COST': 0.12302466333147209,\n 'ADBE': 0.8970108359285948,\n 'TM': 0.29554725877407184,\n 'ASML': 0.18916668012234183,\n 'KO': -0.04048155620384998,\n 'PEP': -0.06995223054590402,\n 'BABA': 0.027167507209148054,\n 'SHEL': 0.2638715317950637,\n 'CSCO': 0.036063652093303276,\n 'BAC': -0.1795436063117873,\n 'AZN': 0.0031496027363952426,\n 'NVS': 0.1597202297131594,\n 'CRM': 0.5537451713861637,\n 'ACN': 0.17130415988018124,\n 'FMX': 0.5839637529779627,\n 'TMO': -0.08843970682803691,\n 'PFE': -0.3463427808446213,\n 'LIN': 0.2492227055511987,\n 'MCD': 0.04275494194312069,\n 'CMCSA': 0.27645707673667125,\n 'AMD': 0.6371791160957799,\n 'TMUS': -0.008673625629878069,\n 'NFLX': 0.6723733094888313,\n 'ABT': 0.0045889796616439375,\n 'DHR': -0.04033218062301425,\n 'HSBC': 0.43906553611556687,\n 'TTE': 0.2695343300977244,\n 'DIS': -0.03253743586985026,\n 'SAP': 0.4301123579441374,\n 'INTC': 0.5424359644142506,\n 'INTU': 0.5123380002933022,\n 'AMGN': -0.06020325400131798,\n 'NKE': 0.03310661392668786,\n 'HDB': -0.11462104912630347,\n 'PDD': 0.7339543809161795,\n 'BHP': 0.12107058399040858,\n 'WFC': -0.06260747553501127,\n 'PM': 0.008880744513362722,\n 'COP': -0.04303650189858432,\n 'TXN': -0.08566769104093191,\n 'CAT': 0.0931930468790136,\n 'SNY': 0.08387123029775428,\n 'UPS': -0.13886097633586492,\n 'VZ': 0.03231170888978355,\n 'MS': -0.08048895360775032,\n 'BX': 0.21977796728777602,\n 'IBM': 0.09982990803546675,\n 'UNP': 0.07355038456510155,\n 'HON': -0.09808067412437035,\n 'QCOM': 0.07888175401116916,\n 'GE': 0.7910244368252484,\n 'UL': 0.01211537382102207,\n 'RY': -0.06900857261656917,\n 'AMAT': 0.429933748713962,\n 'BMY': -0.3604050584423083,\n 'SPGI': 0.19958335214700765,\n 'BA': 0.2611310455914329,\n 'LOW': -0.03517364047997602,\n 'NOW': 0.7191388651412657,\n 'DE': -0.06442959689899905,\n 'AXP': 0.07718074730146654,\n 'BP': 0.12678152710753773,\n 'LMT': -0.04591781518398786,\n 'BKNG': 0.6464138486900219,\n 'TD': -0.028834858197184846,\n 'NEE': -0.29173795781123457,\n 'BUD': 0.13103390551284294,\n 'ELV': -0.048630380264959,\n 'RTX': -0.1615029149290319,\n 'T': -0.08349763537942996,\n 'SONY': 0.09779998695796954,\n 'SBUX': 0.08027490664050319,\n 'PLD': -0.011026347895324922,\n 'GS': -0.08927685201742784,\n 'ADP': -0.08343338747743449}"
     },
     "execution_count": 8,
     "metadata": {},
     "output_type": "execute_result"
    }
   ],
   "source": [
    "one_year_return_data = {}\n",
    "three_year_return_data = {}\n",
    "five_year_return_data = {}\n",
    "for key, df in one_year_data.items():\n",
    "    one_year_return_data[key] = calculate_return(one_year_data[key])\n",
    "    three_year_return_data[key] = calculate_return(three_year_data[key])\n",
    "    five_year_return_data[key] = calculate_return(five_year_data[key])\n",
    "\n",
    "one_year_return_data"
   ],
   "metadata": {
    "collapsed": false,
    "ExecuteTime": {
     "end_time": "2023-11-21T17:19:07.774289248Z",
     "start_time": "2023-11-21T17:19:07.740267673Z"
    }
   },
   "id": "36d2a48dd56ccc64"
  },
  {
   "cell_type": "code",
   "execution_count": 9,
   "outputs": [
    {
     "name": "stdout",
     "output_type": "stream",
     "text": [
      "Top Decile Overlaps: {'NVO', 'AVGO', 'LLY', 'NVDA'}\n",
      "Bottom Decile Overlaps: {'BMY', 'HDB', 'NEE'}\n"
     ]
    }
   ],
   "source": [
    "def get_deciles(data):\n",
    "    # Remove None values and sort the data\n",
    "    filtered_data = {k: v for k, v in data.items() if v is not None}\n",
    "    sorted_data = sorted(filtered_data.items(), key=lambda x: x[1])\n",
    "\n",
    "    # Calculate the index for decile\n",
    "    n = len(sorted_data)\n",
    "    decile_index = n // 10\n",
    "\n",
    "    # Get the top and bottom decile\n",
    "    bottom_decile = dict(sorted_data[:decile_index])\n",
    "    top_decile = dict(sorted_data[-decile_index:])\n",
    "\n",
    "    return top_decile, bottom_decile\n",
    "\n",
    "\n",
    "# Apply the function to each dataset\n",
    "top_decile_one_year, bottom_decile_one_year = get_deciles(one_year_return_data)\n",
    "top_decile_three_year, bottom_decile_three_year = get_deciles(three_year_return_data)\n",
    "top_decile_five_year, bottom_decile_five_year = get_deciles(five_year_return_data)\n",
    "\n",
    "# Find overlapping keys in the top deciles\n",
    "overlapping_top_keys = set(top_decile_one_year.keys()) & set(top_decile_three_year.keys()) & set(\n",
    "    top_decile_five_year.keys())\n",
    "\n",
    "# Find overlapping keys in the bottom deciles\n",
    "overlapping_bottom_keys = set(bottom_decile_one_year.keys()) & set(bottom_decile_three_year.keys())\n",
    "\n",
    "# Print results\n",
    "print(\"Top Decile Overlaps:\", overlapping_top_keys)\n",
    "print(\"Bottom Decile Overlaps:\", overlapping_bottom_keys)\n"
   ],
   "metadata": {
    "collapsed": false,
    "ExecuteTime": {
     "end_time": "2023-11-21T17:19:07.845193533Z",
     "start_time": "2023-11-21T17:19:07.782187523Z"
    }
   },
   "id": "99a304a504eb9513"
  },
  {
   "cell_type": "markdown",
   "source": [
    "# Choosing top-50 and bottom-50 companies"
   ],
   "metadata": {
    "collapsed": false
   },
   "id": "f74257276808ba58"
  },
  {
   "cell_type": "code",
   "execution_count": 10,
   "outputs": [
    {
     "data": {
      "text/plain": "\"''\\n\\ntarget_long = pd.DataFrame(['ASML', 'GOOG', 'ACN', 'AAPL', 'SONY',\\n                            'INTU', 'V', 'MA', 'BX', 'TTE'],\\n                           columns=['Ticker'])\\n# TODO\\ntarget_short = pd.DataFrame([],\\n                            columns=['Ticker']\\n                            )\\n                            \\n                            \""
     },
     "execution_count": 10,
     "metadata": {},
     "output_type": "execute_result"
    }
   ],
   "source": [
    "'''''\n",
    "\n",
    "target_long = pd.DataFrame(['ASML', 'GOOG', 'ACN', 'AAPL', 'SONY',\n",
    "                            'INTU', 'V', 'MA', 'BX', 'TTE'],\n",
    "                           columns=['Ticker'])\n",
    "# TODO\n",
    "target_short = pd.DataFrame([],\n",
    "                            columns=['Ticker']\n",
    "                            )\n",
    "                            \n",
    "                            '''''"
   ],
   "metadata": {
    "collapsed": false,
    "ExecuteTime": {
     "end_time": "2023-11-21T17:19:07.846001303Z",
     "start_time": "2023-11-21T17:19:07.824989173Z"
    }
   },
   "id": "6e7e57b29e2ea518"
  },
  {
   "cell_type": "code",
   "execution_count": 11,
   "outputs": [
    {
     "data": {
      "text/plain": "{'AAPL',\n 'ADBE',\n 'AMAT',\n 'AMD',\n 'ASML',\n 'AVGO',\n 'BP',\n 'BX',\n 'COP',\n 'GE',\n 'LLY',\n 'META',\n 'NFLX',\n 'NOW',\n 'NVDA',\n 'NVO',\n 'ORCL',\n 'PDD',\n 'SHEL',\n 'TSLA',\n 'XOM'}"
     },
     "execution_count": 11,
     "metadata": {},
     "output_type": "execute_result"
    }
   ],
   "source": [
    "# Get all unique keys in the top deciles\n",
    "all_top_keys = set(top_decile_one_year.keys()) | set(top_decile_three_year.keys()) | set(top_decile_five_year.keys())\n",
    "\n",
    "# Get all unique keys in the bottom deciles\n",
    "all_bottom_keys = set(bottom_decile_one_year.keys()) | set(bottom_decile_three_year.keys()) | set(\n",
    "    bottom_decile_five_year.keys())\n",
    "\n",
    "all_top_keys"
   ],
   "metadata": {
    "collapsed": false,
    "ExecuteTime": {
     "end_time": "2023-11-21T17:19:07.846525242Z",
     "start_time": "2023-11-21T17:19:07.825413241Z"
    }
   },
   "id": "5414d18fd5680e6f"
  },
  {
   "cell_type": "code",
   "execution_count": 12,
   "outputs": [
    {
     "data": {
      "text/plain": "{'BA',\n 'BABA',\n 'BAC',\n 'BMY',\n 'BUD',\n 'CRM',\n 'CVX',\n 'DIS',\n 'HDB',\n 'HON',\n 'INTC',\n 'JNJ',\n 'NEE',\n 'NKE',\n 'PDD',\n 'PFE',\n 'RTX',\n 'T',\n 'UL',\n 'UPS',\n 'VZ',\n 'WFC'}"
     },
     "execution_count": 12,
     "metadata": {},
     "output_type": "execute_result"
    }
   ],
   "source": [
    "all_bottom_keys"
   ],
   "metadata": {
    "collapsed": false,
    "ExecuteTime": {
     "end_time": "2023-11-21T17:19:07.847046179Z",
     "start_time": "2023-11-21T17:19:07.825781158Z"
    }
   },
   "id": "6c5b104999ac1d56"
  },
  {
   "cell_type": "code",
   "execution_count": 13,
   "outputs": [],
   "source": [
    "target_long = pd.DataFrame(list(all_top_keys),\n",
    "                           columns=['Ticker'])\n",
    "# TODO\n",
    "target_short = pd.DataFrame(list(all_bottom_keys),\n",
    "                            columns=['Ticker'])\n"
   ],
   "metadata": {
    "collapsed": false,
    "ExecuteTime": {
     "end_time": "2023-11-21T17:19:07.847285940Z",
     "start_time": "2023-11-21T17:19:07.826105774Z"
    }
   },
   "id": "645261249ddc1609"
  },
  {
   "cell_type": "markdown",
   "source": [
    "# Getting 2-month history"
   ],
   "metadata": {
    "collapsed": false
   },
   "id": "f41faac5b97a1f9d"
  },
  {
   "cell_type": "code",
   "execution_count": 14,
   "outputs": [],
   "source": [
    "def get_history(target_df: pd.DataFrame, long=True) -> pd.DataFrame:\n",
    "    history = pd.DataFrame(columns=list(target_long['Ticker']))\n",
    "    for ticker in target_df['Ticker']:\n",
    "        # TODO think about the appropriate price column to use\n",
    "        history[ticker] = yf.Ticker(ticker).history(interval='5m')['High' if long else 'Low']\n",
    "    return history"
   ],
   "metadata": {
    "collapsed": false,
    "ExecuteTime": {
     "end_time": "2023-11-21T17:19:07.847470178Z",
     "start_time": "2023-11-21T17:19:07.826696341Z"
    }
   },
   "id": "bf9f0d57691c9fe1"
  },
  {
   "cell_type": "code",
   "execution_count": 15,
   "outputs": [
    {
     "name": "stdout",
     "output_type": "stream",
     "text": [
      "<class 'pandas.core.frame.DataFrame'>\n",
      "DatetimeIndex: 1672 entries, 2023-10-23 09:30:00-04:00 to 2023-11-21 12:15:00-05:00\n",
      "Data columns (total 21 columns):\n",
      " #   Column  Non-Null Count  Dtype  \n",
      "---  ------  --------------  -----  \n",
      " 0   NFLX    1672 non-null   float64\n",
      " 1   SHEL    1672 non-null   float64\n",
      " 2   NVO     1672 non-null   float64\n",
      " 3   PDD     1672 non-null   float64\n",
      " 4   LLY     1672 non-null   float64\n",
      " 5   GE      1672 non-null   float64\n",
      " 6   AMAT    1672 non-null   float64\n",
      " 7   AMD     1672 non-null   float64\n",
      " 8   ASML    1670 non-null   float64\n",
      " 9   NOW     1672 non-null   float64\n",
      " 10  NVDA    1672 non-null   float64\n",
      " 11  META    1672 non-null   float64\n",
      " 12  BX      1672 non-null   float64\n",
      " 13  AAPL    1672 non-null   float64\n",
      " 14  TSLA    1672 non-null   float64\n",
      " 15  ADBE    1672 non-null   float64\n",
      " 16  COP     1672 non-null   float64\n",
      " 17  ORCL    1672 non-null   float64\n",
      " 18  AVGO    1672 non-null   float64\n",
      " 19  BP      1672 non-null   float64\n",
      " 20  XOM     1672 non-null   float64\n",
      "dtypes: float64(21)\n",
      "memory usage: 287.4 KB\n"
     ]
    },
    {
     "data": {
      "text/plain": "                                 NFLX       SHEL        NVO         PDD  \\\nDatetime                                                                  \n2023-10-23 09:30:00-04:00  407.109985  67.690002  97.139999  103.190002   \n2023-10-23 09:35:00-04:00  407.509888  67.470001  96.720001  104.129898   \n2023-10-23 09:40:00-04:00  404.700012  67.300003  96.599998  103.889999   \n2023-10-23 09:45:00-04:00  406.480011  67.209999  96.800003  102.772202   \n2023-10-23 09:50:00-04:00  405.763611  67.260002  96.860001  103.000000   \n\n                                  LLY          GE        AMAT         AMD  \\\nDatetime                                                                    \n2023-10-23 09:30:00-04:00  586.059998  107.440002  133.985001  101.470001   \n2023-10-23 09:35:00-04:00  580.919983  107.989998  133.059998  100.380096   \n2023-10-23 09:40:00-04:00  580.359985  107.959999  132.839905  100.099998   \n2023-10-23 09:45:00-04:00  579.250000  107.680000  133.890594  100.294998   \n2023-10-23 09:50:00-04:00  578.989990  107.769997  134.100006  100.870003   \n\n                                 ASML         NOW  ...        META         BX  \\\nDatetime                                           ...                          \n2023-10-23 09:30:00-04:00  579.190002  540.960022  ...  310.649994  94.300003   \n2023-10-23 09:35:00-04:00  577.005005  536.000000  ...  310.200012  93.230003   \n2023-10-23 09:40:00-04:00  575.349976  532.080017  ...  309.380005  93.059998   \n2023-10-23 09:45:00-04:00  580.280029  537.859985  ...  309.970001  93.635002   \n2023-10-23 09:50:00-04:00  581.140015  538.429993  ...  310.649994  93.720001   \n\n                                 AAPL        TSLA        ADBE         COP  \\\nDatetime                                                                    \n2023-10-23 09:30:00-04:00  171.679993  210.479996  537.929993  123.160004   \n2023-10-23 09:35:00-04:00  171.054993  206.729996  534.340027  122.400002   \n2023-10-23 09:40:00-04:00  170.570007  205.250000  533.044983  122.720001   \n2023-10-23 09:45:00-04:00  171.100006  205.500000  535.726318  122.180000   \n2023-10-23 09:50:00-04:00  171.350006  206.990005  537.789978  122.459999   \n\n                                 ORCL        AVGO         BP         XOM  \nDatetime                                                                  \n2023-10-23 09:30:00-04:00  102.919998  858.765198  39.200001  110.959999  \n2023-10-23 09:35:00-04:00  103.019997  847.530029  39.009998  110.769997  \n2023-10-23 09:40:00-04:00  102.910004  845.780029  38.880501  110.669998  \n2023-10-23 09:45:00-04:00  102.919998  851.630005  38.750000  109.875000  \n2023-10-23 09:50:00-04:00  102.699997  852.200012  38.790001  110.269997  \n\n[5 rows x 21 columns]",
      "text/html": "<div>\n<style scoped>\n    .dataframe tbody tr th:only-of-type {\n        vertical-align: middle;\n    }\n\n    .dataframe tbody tr th {\n        vertical-align: top;\n    }\n\n    .dataframe thead th {\n        text-align: right;\n    }\n</style>\n<table border=\"1\" class=\"dataframe\">\n  <thead>\n    <tr style=\"text-align: right;\">\n      <th></th>\n      <th>NFLX</th>\n      <th>SHEL</th>\n      <th>NVO</th>\n      <th>PDD</th>\n      <th>LLY</th>\n      <th>GE</th>\n      <th>AMAT</th>\n      <th>AMD</th>\n      <th>ASML</th>\n      <th>NOW</th>\n      <th>...</th>\n      <th>META</th>\n      <th>BX</th>\n      <th>AAPL</th>\n      <th>TSLA</th>\n      <th>ADBE</th>\n      <th>COP</th>\n      <th>ORCL</th>\n      <th>AVGO</th>\n      <th>BP</th>\n      <th>XOM</th>\n    </tr>\n    <tr>\n      <th>Datetime</th>\n      <th></th>\n      <th></th>\n      <th></th>\n      <th></th>\n      <th></th>\n      <th></th>\n      <th></th>\n      <th></th>\n      <th></th>\n      <th></th>\n      <th></th>\n      <th></th>\n      <th></th>\n      <th></th>\n      <th></th>\n      <th></th>\n      <th></th>\n      <th></th>\n      <th></th>\n      <th></th>\n      <th></th>\n    </tr>\n  </thead>\n  <tbody>\n    <tr>\n      <th>2023-10-23 09:30:00-04:00</th>\n      <td>407.109985</td>\n      <td>67.690002</td>\n      <td>97.139999</td>\n      <td>103.190002</td>\n      <td>586.059998</td>\n      <td>107.440002</td>\n      <td>133.985001</td>\n      <td>101.470001</td>\n      <td>579.190002</td>\n      <td>540.960022</td>\n      <td>...</td>\n      <td>310.649994</td>\n      <td>94.300003</td>\n      <td>171.679993</td>\n      <td>210.479996</td>\n      <td>537.929993</td>\n      <td>123.160004</td>\n      <td>102.919998</td>\n      <td>858.765198</td>\n      <td>39.200001</td>\n      <td>110.959999</td>\n    </tr>\n    <tr>\n      <th>2023-10-23 09:35:00-04:00</th>\n      <td>407.509888</td>\n      <td>67.470001</td>\n      <td>96.720001</td>\n      <td>104.129898</td>\n      <td>580.919983</td>\n      <td>107.989998</td>\n      <td>133.059998</td>\n      <td>100.380096</td>\n      <td>577.005005</td>\n      <td>536.000000</td>\n      <td>...</td>\n      <td>310.200012</td>\n      <td>93.230003</td>\n      <td>171.054993</td>\n      <td>206.729996</td>\n      <td>534.340027</td>\n      <td>122.400002</td>\n      <td>103.019997</td>\n      <td>847.530029</td>\n      <td>39.009998</td>\n      <td>110.769997</td>\n    </tr>\n    <tr>\n      <th>2023-10-23 09:40:00-04:00</th>\n      <td>404.700012</td>\n      <td>67.300003</td>\n      <td>96.599998</td>\n      <td>103.889999</td>\n      <td>580.359985</td>\n      <td>107.959999</td>\n      <td>132.839905</td>\n      <td>100.099998</td>\n      <td>575.349976</td>\n      <td>532.080017</td>\n      <td>...</td>\n      <td>309.380005</td>\n      <td>93.059998</td>\n      <td>170.570007</td>\n      <td>205.250000</td>\n      <td>533.044983</td>\n      <td>122.720001</td>\n      <td>102.910004</td>\n      <td>845.780029</td>\n      <td>38.880501</td>\n      <td>110.669998</td>\n    </tr>\n    <tr>\n      <th>2023-10-23 09:45:00-04:00</th>\n      <td>406.480011</td>\n      <td>67.209999</td>\n      <td>96.800003</td>\n      <td>102.772202</td>\n      <td>579.250000</td>\n      <td>107.680000</td>\n      <td>133.890594</td>\n      <td>100.294998</td>\n      <td>580.280029</td>\n      <td>537.859985</td>\n      <td>...</td>\n      <td>309.970001</td>\n      <td>93.635002</td>\n      <td>171.100006</td>\n      <td>205.500000</td>\n      <td>535.726318</td>\n      <td>122.180000</td>\n      <td>102.919998</td>\n      <td>851.630005</td>\n      <td>38.750000</td>\n      <td>109.875000</td>\n    </tr>\n    <tr>\n      <th>2023-10-23 09:50:00-04:00</th>\n      <td>405.763611</td>\n      <td>67.260002</td>\n      <td>96.860001</td>\n      <td>103.000000</td>\n      <td>578.989990</td>\n      <td>107.769997</td>\n      <td>134.100006</td>\n      <td>100.870003</td>\n      <td>581.140015</td>\n      <td>538.429993</td>\n      <td>...</td>\n      <td>310.649994</td>\n      <td>93.720001</td>\n      <td>171.350006</td>\n      <td>206.990005</td>\n      <td>537.789978</td>\n      <td>122.459999</td>\n      <td>102.699997</td>\n      <td>852.200012</td>\n      <td>38.790001</td>\n      <td>110.269997</td>\n    </tr>\n  </tbody>\n</table>\n<p>5 rows × 21 columns</p>\n</div>"
     },
     "execution_count": 15,
     "metadata": {},
     "output_type": "execute_result"
    }
   ],
   "source": [
    "history_long = get_history(target_long)\n",
    "history_long.info()\n",
    "history_long.head()"
   ],
   "metadata": {
    "collapsed": false,
    "ExecuteTime": {
     "end_time": "2023-11-21T17:19:13.488827650Z",
     "start_time": "2023-11-21T17:19:07.826974933Z"
    }
   },
   "id": "ebe361f9212621bc"
  },
  {
   "cell_type": "code",
   "execution_count": 16,
   "outputs": [
    {
     "name": "stdout",
     "output_type": "stream",
     "text": [
      "<class 'pandas.core.frame.DataFrame'>\n",
      "DatetimeIndex: 1672 entries, 2023-10-23 09:30:00-04:00 to 2023-11-21 12:15:00-05:00\n",
      "Data columns (total 22 columns):\n",
      " #   Column  Non-Null Count  Dtype  \n",
      "---  ------  --------------  -----  \n",
      " 0   PDD     1672 non-null   float64\n",
      " 1   PFE     1672 non-null   float64\n",
      " 2   WFC     1672 non-null   float64\n",
      " 3   RTX     1672 non-null   float64\n",
      " 4   BAC     1672 non-null   float64\n",
      " 5   HDB     1672 non-null   float64\n",
      " 6   UPS     1672 non-null   float64\n",
      " 7   INTC    1672 non-null   float64\n",
      " 8   DIS     1672 non-null   float64\n",
      " 9   HON     1672 non-null   float64\n",
      " 10  BMY     1672 non-null   float64\n",
      " 11  JNJ     1672 non-null   float64\n",
      " 12  T       1672 non-null   float64\n",
      " 13  CVX     1672 non-null   float64\n",
      " 14  VZ      1672 non-null   float64\n",
      " 15  NEE     1672 non-null   float64\n",
      " 16  BA      1672 non-null   float64\n",
      " 17  CRM     1672 non-null   float64\n",
      " 18  BUD     1672 non-null   float64\n",
      " 19  BABA    1672 non-null   float64\n",
      " 20  NKE     1672 non-null   float64\n",
      " 21  UL      1672 non-null   float64\n",
      "dtypes: float64(22)\n",
      "memory usage: 300.4 KB\n"
     ]
    },
    {
     "data": {
      "text/plain": "                                  PDD        PFE        WFC        RTX  \\\nDatetime                                                                 \n2023-10-23 09:30:00-04:00  103.190002  30.870001  40.365002  72.860001   \n2023-10-23 09:35:00-04:00  104.129898  31.115000  40.380001  72.860001   \n2023-10-23 09:40:00-04:00  103.889999  31.160000  40.139999  72.912003   \n2023-10-23 09:45:00-04:00  102.772202  31.389999  40.165001  72.970001   \n2023-10-23 09:50:00-04:00  103.000000  31.260000  40.189999  73.190002   \n\n                                 BAC        HDB         UPS       INTC  \\\nDatetime                                                                 \n2023-10-23 09:30:00-04:00  26.150000  57.122101  151.460007  34.764999   \n2023-10-23 09:35:00-04:00  26.150000  56.970001  150.830002  34.750000   \n2023-10-23 09:40:00-04:00  26.040001  56.849998  150.889999  34.495899   \n2023-10-23 09:45:00-04:00  26.000000  56.970001  151.240005  34.630001   \n2023-10-23 09:50:00-04:00  26.010000  57.046101  151.580002  34.689999   \n\n                                 DIS         HON  ...        T         CVX  \\\nDatetime                                          ...                        \n2023-10-23 09:30:00-04:00  82.320000  181.869904  ...  15.3800  164.429993   \n2023-10-23 09:35:00-04:00  81.809998  181.800003  ...  15.2900  162.539993   \n2023-10-23 09:40:00-04:00  81.510002  181.639999  ...  15.3100  162.970001   \n2023-10-23 09:45:00-04:00  81.510002  182.169998  ...  15.3300  162.860001   \n2023-10-23 09:50:00-04:00  81.799698  182.479996  ...  15.3199  163.029999   \n\n                                  VZ        NEE          BA         CRM  \\\nDatetime                                                                  \n2023-10-23 09:30:00-04:00  31.490000  51.560001  180.119995  200.446594   \n2023-10-23 09:35:00-04:00  31.450001  51.540001  180.500000  199.580002   \n2023-10-23 09:40:00-04:00  31.440001  51.480000  179.509995  198.990005   \n2023-10-23 09:45:00-04:00  31.485001  51.560001  180.080002  199.800003   \n2023-10-23 09:50:00-04:00  31.549999  51.660000  180.389999  200.550003   \n\n                                 BUD       BABA         NKE         UL  \nDatetime                                                                \n2023-10-23 09:30:00-04:00  52.660000  80.050003  102.349998  48.430000  \n2023-10-23 09:35:00-04:00  52.549999  80.004997  102.309998  48.419998  \n2023-10-23 09:40:00-04:00  52.528801  79.760002  102.070000  48.391499  \n2023-10-23 09:45:00-04:00  52.619999  79.730003  102.525002  48.450001  \n2023-10-23 09:50:00-04:00  52.735001  79.769997  102.599998  48.430000  \n\n[5 rows x 22 columns]",
      "text/html": "<div>\n<style scoped>\n    .dataframe tbody tr th:only-of-type {\n        vertical-align: middle;\n    }\n\n    .dataframe tbody tr th {\n        vertical-align: top;\n    }\n\n    .dataframe thead th {\n        text-align: right;\n    }\n</style>\n<table border=\"1\" class=\"dataframe\">\n  <thead>\n    <tr style=\"text-align: right;\">\n      <th></th>\n      <th>PDD</th>\n      <th>PFE</th>\n      <th>WFC</th>\n      <th>RTX</th>\n      <th>BAC</th>\n      <th>HDB</th>\n      <th>UPS</th>\n      <th>INTC</th>\n      <th>DIS</th>\n      <th>HON</th>\n      <th>...</th>\n      <th>T</th>\n      <th>CVX</th>\n      <th>VZ</th>\n      <th>NEE</th>\n      <th>BA</th>\n      <th>CRM</th>\n      <th>BUD</th>\n      <th>BABA</th>\n      <th>NKE</th>\n      <th>UL</th>\n    </tr>\n    <tr>\n      <th>Datetime</th>\n      <th></th>\n      <th></th>\n      <th></th>\n      <th></th>\n      <th></th>\n      <th></th>\n      <th></th>\n      <th></th>\n      <th></th>\n      <th></th>\n      <th></th>\n      <th></th>\n      <th></th>\n      <th></th>\n      <th></th>\n      <th></th>\n      <th></th>\n      <th></th>\n      <th></th>\n      <th></th>\n      <th></th>\n    </tr>\n  </thead>\n  <tbody>\n    <tr>\n      <th>2023-10-23 09:30:00-04:00</th>\n      <td>103.190002</td>\n      <td>30.870001</td>\n      <td>40.365002</td>\n      <td>72.860001</td>\n      <td>26.150000</td>\n      <td>57.122101</td>\n      <td>151.460007</td>\n      <td>34.764999</td>\n      <td>82.320000</td>\n      <td>181.869904</td>\n      <td>...</td>\n      <td>15.3800</td>\n      <td>164.429993</td>\n      <td>31.490000</td>\n      <td>51.560001</td>\n      <td>180.119995</td>\n      <td>200.446594</td>\n      <td>52.660000</td>\n      <td>80.050003</td>\n      <td>102.349998</td>\n      <td>48.430000</td>\n    </tr>\n    <tr>\n      <th>2023-10-23 09:35:00-04:00</th>\n      <td>104.129898</td>\n      <td>31.115000</td>\n      <td>40.380001</td>\n      <td>72.860001</td>\n      <td>26.150000</td>\n      <td>56.970001</td>\n      <td>150.830002</td>\n      <td>34.750000</td>\n      <td>81.809998</td>\n      <td>181.800003</td>\n      <td>...</td>\n      <td>15.2900</td>\n      <td>162.539993</td>\n      <td>31.450001</td>\n      <td>51.540001</td>\n      <td>180.500000</td>\n      <td>199.580002</td>\n      <td>52.549999</td>\n      <td>80.004997</td>\n      <td>102.309998</td>\n      <td>48.419998</td>\n    </tr>\n    <tr>\n      <th>2023-10-23 09:40:00-04:00</th>\n      <td>103.889999</td>\n      <td>31.160000</td>\n      <td>40.139999</td>\n      <td>72.912003</td>\n      <td>26.040001</td>\n      <td>56.849998</td>\n      <td>150.889999</td>\n      <td>34.495899</td>\n      <td>81.510002</td>\n      <td>181.639999</td>\n      <td>...</td>\n      <td>15.3100</td>\n      <td>162.970001</td>\n      <td>31.440001</td>\n      <td>51.480000</td>\n      <td>179.509995</td>\n      <td>198.990005</td>\n      <td>52.528801</td>\n      <td>79.760002</td>\n      <td>102.070000</td>\n      <td>48.391499</td>\n    </tr>\n    <tr>\n      <th>2023-10-23 09:45:00-04:00</th>\n      <td>102.772202</td>\n      <td>31.389999</td>\n      <td>40.165001</td>\n      <td>72.970001</td>\n      <td>26.000000</td>\n      <td>56.970001</td>\n      <td>151.240005</td>\n      <td>34.630001</td>\n      <td>81.510002</td>\n      <td>182.169998</td>\n      <td>...</td>\n      <td>15.3300</td>\n      <td>162.860001</td>\n      <td>31.485001</td>\n      <td>51.560001</td>\n      <td>180.080002</td>\n      <td>199.800003</td>\n      <td>52.619999</td>\n      <td>79.730003</td>\n      <td>102.525002</td>\n      <td>48.450001</td>\n    </tr>\n    <tr>\n      <th>2023-10-23 09:50:00-04:00</th>\n      <td>103.000000</td>\n      <td>31.260000</td>\n      <td>40.189999</td>\n      <td>73.190002</td>\n      <td>26.010000</td>\n      <td>57.046101</td>\n      <td>151.580002</td>\n      <td>34.689999</td>\n      <td>81.799698</td>\n      <td>182.479996</td>\n      <td>...</td>\n      <td>15.3199</td>\n      <td>163.029999</td>\n      <td>31.549999</td>\n      <td>51.660000</td>\n      <td>180.389999</td>\n      <td>200.550003</td>\n      <td>52.735001</td>\n      <td>79.769997</td>\n      <td>102.599998</td>\n      <td>48.430000</td>\n    </tr>\n  </tbody>\n</table>\n<p>5 rows × 22 columns</p>\n</div>"
     },
     "execution_count": 16,
     "metadata": {},
     "output_type": "execute_result"
    }
   ],
   "source": [
    "history_short = get_history(target_short)\n",
    "history_short.dropna(axis=1, inplace=True)\n",
    "history_short.info()\n",
    "history_short.head()"
   ],
   "metadata": {
    "collapsed": false,
    "ExecuteTime": {
     "end_time": "2023-11-21T17:19:19.373105083Z",
     "start_time": "2023-11-21T17:19:13.487954580Z"
    }
   },
   "id": "895dfe01038ba9d9"
  },
  {
   "cell_type": "markdown",
   "source": [
    "# Getting 2-month compound returns"
   ],
   "metadata": {
    "collapsed": false
   },
   "id": "3333c61d2a44fd09"
  },
  {
   "cell_type": "code",
   "execution_count": 17,
   "outputs": [],
   "source": [
    "def get_returns(history_df: pd.DataFrame) -> np.ndarray:\n",
    "    n = len(history_df.columns)\n",
    "    returns = np.zeros(n, dtype=float)\n",
    "    for i in range(n):\n",
    "        # TODO think about the appropriate return calculation\n",
    "        helper = history_df.iloc[:, i] / history_df.iloc[:, i].shift(1)\n",
    "        helper = helper.iloc[1:]\n",
    "        returns[i] = np.prod(helper) - 1\n",
    "    return returns"
   ],
   "metadata": {
    "collapsed": false,
    "ExecuteTime": {
     "end_time": "2023-11-21T17:19:19.373715135Z",
     "start_time": "2023-11-21T17:19:19.344833975Z"
    }
   },
   "id": "bf677dcc6b4a37e1"
  },
  {
   "cell_type": "code",
   "execution_count": 18,
   "outputs": [
    {
     "name": "stdout",
     "output_type": "stream",
     "text": [
      "Top companies' returns: [ 0.17123112 -0.01817112  0.06423716  0.13635042  0.01614173  0.11476167\n",
      "  0.11236327  0.1694097   0.1802308   0.23107068  0.19627769  0.08911094\n",
      "  0.12311771  0.10813725  0.1502281   0.1341067  -0.06536215  0.13408476\n",
      "  0.14899855 -0.08890308 -0.05776853]\n"
     ]
    }
   ],
   "source": [
    "returns_long = get_returns(history_long)\n",
    "print(f'Top companies\\' returns: {returns_long}')"
   ],
   "metadata": {
    "collapsed": false,
    "ExecuteTime": {
     "end_time": "2023-11-21T17:19:19.374471014Z",
     "start_time": "2023-11-21T17:19:19.345429501Z"
    }
   },
   "id": "d4e5baa53a398b43"
  },
  {
   "cell_type": "code",
   "execution_count": 19,
   "outputs": [
    {
     "name": "stdout",
     "output_type": "stream",
     "text": [
      "Bottom companies' returns: [ 0.1365442  -0.02380954  0.05586516  0.07891847  0.13804974  0.03488844\n",
      " -0.01135614  0.25542935  0.14753397  0.05146587 -0.13468011 -0.01465291\n",
      "  0.05201562 -0.1241257   0.18005716  0.1216059   0.21141463  0.12359106\n",
      "  0.17699015 -0.01255471  0.03556423 -0.01858355]\n"
     ]
    }
   ],
   "source": [
    "returns_short = get_returns(history_short)\n",
    "print(f'Bottom companies\\' returns: {returns_short}')"
   ],
   "metadata": {
    "collapsed": false,
    "ExecuteTime": {
     "end_time": "2023-11-21T17:19:19.375265375Z",
     "start_time": "2023-11-21T17:19:19.346065883Z"
    }
   },
   "id": "1ba270930aaaaf57"
  },
  {
   "cell_type": "markdown",
   "source": [
    "# Getting weights"
   ],
   "metadata": {
    "collapsed": false
   },
   "id": "73f9364e7b0c0239"
  },
  {
   "cell_type": "code",
   "execution_count": 20,
   "outputs": [],
   "source": [
    "def sharpe_long(weights):\n",
    "    return -np.dot(returns_long, weights) / np.sqrt(weights @ history_long.cov().to_numpy() @ weights)\n",
    "\n",
    "\n",
    "def sharpe_short(weights):\n",
    "    return -np.dot(returns_short, weights) / np.sqrt(weights @ history_short.cov().to_numpy() @ weights)"
   ],
   "metadata": {
    "collapsed": false,
    "ExecuteTime": {
     "end_time": "2023-11-21T17:19:19.375665768Z",
     "start_time": "2023-11-21T17:19:19.347081916Z"
    }
   },
   "id": "421f9e74574a08a3"
  },
  {
   "cell_type": "code",
   "execution_count": 49,
   "outputs": [
    {
     "data": {
      "text/plain": "\"''\\ndef get_weights(history_df: pd.DataFrame, long=True) -> np.ndarray:\\n    n = len(history_df.columns)\\n    weights = np.ones(n)\\n\\n    bounds = [(0.0, None)] * n if long else [(None, 0.0)] * n\\n    constraints = ({'type': 'eq', 'fun': lambda weights: weights.sum() - 1.0})\\n    optimal_weights = minimize(sharpe_long if long else sharpe_short,\\n                               weights, \\n                               method='SLSQP',\\n                               constraints=constraints,\\n                               bounds=bounds\\n                               ).x\\n\\n    return optimal_weights\\n    \""
     },
     "execution_count": 49,
     "metadata": {},
     "output_type": "execute_result"
    }
   ],
   "source": [
    "'''''\n",
    "def get_weights(history_df: pd.DataFrame, long=True) -> np.ndarray:\n",
    "    n = len(history_df.columns)\n",
    "    weights = np.ones(n)\n",
    "\n",
    "    bounds = [(0.0, None)] * n if long else [(None, 0.0)] * n\n",
    "    constraints = ({'type': 'eq', 'fun': lambda weights: weights.sum() - 1.0})\n",
    "    optimal_weights = minimize(sharpe_long if long else sharpe_short,\n",
    "                               weights, \n",
    "                               method='SLSQP',\n",
    "                               constraints=constraints,\n",
    "                               bounds=bounds\n",
    "                               ).x\n",
    "\n",
    "    return optimal_weights\n",
    "    '''''"
   ],
   "metadata": {
    "collapsed": false,
    "ExecuteTime": {
     "end_time": "2023-11-17T20:02:18.589821013Z",
     "start_time": "2023-11-17T20:02:18.572959551Z"
    }
   },
   "id": "6d68570a4c2fb093"
  },
  {
   "cell_type": "code",
   "execution_count": 34,
   "outputs": [],
   "source": [
    "def get_weights(history_df: pd.DataFrame, long=True) -> dict:\n",
    "    n = len(history_df.columns)\n",
    "    weights = np.ones(n) if long else np.full(n, -1)\n",
    "\n",
    "    bounds = [(0.0, 0.10)] * n if long else [(None, 0.0)] * n\n",
    "    constraints = ({'type': 'eq', 'fun': lambda w: np.sum(w) - 1.0}) if long else \\\n",
    "        ({'type': 'eq', 'fun': lambda w: np.sum(w) + 1.0})\n",
    "    optimal_weights = minimize(sharpe_long if long else sharpe_short,\n",
    "                               weights,\n",
    "                               method='SLSQP',\n",
    "                               constraints=constraints,\n",
    "                               bounds=bounds\n",
    "                               ).x\n",
    "\n",
    "    # Create a dictionary with column names as keys and weights as values\n",
    "    weights_dict = dict(zip(history_df.columns, optimal_weights))\n",
    "    return weights_dict"
   ],
   "metadata": {
    "collapsed": false,
    "ExecuteTime": {
     "end_time": "2023-11-21T17:28:10.073690219Z",
     "start_time": "2023-11-21T17:28:10.015875605Z"
    }
   },
   "id": "76fa2820f101481"
  },
  {
   "cell_type": "code",
   "execution_count": 35,
   "outputs": [
    {
     "name": "stdout",
     "output_type": "stream",
     "text": [
      "   Stock  Weight\n",
      "0   NFLX   0.00%\n",
      "1   SHEL  10.00%\n",
      "2    NVO  10.00%\n",
      "3    PDD  10.00%\n",
      "4    LLY   0.00%\n",
      "5     GE  10.00%\n",
      "6   AMAT   4.52%\n",
      "7    AMD  10.00%\n",
      "8   ASML   0.00%\n",
      "9    NOW   0.00%\n",
      "10  NVDA   0.00%\n",
      "11  META   0.00%\n",
      "12    BX  10.00%\n",
      "13  AAPL   5.48%\n",
      "14  TSLA   0.00%\n",
      "15  ADBE   0.00%\n",
      "16   COP  10.00%\n",
      "17  ORCL  10.00%\n",
      "18  AVGO   0.00%\n",
      "19    BP   0.00%\n",
      "20   XOM  10.00%\n"
     ]
    }
   ],
   "source": [
    "weights_long = get_weights(history_long, True)\n",
    "weights_long_vw = pd.DataFrame(list(weights_long.items()), columns=['Stock', 'Weight'])\n",
    "\n",
    "weights_long_vw['Weight'] = weights_long_vw['Weight'].apply(lambda x: f\"{x * 100:.2f}%\")\n",
    "\n",
    "#print(f'Optimal weights for top companies: {weights_long}')\n",
    "\n",
    "#print(f'Optimal Sharpe ratio: {-sharpe_long(weights_long)}')\n",
    "\n",
    "#history_long.columns\n",
    "\n",
    "print(weights_long_vw)\n",
    "\n"
   ],
   "metadata": {
    "collapsed": false,
    "ExecuteTime": {
     "end_time": "2023-11-21T17:28:10.908993479Z",
     "start_time": "2023-11-21T17:28:10.388739199Z"
    }
   },
   "id": "95f2f53caff9deff"
  },
  {
   "cell_type": "code",
   "execution_count": 35,
   "outputs": [],
   "source": [],
   "metadata": {
    "collapsed": false,
    "ExecuteTime": {
     "end_time": "2023-11-21T17:28:10.964068725Z",
     "start_time": "2023-11-21T17:28:10.904234384Z"
    }
   },
   "id": "56c1d566d5006e73"
  },
  {
   "cell_type": "code",
   "execution_count": 36,
   "outputs": [
    {
     "name": "stdout",
     "output_type": "stream",
     "text": [
      "   Stock   Weight\n",
      "0    PDD    0.00%\n",
      "1    PFE  -15.15%\n",
      "2    WFC   -0.00%\n",
      "3    RTX    0.00%\n",
      "4    BAC    0.00%\n",
      "5    HDB   -0.00%\n",
      "6    UPS    0.00%\n",
      "7   INTC    0.00%\n",
      "8    DIS   -0.00%\n",
      "9    HON    0.00%\n",
      "10   BMY  -76.63%\n",
      "11   JNJ    0.00%\n",
      "12     T    0.00%\n",
      "13   CVX    0.00%\n",
      "14    VZ    0.00%\n",
      "15   NEE    0.00%\n",
      "16    BA   -6.44%\n",
      "17   CRM   -0.73%\n",
      "18   BUD   -0.00%\n",
      "19  BABA   -1.05%\n",
      "20   NKE    0.00%\n",
      "21    UL   -0.00%\n"
     ]
    }
   ],
   "source": [
    "weights_short = get_weights(history_short, False)\n",
    "weights_short_vw = pd.DataFrame(list(weights_short.items()), columns=['Stock', 'Weight'])\n",
    "weights_short_vw['Weight'] = weights_short_vw['Weight'].apply(lambda x: f\"{x * 100:.2f}%\")\n",
    "\n",
    "#print(f'Optimal weights for top companies: {weights_long}')\n",
    "\n",
    "#print(f'Optimal Sharpe ratio: {-sharpe_long(weights_long)}')\n",
    "\n",
    "#history_long.columns\n",
    "\n",
    "print(weights_short_vw)\n",
    "\n",
    "# print(f'Optimal weights for bottom companies: {weights_short}')\n",
    "# print(f'Optimal Sharpe ratio: {-sharpe_short(np.array(list(weights_short.values())))}')"
   ],
   "metadata": {
    "collapsed": false,
    "ExecuteTime": {
     "end_time": "2023-11-21T17:28:11.481036577Z",
     "start_time": "2023-11-21T17:28:11.237076233Z"
    }
   },
   "id": "b0178ec648e76f70"
  },
  {
   "cell_type": "code",
   "execution_count": null,
   "outputs": [],
   "source": [],
   "metadata": {
    "collapsed": false,
    "ExecuteTime": {
     "start_time": "2023-11-14T05:04:29.053401700Z"
    }
   },
   "id": "3087d77f3c7eaed2"
  }
 ],
 "metadata": {
  "kernelspec": {
   "display_name": "Python 3",
   "language": "python",
   "name": "python3"
  },
  "language_info": {
   "codemirror_mode": {
    "name": "ipython",
    "version": 2
   },
   "file_extension": ".py",
   "mimetype": "text/x-python",
   "name": "python",
   "nbconvert_exporter": "python",
   "pygments_lexer": "ipython2",
   "version": "2.7.6"
  }
 },
 "nbformat": 4,
 "nbformat_minor": 5
}
