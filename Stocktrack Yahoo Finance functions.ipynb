{
 "cells": [
  {
   "cell_type": "code",
   "execution_count": 18,
   "id": "initial_id",
   "metadata": {
    "collapsed": true,
    "ExecuteTime": {
     "end_time": "2023-11-14T04:51:51.756623500Z",
     "start_time": "2023-11-14T04:51:51.703916200Z"
    }
   },
   "outputs": [
    {
     "name": "stdout",
     "output_type": "stream",
     "text": [
      "C:\\Users\\mitch\\Documents\\QCF\\Finance and Investments\\StockTrack-Trading-Simulation\n"
     ]
    }
   ],
   "source": [
    "import yfinance as yf\n",
    "import pandas as pd\n",
    "import openpyxl\n",
    "import seaborn as sns\n",
    "import matplotlib.pyplot as plt\n",
    "import numpy as np\n",
    "from scipy import optimize\n",
    "\n",
    "import os\n",
    "cwd = os.getcwd()\n",
    "print(cwd)\n",
    "os.chdir(r'C:\\Users\\mitch\\Documents\\QCF\\Finance and Investments\\StockTrack-Trading-Simulation')"
   ]
  },
  {
   "cell_type": "markdown",
   "id": "64761649",
   "metadata": {},
   "source": [
    "# Reusable functions"
   ]
  },
  {
   "cell_type": "code",
   "execution_count": 19,
   "id": "a6b19be9",
   "metadata": {
    "ExecuteTime": {
     "end_time": "2023-11-14T04:51:51.779088300Z",
     "start_time": "2023-11-14T04:51:51.720208600Z"
    }
   },
   "outputs": [],
   "source": [
    "def calculate_return(df):\n",
    "    if df.empty:\n",
    "        return None\n",
    "    # Get the closing price at the start of the year\n",
    "    start_price = df['Close'].iloc[0]\n",
    "    \n",
    "    # Get the closing price at the end of the year\n",
    "    end_price = df['Close'].iloc[-1]\n",
    "    \n",
    "    # Calculate the one-year return\n",
    "    return (end_price - start_price) / start_price\n",
    "\n",
    "def MaximizeSharpeRatioOptmzn(MeanReturns, CovarReturns, RiskFreeRate, PortfolioSize):\n",
    "     # define maximization of Sharpe Ratio using principle of duality\n",
    "    def  f(x, MeanReturns, CovarReturns, RiskFreeRate, PortfolioSize):\n",
    "        funcDenomr = np.sqrt(np.matmul(np.matmul(x, CovarReturns), x.T) )\n",
    "        funcNumer = np.matmul(np.array(MeanReturns),x.T)-RiskFreeRate\n",
    "        func = -(funcNumer / funcDenomr)\n",
    "        return func\n",
    "\n",
    "    #define equality constraint representing fully invested portfolio\n",
    "    def constraintEq(x):\n",
    "        A=np.ones(x.shape)\n",
    "        b=1\n",
    "        constraintVal = np.matmul(A,x.T)-b \n",
    "        return constraintVal\n",
    "    \n",
    "    #define bounds and other parameters\n",
    "    xinit=np.repeat(0.33, PortfolioSize)\n",
    "    cons = ({'type': 'eq', 'fun':constraintEq})\n",
    "    lb = 0\n",
    "    ub = 1\n",
    "    bnds = tuple([(lb,ub) for x in xinit])\n",
    "    \n",
    "    #invoke minimize solver\n",
    "    opt = optimize.minimize (f, x0 = xinit, args = (MeanReturns, CovarReturns,\\\n",
    "                             RiskFreeRate, PortfolioSize), method = 'SLSQP',  \\\n",
    "                             bounds = bnds, constraints = cons, tol = 10**-3)\n",
    "    \n",
    "    return opt\n",
    "    "
   ]
  },
  {
   "cell_type": "code",
   "execution_count": 20,
   "id": "4496e9c6",
   "metadata": {
    "ExecuteTime": {
     "end_time": "2023-11-14T04:51:51.868784900Z",
     "start_time": "2023-11-14T04:51:51.726861400Z"
    }
   },
   "outputs": [
    {
     "data": {
      "text/plain": "    Symbol                     Company Name                        Industry  \\\n0     AAPL                       Apple Inc.            Consumer Electronics   \n1     MSFT            Microsoft Corporation       Software - Infrastructure   \n2    GOOGL                    Alphabet Inc.  Internet Content & Information   \n3     GOOG                    Alphabet Inc.  Internet Content & Information   \n4     AMZN                 Amazon.com, Inc.                 Internet Retail   \n..     ...                              ...                             ...   \n495   RBLX               Roblox Corporation  Electronic Gaming & Multimedia   \n496    WBA   Walgreens Boots Alliance, Inc.        Pharmaceutical Retailers   \n497     TW            Tradeweb Markets Inc.                 Capital Markets   \n498     ZM  Zoom Video Communications, Inc.          Software - Application   \n499   ULTA                Ulta Beauty, Inc.                Specialty Retail   \n\n    Market Cap  \n0    2,811.03B  \n1    2,469.80B  \n2    1,779.01B  \n3    1,778.79B  \n4    1,360.20B  \n..         ...  \n495     19.59B  \n496     19.51B  \n497     19.51B  \n498     19.51B  \n499     19.49B  \n\n[500 rows x 4 columns]",
      "text/html": "<div>\n<style scoped>\n    .dataframe tbody tr th:only-of-type {\n        vertical-align: middle;\n    }\n\n    .dataframe tbody tr th {\n        vertical-align: top;\n    }\n\n    .dataframe thead th {\n        text-align: right;\n    }\n</style>\n<table border=\"1\" class=\"dataframe\">\n  <thead>\n    <tr style=\"text-align: right;\">\n      <th></th>\n      <th>Symbol</th>\n      <th>Company Name</th>\n      <th>Industry</th>\n      <th>Market Cap</th>\n    </tr>\n  </thead>\n  <tbody>\n    <tr>\n      <th>0</th>\n      <td>AAPL</td>\n      <td>Apple Inc.</td>\n      <td>Consumer Electronics</td>\n      <td>2,811.03B</td>\n    </tr>\n    <tr>\n      <th>1</th>\n      <td>MSFT</td>\n      <td>Microsoft Corporation</td>\n      <td>Software - Infrastructure</td>\n      <td>2,469.80B</td>\n    </tr>\n    <tr>\n      <th>2</th>\n      <td>GOOGL</td>\n      <td>Alphabet Inc.</td>\n      <td>Internet Content &amp; Information</td>\n      <td>1,779.01B</td>\n    </tr>\n    <tr>\n      <th>3</th>\n      <td>GOOG</td>\n      <td>Alphabet Inc.</td>\n      <td>Internet Content &amp; Information</td>\n      <td>1,778.79B</td>\n    </tr>\n    <tr>\n      <th>4</th>\n      <td>AMZN</td>\n      <td>Amazon.com, Inc.</td>\n      <td>Internet Retail</td>\n      <td>1,360.20B</td>\n    </tr>\n    <tr>\n      <th>...</th>\n      <td>...</td>\n      <td>...</td>\n      <td>...</td>\n      <td>...</td>\n    </tr>\n    <tr>\n      <th>495</th>\n      <td>RBLX</td>\n      <td>Roblox Corporation</td>\n      <td>Electronic Gaming &amp; Multimedia</td>\n      <td>19.59B</td>\n    </tr>\n    <tr>\n      <th>496</th>\n      <td>WBA</td>\n      <td>Walgreens Boots Alliance, Inc.</td>\n      <td>Pharmaceutical Retailers</td>\n      <td>19.51B</td>\n    </tr>\n    <tr>\n      <th>497</th>\n      <td>TW</td>\n      <td>Tradeweb Markets Inc.</td>\n      <td>Capital Markets</td>\n      <td>19.51B</td>\n    </tr>\n    <tr>\n      <th>498</th>\n      <td>ZM</td>\n      <td>Zoom Video Communications, Inc.</td>\n      <td>Software - Application</td>\n      <td>19.51B</td>\n    </tr>\n    <tr>\n      <th>499</th>\n      <td>ULTA</td>\n      <td>Ulta Beauty, Inc.</td>\n      <td>Specialty Retail</td>\n      <td>19.49B</td>\n    </tr>\n  </tbody>\n</table>\n<p>500 rows × 4 columns</p>\n</div>"
     },
     "execution_count": 20,
     "metadata": {},
     "output_type": "execute_result"
    }
   ],
   "source": [
    "largest_market_cap = pd.read_excel('./Top Companies by Market Cap.xlsx', sheet_name='Sheet1')\n",
    "largest_market_cap"
   ]
  },
  {
   "cell_type": "code",
   "execution_count": 21,
   "id": "01fd7d4c",
   "metadata": {
    "ExecuteTime": {
     "end_time": "2023-11-14T04:51:51.870785100Z",
     "start_time": "2023-11-14T04:51:51.836404900Z"
    }
   },
   "outputs": [],
   "source": [
    "largest_market_cap = largest_market_cap[~largest_market_cap['Symbol'].str.contains('\\.')].reset_index(drop=True)\n",
    "top_300 = largest_market_cap.head(100)\n",
    "top_300_symbols = top_300['Symbol']"
   ]
  },
  {
   "cell_type": "code",
   "execution_count": 22,
   "id": "6597a0ac",
   "metadata": {
    "ExecuteTime": {
     "end_time": "2023-11-14T04:51:51.872660100Z",
     "start_time": "2023-11-14T04:51:51.843383Z"
    }
   },
   "outputs": [],
   "source": [
    "# ticker = yf.Ticker('AAPL')\n",
    "# stock_info = ticker.info\n",
    "# print(stock_info.get('beta'))"
   ]
  },
  {
   "cell_type": "code",
   "execution_count": 23,
   "id": "91d72fff343d3691",
   "metadata": {
    "collapsed": false,
    "ExecuteTime": {
     "end_time": "2023-11-14T04:53:27.008817700Z",
     "start_time": "2023-11-14T04:51:51.850884500Z"
    }
   },
   "outputs": [],
   "source": [
    "one_year_data = {}\n",
    "three_year_data = {}\n",
    "five_year_data = {} \n",
    "for symbol in top_300_symbols:\n",
    "    ticker = yf.Ticker(symbol)\n",
    "    one_year_data[symbol] = ticker.history(period=\"1y\")\n",
    "    three_year_data[symbol] = ticker.history(period=\"3y\")\n",
    "    five_year_data[symbol] = ticker.history(period=\"5y\")"
   ]
  },
  {
   "cell_type": "code",
   "execution_count": 24,
   "id": "6052561e",
   "metadata": {
    "ExecuteTime": {
     "end_time": "2023-11-14T04:53:27.055319300Z",
     "start_time": "2023-11-14T04:53:27.006785400Z"
    }
   },
   "outputs": [
    {
     "data": {
      "text/plain": "{'AAPL': 0.2532569689154102,\n 'MSFT': 0.53269479182366,\n 'GOOGL': 0.38025078944704027,\n 'GOOG': 0.3916484545291894,\n 'AMZN': 0.4477611882489815,\n 'NVDA': 1.985562512022651,\n 'META': 1.8820696806448503,\n 'TSLA': 0.17156329033356696,\n 'LLY': 0.7345737675515458,\n 'V': 0.19217314239362615,\n 'UNH': 0.07164587129098937,\n 'TSM': 0.3514773473407748,\n 'NVO': 0.8071784164159003,\n 'WMT': 0.2301976105292276,\n 'JPM': 0.12109221626815235,\n 'XOM': -0.052332967298438345,\n 'JNJ': -0.1165411800264168,\n 'MA': 0.16909607459887038,\n 'AVGO': 0.8941051878114836,\n 'PG': 0.10888360395586448,\n 'CVX': -0.1999408593435794,\n 'ORCL': 0.4756670123596331,\n 'HD': -0.03593613990157222,\n 'ABBV': -0.04942156536880995,\n 'MRK': 0.04905661084746388,\n 'COST': 0.14308729081994384,\n 'ADBE': 0.7344067788707931,\n 'TM': 0.3209964251572046,\n 'ASML': 0.14417260642599244,\n 'KO': -0.03383187323422096,\n 'PEP': -0.024791635770954744,\n 'BABA': 0.15323145975887562,\n 'SHEL': 0.2442411052018249,\n 'CSCO': 0.20319611329451912,\n 'BAC': -0.24518060485226925,\n 'AZN': 0.01782038847733736,\n 'NVS': 0.17650239506311344,\n 'CRM': 0.35686369475805885,\n 'ACN': 0.1098426796335122,\n 'FMX': 0.5998827690185606,\n 'TMO': -0.16548373672522046,\n 'PFE': -0.384750339414778,\n 'LIN': 0.22091206055138513,\n 'MCD': 0.010747247360625234,\n 'CMCSA': 0.25135762578402887,\n 'AMD': 0.5883313321692965,\n 'TMUS': 0.012030798289748509,\n 'NFLX': 0.4856818640003206,\n 'ABT': -0.04218936175617769,\n 'DHR': -0.1671384191034382,\n 'HSBC': 0.4227830141711505,\n 'TTE': 0.23752816531518395,\n 'DIS': -0.05133640645478507,\n 'SAP': 0.3547812529710315,\n 'INTC': 0.28903764947695126,\n 'INTU': 0.3480404741281516,\n 'AMGN': -0.03376627684428518,\n 'NKE': 0.01078270687564822,\n 'HDB': -0.15439899539216262,\n 'PDD': 0.6704389719603705,\n 'BHP': 0.028119527032137274,\n 'WFC': -0.10292354495080673,\n 'PM': 0.010575833451269029,\n 'COP': -0.09531545204443133,\n 'TXN': -0.15212292641323547,\n 'CAT': 0.042779746979457654,\n 'SNY': 0.0930736158750762,\n 'UPS': -0.19194274436677985,\n 'VZ': 0.003678552154366008,\n 'MS': -0.13208732104386967,\n 'BX': -0.001983852130831554,\n 'IBM': 0.07805413417016646,\n 'UNP': -0.009916106581191315,\n 'HON': -0.10503157290176501,\n 'QCOM': 0.052698451113262344,\n 'GE': 0.729905862750367,\n 'UL': 0.05464014242057165,\n 'RY': -0.10668429177790009,\n 'AMAT': 0.4048050208658766,\n 'BMY': -0.3201020354652058,\n 'SPGI': 0.14681357642302648,\n 'BA': 0.17856519555999578,\n 'LOW': -0.0330693603772031,\n 'NOW': 0.5944305266637434,\n 'DE': -0.07991232498561733,\n 'AXP': 0.016172439040660454,\n 'BP': 0.1129627572670792,\n 'LMT': -0.011577014202349334,\n 'BKNG': 0.5759555189781483,\n 'TD': -0.049635014300616356,\n 'NEE': -0.3158361364381017,\n 'BUD': 0.1044892979480751,\n 'ELV': -0.04841956168015808,\n 'RTX': -0.09567009286092477,\n 'T': -0.12767060142235576,\n 'SONY': 0.011041054141302463,\n 'SBUX': 0.08480513864799455,\n 'PLD': -0.06308519426936143,\n 'GS': -0.11936932752460454,\n 'ADP': -0.07543736536988585}"
     },
     "execution_count": 24,
     "metadata": {},
     "output_type": "execute_result"
    }
   ],
   "source": [
    "one_year_return_data = {}\n",
    "three_year_return_data = {}\n",
    "five_year_return_data = {}\n",
    "for key, df in one_year_data.items():\n",
    "    one_year_return_data[key] = calculate_return(one_year_data[key])\n",
    "    three_year_return_data[key] = calculate_return(three_year_data[key])\n",
    "    five_year_return_data[key] = calculate_return(five_year_data[key])\n",
    "    \n",
    "one_year_return_data"
   ]
  },
  {
   "cell_type": "code",
   "execution_count": 25,
   "outputs": [
    {
     "name": "stdout",
     "output_type": "stream",
     "text": [
      "Top Decile Overlaps: {'LLY', 'NVDA', 'NVO'}\n",
      "Bottom Decile Overlaps: set()\n"
     ]
    }
   ],
   "source": [
    "def get_deciles(data):\n",
    "    # Remove None values and sort the data\n",
    "    filtered_data = {k: v for k, v in data.items() if v is not None}\n",
    "    sorted_data = sorted(filtered_data.items(), key=lambda x: x[1])\n",
    "\n",
    "    # Calculate the index for decile\n",
    "    n = len(sorted_data)\n",
    "    decile_index = n // 10\n",
    "\n",
    "    # Get the top and bottom decile\n",
    "    bottom_decile = dict(sorted_data[:decile_index])\n",
    "    top_decile = dict(sorted_data[-decile_index:])\n",
    "\n",
    "    return top_decile, bottom_decile\n",
    "\n",
    "# Apply the function to each dataset\n",
    "top_decile_one_year, bottom_decile_one_year = get_deciles(one_year_return_data)\n",
    "top_decile_three_year, bottom_decile_three_year = get_deciles(three_year_return_data)\n",
    "top_decile_five_year, bottom_decile_five_year = get_deciles(five_year_return_data)\n",
    "\n",
    "# Find overlapping keys in the top deciles\n",
    "overlapping_top_keys = set(top_decile_one_year.keys()) & set(top_decile_three_year.keys()) & set(top_decile_five_year.keys())\n",
    "\n",
    "# Find overlapping keys in the bottom deciles\n",
    "overlapping_bottom_keys = set(bottom_decile_one_year.keys()) & set(bottom_decile_three_year.keys()) & set(bottom_decile_five_year.keys())\n",
    "\n",
    "# Print results\n",
    "print(\"Top Decile Overlaps:\", overlapping_top_keys)\n",
    "print(\"Bottom Decile Overlaps:\", overlapping_bottom_keys)\n"
   ],
   "metadata": {
    "collapsed": false,
    "ExecuteTime": {
     "end_time": "2023-11-14T04:53:27.069030500Z",
     "start_time": "2023-11-14T04:53:27.053232900Z"
    }
   },
   "id": "ddee68127c2c96fb"
  },
  {
   "cell_type": "code",
   "execution_count": null,
   "id": "d1e58b70",
   "metadata": {
    "ExecuteTime": {
     "start_time": "2023-11-14T04:51:47.657165300Z"
    }
   },
   "outputs": [],
   "source": [
    "'''''\n",
    "filtered_data_one_year = {key: value for key, value in one_year_return_data.items() if value is not None and value >= 0.15 and value <= 0.8}\n",
    "filtered_data_three_year = {key: value for key, value in three_year_return_data.items() if value is not None and value >= 0.10}\n",
    "filtered_data_five_year = {key: value for key, value in five_year_return_data.items() if value is not None and value >= 0.10}\n",
    "\n",
    "print(filtered_data_one_year.values())\n",
    "print(filtered_data_three_year.values())\n",
    "print(filtered_data_five_year.values())\n",
    "overlapping_keys = set(filtered_data_one_year.keys()) & set(filtered_data_three_year.keys()) & set(filtered_data_five_year.keys())\n",
    "'''\n"
   ]
  },
  {
   "cell_type": "code",
   "execution_count": null,
   "id": "3b33cadb",
   "metadata": {
    "ExecuteTime": {
     "end_time": "2023-11-14T04:51:47.668018900Z",
     "start_time": "2023-11-14T04:51:47.661431400Z"
    }
   },
   "outputs": [],
   "source": [
    "overlapping_keys"
   ]
  },
  {
   "cell_type": "code",
   "execution_count": null,
   "id": "dfbaf4c0",
   "metadata": {
    "ExecuteTime": {
     "start_time": "2023-11-14T04:51:47.664960200Z"
    }
   },
   "outputs": [],
   "source": [
    "betas = {}\n",
    "\n",
    "for key in overlapping_keys:\n",
    "    try:\n",
    "        beta = yf.Ticker(key).info.get('beta')\n",
    "        if beta is not None and 0.70 < beta <= 2.50:\n",
    "            betas[key] = beta\n",
    "    except Exception as e:\n",
    "        print(f\"An error occurred for ticker {key}: {e}\")\n",
    "\n",
    "print(len(betas))"
   ]
  },
  {
   "cell_type": "code",
   "execution_count": null,
   "id": "90a87ddddc9cfe05",
   "metadata": {
    "collapsed": false,
    "ExecuteTime": {
     "end_time": "2023-11-14T04:51:47.669210Z",
     "start_time": "2023-11-14T04:51:47.669210Z"
    }
   },
   "outputs": [],
   "source": [
    "filtered_beta = {key: value for key, value in betas.items() if value is not None and value > 0.70 and value <= 2.50}\n",
    "\n",
    "df_filtered_beta_keys = pd.DataFrame(list(filtered_beta.keys()), columns=['Symbol'])\n",
    "df_filtered_beta_keys"
   ]
  },
  {
   "cell_type": "code",
   "execution_count": null,
   "id": "34ae0499",
   "metadata": {
    "ExecuteTime": {
     "start_time": "2023-11-14T04:51:47.674161400Z"
    }
   },
   "outputs": [],
   "source": [
    "merged_df = pd.merge(df_filtered_beta_keys, largest_market_cap, on='Symbol', how='left')\n",
    "merged_df"
   ]
  },
  {
   "cell_type": "markdown",
   "id": "f1658aa0",
   "metadata": {},
   "source": [
    "### Semiconductor Equipment & Materials: ASML Holding N.V. (ASML)\n",
    "### Internet Content & Information: Alphabet Inc. (GOOG or GOOGL)\n",
    "### Information Technology Services: Accenture plc (ACN)\n",
    "### Consumer Electronics: Apple Inc. (AAPL)\n",
    "### Software - Application: Intuit Inc. (INTU)\n",
    "### Credit Services: Visa Inc. (V)\n",
    "### Asset Management: Blackstone Inc. (BX)\n",
    "### Oil & Gas Integrated: TotalEnergies SE (TTE)\n",
    "### Travel Services: Booking Holdings Inc. (BKNG)\n",
    "### Software - Infrastructure: Microsoft Corporation (MSFT)"
   ]
  },
  {
   "cell_type": "markdown",
   "id": "06b6da37",
   "metadata": {},
   "source": [
    "# Pull past 1 years' data and calculate their daily actual returns"
   ]
  },
  {
   "cell_type": "code",
   "execution_count": null,
   "id": "c4b3abf7",
   "metadata": {
    "ExecuteTime": {
     "start_time": "2023-11-14T04:51:47.678489900Z"
    }
   },
   "outputs": [],
   "source": [
    "stocks = [\"ASML\", \"GOOG\", \"ACN\", \"AAPL\", \"INTU\", \"V\", \"BX\", \"TTE\", \"BKNG\", \"MSFT\"]"
   ]
  },
  {
   "cell_type": "code",
   "execution_count": null,
   "id": "24fe240e",
   "metadata": {
    "ExecuteTime": {
     "start_time": "2023-11-14T04:51:47.683567500Z"
    }
   },
   "outputs": [],
   "source": [
    "daily_actual_returns = {}\n",
    "for s in stocks:\n",
    "    daily_actual_returns[s] = one_year_data[s]['Close'].pct_change(1).dropna()"
   ]
  },
  {
   "cell_type": "code",
   "execution_count": null,
   "id": "9f1589b9",
   "metadata": {
    "ExecuteTime": {
     "start_time": "2023-11-14T04:51:47.685827600Z"
    }
   },
   "outputs": [],
   "source": [
    "combined_daily_actual_returns = pd.concat(daily_actual_returns, axis=1)\n",
    "combined_daily_actual_returns"
   ]
  },
  {
   "cell_type": "code",
   "execution_count": null,
   "id": "1bb83904",
   "metadata": {
    "ExecuteTime": {
     "start_time": "2023-11-14T04:51:47.687169800Z"
    }
   },
   "outputs": [],
   "source": [
    "five_year_expected_returns = combined_daily_actual_returns.mean().to_frame(name='Annual Expected Return')*252\n",
    "five_year_expected_returns['Annual Expected Return'].to_frame().T"
   ]
  },
  {
   "cell_type": "code",
   "execution_count": null,
   "id": "be5d5d92",
   "metadata": {
    "ExecuteTime": {
     "start_time": "2023-11-14T04:51:47.689201700Z"
    }
   },
   "outputs": [],
   "source": [
    "five_year_std_dev = np.sqrt(combined_daily_actual_returns.var().to_frame(name='Standard Deviation')*252)\n",
    "five_year_std_dev['Standard Deviation'].to_frame().T"
   ]
  },
  {
   "cell_type": "code",
   "execution_count": null,
   "id": "7e7a60f5",
   "metadata": {
    "ExecuteTime": {
     "end_time": "2023-11-14T04:51:47.692740900Z",
     "start_time": "2023-11-14T04:51:47.691231100Z"
    }
   },
   "outputs": [],
   "source": [
    "cov_matrix = combined_daily_actual_returns.cov()\n",
    "display(cov_matrix)\n",
    "plt.figure(figsize=(10, 8))\n",
    "sns.heatmap(cov_matrix, annot=True, cmap='coolwarm', fmt='.4f')\n",
    "plt.title(\"Covariance Matrix\")\n",
    "plt.show()"
   ]
  },
  {
   "cell_type": "markdown",
   "id": "ee800dcd",
   "metadata": {},
   "source": [
    "### Get the 30 years Treasury Bond"
   ]
  },
  {
   "cell_type": "code",
   "execution_count": null,
   "id": "727a783c",
   "metadata": {
    "ExecuteTime": {
     "end_time": "2023-11-14T04:51:47.772385800Z",
     "start_time": "2023-11-14T04:51:47.693761700Z"
    }
   },
   "outputs": [],
   "source": [
    "tyx = yf.Ticker(\"^TYX\")\n",
    "\n",
    "# Get the historical data (most recent data)\n",
    "data = tyx.history(period=\"5d\")\n",
    "\n",
    "# Extract the close value, which represents the yield\n",
    "latest_yield = data['Close'].iloc[0]\n",
    "\n",
    "print(f\"Current 30-year Treasury bond yield: {latest_yield}%\")"
   ]
  },
  {
   "cell_type": "code",
   "execution_count": null,
   "id": "23aa9e54",
   "metadata": {
    "ExecuteTime": {
     "start_time": "2023-11-14T04:51:47.697041800Z"
    }
   },
   "outputs": [],
   "source": []
  }
 ],
 "metadata": {
  "kernelspec": {
   "display_name": "Python 3",
   "language": "python",
   "name": "python3"
  },
  "language_info": {
   "codemirror_mode": {
    "name": "ipython",
    "version": 3
   },
   "file_extension": ".py",
   "mimetype": "text/x-python",
   "name": "python",
   "nbconvert_exporter": "python",
   "pygments_lexer": "ipython3",
   "version": "3.9.18"
  }
 },
 "nbformat": 4,
 "nbformat_minor": 5
}
